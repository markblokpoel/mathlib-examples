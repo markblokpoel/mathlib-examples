{
 "cells": [
  {
   "cell_type": "markdown",
   "id": "8c6890c4-cdca-4483-b568-4a3cbf4d1f78",
   "metadata": {},
   "source": [
    "## 1.2 Blocks and scope\n",
    "\n",
    "The notions of *block* and *scope* are important to understand when writing code. At each point in your code, you have access to a subset of all values and variables defined in your code. Whenever a value or variable is in the subset it is *in scope*. What is within scope, depends on the structure of your code which is determined by blocks.\n",
    "\n",
    "In Scala a *block* is a sequence of expressions delineated by curly brackets. A block evaluates to a value which is the value of the last statement in the block. If no final statement is present, the block evaluates to ```Unit```, a special value denoting nothing. (You will notice that Jupyter lab will not print values with type Unit.)"
   ]
  },
  {
   "cell_type": "code",
   "execution_count": null,
   "id": "cc766d58-92bc-4227-b0e2-0a7ed0321ca2",
   "metadata": {},
   "outputs": [],
   "source": [
    "{\n",
    "  val a = 3\n",
    "  val b = 6\n",
    "  a + b       // This block evaluates to 9 with type Int.\n",
    "}"
   ]
  },
  {
   "cell_type": "markdown",
   "id": "24c4b679-48b4-41af-a913-375f4c933e8b",
   "metadata": {},
   "source": [
    "One can even assign the value of a block:"
   ]
  },
  {
   "cell_type": "code",
   "execution_count": null,
   "id": "f5efb2cb-65d4-4e82-9834-6f6d6daf65bc",
   "metadata": {},
   "outputs": [],
   "source": [
    "val blockValue: String = {\n",
    "    val t = \"Theory\"\n",
    "    val r = \" rocks\"\n",
    "    t + r\n",
    "}"
   ]
  },
  {
   "cell_type": "markdown",
   "id": "113e116c-5e9c-4157-8288-89cffb515f09",
   "metadata": {},
   "source": [
    "Blocks can be nested within eachother. Which is useful for structuring your code.\n",
    "\n",
    "<div class=\"alert alert-block\">\n",
    "<b>Question 1</b><br/>\n",
    "Before running to code block below, what is the value of the outermost block?\n",
    "<details>\n",
    "<summary>Hint?</summary>\n",
    "A code block evaluates to the value of the final statement in the block.\n",
    "</details>\n",
    "</div>"
   ]
  },
  {
   "cell_type": "code",
   "execution_count": null,
   "id": "cc6a157b-615f-45a1-b4d3-7c878cddcf09",
   "metadata": {},
   "outputs": [],
   "source": [
    "{\n",
    "    {\n",
    "        2 + 3\n",
    "    }\n",
    "    9\n",
    "}"
   ]
  },
  {
   "cell_type": "markdown",
   "id": "ca2762fb-8c9c-46ee-8347-b6004b6e7791",
   "metadata": {},
   "source": [
    "However, this nested structure has implications for what values and variables are within scope.  Within a particular block, you can only access values and variables:\n",
    "* defined within that block, and\n",
    "* to those in scope of the block that contains this block.\n",
    "\n",
    "The following code compiles because it respects scope:"
   ]
  },
  {
   "cell_type": "code",
   "execution_count": null,
   "id": "bf66bee1-c071-4ca0-a5e0-8beaba09986e",
   "metadata": {},
   "outputs": [],
   "source": [
    "{\n",
    "    val x = 3\n",
    "    \n",
    "    {\n",
    "        val p = 5\n",
    "        p + x\n",
    "    }\n",
    "\n",
    "    {\n",
    "        val a = 7\n",
    "        a + x\n",
    "    }\n",
    "    \n",
    "    x + x\n",
    "}"
   ]
  },
  {
   "cell_type": "markdown",
   "id": "44733fce-5320-4963-952c-b7abdb4ed14a",
   "metadata": {},
   "source": [
    "However, some values are not within scope in some blocks. For example, in the second nested block, value ```p``` is not in scope.\n",
    "\n",
    "<div class=\"alert alert-block\">\n",
    "<b>Question 2</b><br/>\n",
    "For each block, list what values from all defined values (<code>x</code>, <code>p</code> and <code>a</code>) are in scope.\n",
    "<details>\n",
    "<summary>Hint?</summary>\n",
    "Use the definition of scope and work out what values are *in* scope to determine what values are *not* in scope.\n",
    "</details>\n",
    "</div>\n",
    "\n",
    "If you write code that tries to access a value or variable that is not in scope, the compiler will result in an error stating which value cannot be found."
   ]
  },
  {
   "cell_type": "code",
   "execution_count": null,
   "id": "c4028ddd-a769-4396-9d94-857ea964fc50",
   "metadata": {},
   "outputs": [],
   "source": [
    "{\n",
    "    val x = 3\n",
    "    {\n",
    "        val p = 5\n",
    "        p + 1\n",
    "    }\n",
    "    x + p  // Cannot access p\n",
    "}"
   ]
  },
  {
   "cell_type": "markdown",
   "id": "facaaefe-cbfa-499f-a104-815f8a0104cd",
   "metadata": {},
   "source": [
    "## Next section\n",
    "\n",
    "We continue next with [1.3 Conditional](01.03-scala_introduction-conditional.ipynb)."
   ]
  }
 ],
 "metadata": {
  "kernelspec": {
   "display_name": "Scala",
   "language": "scala",
   "name": "scala"
  },
  "language_info": {
   "codemirror_mode": "text/x-scala",
   "file_extension": ".sc",
   "mimetype": "text/x-scala",
   "name": "scala",
   "nbconvert_exporter": "script",
   "version": "2.13.8"
  }
 },
 "nbformat": 4,
 "nbformat_minor": 5
}
