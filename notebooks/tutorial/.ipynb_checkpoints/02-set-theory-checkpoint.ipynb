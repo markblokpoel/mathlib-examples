{
 "cells": [
  {
   "cell_type": "markdown",
   "id": "e4b6d2f0-bf28-44bb-b6bf-b4d1ad9ecc7c",
   "metadata": {},
   "source": [
    "# Set Theory\n",
    "\n",
    "Here, we illustrate how to code set theory expressions in Scala with mathlib. We also introduce the mathematical concepts borrowing the introduction from Chapter 3 from Formal Theory for Cognitive Science and Psychology by Blokpoel and van Rooij (2021). We assume that you've worked through the previous tutorial notebooks first.\n",
    "\n",
    "Before we start, we need to import the relevant packages."
   ]
  },
  {
   "cell_type": "code",
   "execution_count": 5,
   "id": "540c30e4-ed9c-4da3-a7d3-556c5fc11790",
   "metadata": {},
   "outputs": [
    {
     "data": {
      "text/plain": [
       "\u001b[32mimport \u001b[39m\u001b[36mcoursierapi._\n",
       "\u001b[39m"
      ]
     },
     "execution_count": 5,
     "metadata": {},
     "output_type": "execute_result"
    }
   ],
   "source": [
    "import coursierapi._\n",
    "interp.repositories() ++= Seq(\n",
    "    MavenRepository.of(\"https://jitpack.io\")\n",
    ")"
   ]
  },
  {
   "cell_type": "code",
   "execution_count": 6,
   "id": "30a4f24e-7362-4327-97bf-ffae9e6dd102",
   "metadata": {},
   "outputs": [
    {
     "data": {
      "text/plain": [
       "\u001b[32mimport \u001b[39m\u001b[36m$ivy.$                                                   \n",
       "\u001b[39m\n",
       "\u001b[32mimport \u001b[39m\u001b[36mmathlib.set.SetTheory._\u001b[39m"
      ]
     },
     "execution_count": 6,
     "metadata": {},
     "output_type": "execute_result"
    }
   ],
   "source": [
    "import $ivy.`com.github.markblokpoel.mathlib::mathlib:-SNAPSHOT`\n",
    "import mathlib.set.SetTheory._"
   ]
  },
  {
   "cell_type": "markdown",
   "id": "8c3cedd2-0282-4f26-9327-e98c50bf749f",
   "metadata": {},
   "source": [
    "<img style=\"float: right;width: 15rem;\" src=\"images/set-eg.svg\" />\n",
    "\n",
    "A set is a collection of distinct objects. For example, a set of people $P={Ramiro,Brenda,Molly}$, animals $A={cat,turtle,blue whale,cuttlefish}$ or numbers $N={1,5,7,12}$. Sets are usually denoted in math by a capital letter and their elements listed between curly brackets. They can also be visualized as circles. In Scala, it is convention to start value labels in lower case (see [Naming Conventions](https://docs.scala-lang.org/style/naming-conventions.html#constants-values-and-variables)).\n",
    "\n",
    "Sets can contain an infinite number of objects, e.g. all positive odd numbers $O={1,3,5,7,\\dots}$, but this is more difficult to represent in a computer so we skip it here."
   ]
  },
  {
   "cell_type": "code",
   "execution_count": 7,
   "id": "48cafa00-4207-499e-bf82-63503502116b",
   "metadata": {},
   "outputs": [
    {
     "data": {
      "text/plain": [
       "\u001b[36mpeople\u001b[39m: \u001b[32mSet\u001b[39m[\u001b[32mString\u001b[39m] = \u001b[33mSet\u001b[39m(\u001b[32m\"Ramiro\"\u001b[39m, \u001b[32m\"Brenda\"\u001b[39m, \u001b[32m\"Molly\"\u001b[39m)\n",
       "\u001b[36manimals\u001b[39m: \u001b[32mSet\u001b[39m[\u001b[32mString\u001b[39m] = \u001b[33mSet\u001b[39m(\u001b[32m\"cat\"\u001b[39m, \u001b[32m\"turtle\"\u001b[39m, \u001b[32m\"blue whale\"\u001b[39m, \u001b[32m\"cuttlefish\"\u001b[39m)\n",
       "\u001b[36mnumbers\u001b[39m: \u001b[32mSet\u001b[39m[\u001b[32mInt\u001b[39m] = \u001b[33mSet\u001b[39m(\u001b[32m1\u001b[39m, \u001b[32m5\u001b[39m, \u001b[32m7\u001b[39m, \u001b[32m12\u001b[39m)"
      ]
     },
     "execution_count": 7,
     "metadata": {},
     "output_type": "execute_result"
    }
   ],
   "source": [
    "val people = Set(\n",
    "    \"Ramiro\",\n",
    "    \"Brenda\",\n",
    "    \"Molly\"\n",
    ")\n",
    "\n",
    "val animals = Set(\n",
    "    \"cat\",\n",
    "    \"turtle\",\n",
    "    \"blue whale\",\n",
    "    \"cuttlefish\"\n",
    ")\n",
    "\n",
    "val numbers = Set(1, 5, 7, 12)"
   ]
  },
  {
   "cell_type": "markdown",
   "id": "4d35984b-36d7-46bb-8063-bdd20f2694e7",
   "metadata": {
    "tags": []
   },
   "source": [
    "## Set membership\n",
    "\n",
    "When we want to write that an object $x$ is (or is not) part of a set $X$, we use _set membership_ notation:\n",
    "\n",
    "<img style=\"float: right;width: 15rem;\" src=\"images/set-in.svg\" />\n",
    "\n",
    "$$5 \\in N\\\\17 \\notin N\\\\\\text{Ramiro}\\in P\\\\\\text{Saki}\\notin P$$\n",
    "\n",
    "\n",
    "In Scala code, set membership is a built-in function of Sets that returns a ```Boolean``` value (```true``` of ```false```). We call the function using the dot-notation:"
   ]
  },
  {
   "cell_type": "code",
   "execution_count": 8,
   "id": "94c93b26-2a81-4e52-8638-7346183ec93f",
   "metadata": {},
   "outputs": [
    {
     "data": {
      "text/plain": [
       "\u001b[36mres7_0\u001b[39m: \u001b[32mBoolean\u001b[39m = true\n",
       "\u001b[36mres7_1\u001b[39m: \u001b[32mBoolean\u001b[39m = false\n",
       "\u001b[36mres7_2\u001b[39m: \u001b[32mBoolean\u001b[39m = true\n",
       "\u001b[36mres7_3\u001b[39m: \u001b[32mBoolean\u001b[39m = false"
      ]
     },
     "execution_count": 8,
     "metadata": {},
     "output_type": "execute_result"
    }
   ],
   "source": [
    "numbers.contains(5)\n",
    "numbers.contains(17)\n",
    "people.contains(\"Ramiro\")\n",
    "people.contains(\"Saki\")"
   ]
  },
  {
   "cell_type": "markdown",
   "id": "02f2b6b6-ceb4-4332-86b4-079e24ca6b90",
   "metadata": {},
   "source": [
    "## Subset and superset\n",
    "\n",
    "<div style=\"float: right;width: 15rem;\">\n",
    "<img src=\"images/set-sub.svg\" /><br/>\n",
    "<img src=\"images/set-sup.svg\" />\n",
    "</div>\n",
    "\n",
    "Often, we want to express things like 'the set of mammals $M$ is part of the set of all animals $A$'. We then use _subset_ notation: $M\\subseteq A$ or $M\\subset A$. The latter means that $M$ is smaller than $A$.\n",
    "\n",
    "Vice versa, we can express that 'the set of all things on earth $T$ contains all animals $A$' using _superset_ notation: $T\\supseteq A$ or $T\\supset A$. The latter means that $T$ is bigger than $A$.\n",
    "\n",
    "In Scala, these relationships are defined as functions between two sets that can be called with two labels, depending on your preference:\n",
    "\n",
    "| math | Scala code | succinct Scala code |\n",
    "|:--:|:--:|:--:|\n",
    "| $\\subset$ | ```isSubsetOf``` | ```<``` |\n",
    "| $\\subseteq$ | ```isSubsetEqOf``` | ```<=``` |\n",
    "| $\\supset$ | ```isSupersetOf``` | ```>``` |\n",
    "| $\\supseteq$ | ```isSupersetEqOf``` | ```>=``` |\n"
   ]
  },
  {
   "cell_type": "code",
   "execution_count": 9,
   "id": "f4a8bd8e-ec9f-4427-9aff-e401c88e01cd",
   "metadata": {},
   "outputs": [
    {
     "data": {
      "text/plain": [
       "\u001b[36mres8_0\u001b[39m: \u001b[32mBoolean\u001b[39m = true\n",
       "\u001b[36mres8_1\u001b[39m: \u001b[32mBoolean\u001b[39m = true\n",
       "\u001b[36mres8_2\u001b[39m: \u001b[32mBoolean\u001b[39m = true\n",
       "\u001b[36mres8_3\u001b[39m: \u001b[32mBoolean\u001b[39m = false"
      ]
     },
     "execution_count": 9,
     "metadata": {},
     "output_type": "execute_result"
    }
   ],
   "source": [
    "Set(\"cat\", \"blue whale\") isSubsetOf animals\n",
    "Set(\"Brenda\", \"Molly\") <= people\n",
    "Set(1, 5, 7, 12, 15, 22) > numbers\n",
    "numbers isSupersetOf numbers"
   ]
  },
  {
   "cell_type": "markdown",
   "id": "db13da0f-a96d-4c57-b265-07d996bc7164",
   "metadata": {},
   "source": [
    "## Intersection, union and difference\n",
    "\n",
    "<div style=\"overflow: auto;\">\n",
    "    <img style=\"float: right;width: 15rem;\" src=\"images/set-two.svg\" />\n",
    "Let's look at what more we can do with two sets. For example, take the set of your friends and my friends.\n",
    "<br/><br/>\n",
    "    \n",
    "$$F_{you}=\\{\\text{John},\\text{Roberto},\\text{Holly},\\text{Doris},\\text{Charlene}\\}$$\n",
    "\n",
    "$$F_{me}=\\{\\text{Vicky},\\text{Charlene},\\text{Ramiro},\\text{Johnnie},\\text{Roberto}\\}$$\n",
    "</div>\n",
    "\n",
    "\n",
    "<div style=\"overflow: auto;\">\n",
    "<img style=\"float: right;width: 15rem;overflow: auto;\" src=\"images/set-intersection.svg\" />\n",
    "\n",
    "Who are our common friends? We use _set intersection_:\n",
    "\n",
    "$$F_{you}\\cap F_{me} = \\{\\text{Roberto},\\text{Charlene}\\}$$\n",
    "</div>\n",
    "\n",
    "<div style=\"overflow: auto;\">\n",
    "    <img style=\"float: right;width: 15rem;overflow: auto;\" src=\"images/set-union.svg\" />\n",
    "    \n",
    "Who do we know together? We use _set union_:\n",
    "\n",
    "$$F_{you}\\cup F_{me} = \\{\\text{John},\\text{Roberto},\\text{Holly},\\text{Doris},\\text{Charlene},\\text{Vicky},\\text{Ramiro},\\text{Johnnie}\\}$$\n",
    "</div>\n",
    "\n",
    "\n",
    "<div style=\"overflow: auto;\">\n",
    "<img style=\"float: right;width: 15rem;\" src=\"images/set-minus.svg\" />\n",
    "\n",
    "    Who do I know that you do not know? We use _set difference_:\n",
    "\n",
    "$$F_{me}\\setminus F_{you}=\\{\\text{Vicky},\\text{Ramiro},\\text{Johnnie}\\}$$\n",
    "</div>\n",
    "\n",
    "In Scala, these expressions are defined as functions between two sets that can be called with two labels, depending on your preference:\n",
    "\n",
    "| math | Scala code | succinct Scala code |\n",
    "|:--:|:--:|:--:|\n",
    "| $\\subset$ | ```intersect``` | ```/\\``` |\n",
    "| $\\subseteq$ | ```union``` | ```\\/``` |\n",
    "| $\\supset$ | ```diff``` | ```\\``` |"
   ]
  },
  {
   "cell_type": "code",
   "execution_count": 10,
   "id": "ebdf1675-f4b1-4fd6-9851-ffee32beba57",
   "metadata": {},
   "outputs": [
    {
     "data": {
      "text/plain": [
       "\u001b[36mfYou\u001b[39m: \u001b[32mSet\u001b[39m[\u001b[32mString\u001b[39m] = \u001b[33mHashSet\u001b[39m(\u001b[32m\"John\"\u001b[39m, \u001b[32m\"Roberto\"\u001b[39m, \u001b[32m\"Charlene\"\u001b[39m, \u001b[32m\"Doris\"\u001b[39m, \u001b[32m\"Holly\"\u001b[39m)\n",
       "\u001b[36mfMe\u001b[39m: \u001b[32mSet\u001b[39m[\u001b[32mString\u001b[39m] = \u001b[33mHashSet\u001b[39m(\u001b[32m\"Johnnie\"\u001b[39m, \u001b[32m\"Roberto\"\u001b[39m, \u001b[32m\"Vicky\"\u001b[39m, \u001b[32m\"Charlene\"\u001b[39m, \u001b[32m\"Ramiro\"\u001b[39m)\n",
       "\u001b[36mres9_2\u001b[39m: \u001b[32mSet\u001b[39m[\u001b[32mString\u001b[39m] = \u001b[33mHashSet\u001b[39m(\u001b[32m\"Roberto\"\u001b[39m, \u001b[32m\"Charlene\"\u001b[39m)\n",
       "\u001b[36mres9_3\u001b[39m: \u001b[32mSet\u001b[39m[\u001b[32mString\u001b[39m] = \u001b[33mHashSet\u001b[39m(\n",
       "  \u001b[32m\"John\"\u001b[39m,\n",
       "  \u001b[32m\"Johnnie\"\u001b[39m,\n",
       "  \u001b[32m\"Roberto\"\u001b[39m,\n",
       "  \u001b[32m\"Vicky\"\u001b[39m,\n",
       "  \u001b[32m\"Charlene\"\u001b[39m,\n",
       "  \u001b[32m\"Ramiro\"\u001b[39m,\n",
       "  \u001b[32m\"Doris\"\u001b[39m,\n",
       "  \u001b[32m\"Holly\"\u001b[39m\n",
       ")\n",
       "\u001b[36mres9_4\u001b[39m: \u001b[32mSet\u001b[39m[\u001b[32mString\u001b[39m] = \u001b[33mHashSet\u001b[39m(\u001b[32m\"John\"\u001b[39m, \u001b[32m\"Doris\"\u001b[39m, \u001b[32m\"Holly\"\u001b[39m)"
      ]
     },
     "execution_count": 10,
     "metadata": {},
     "output_type": "execute_result"
    }
   ],
   "source": [
    "val fYou = Set(\"John\", \"Roberto\", \"Holly\", \"Doris\", \"Charlene\")\n",
    "val fMe = Set(\"Vicky\", \"Charlene\", \"Ramiro\", \"Johnnie\", \"Roberto\")\n",
    "\n",
    "fYou intersect fMe\n",
    "fYou \\/ fMe\n",
    "fYou \\ fMe"
   ]
  },
  {
   "cell_type": "markdown",
   "id": "d751d9e0-1e7b-4213-be76-7e8f913cef66",
   "metadata": {},
   "source": [
    "## Random element\n",
    "\n",
    "While not often used in mathematical expressions, coding with sets sometimes necessitates retrieving an element from a set. For this, we can call the function ```.random``` on any set, which will return a random element from the set."
   ]
  },
  {
   "cell_type": "code",
   "execution_count": 11,
   "id": "6f2d34e6-91ea-4598-ab85-8fc45759850b",
   "metadata": {},
   "outputs": [
    {
     "data": {
      "text/plain": [
       "\u001b[36mres10_0\u001b[39m: \u001b[32mOption\u001b[39m[\u001b[32mString\u001b[39m] = \u001b[33mSome\u001b[39m(value = \u001b[32m\"Brenda\"\u001b[39m)\n",
       "\u001b[36mres10_1\u001b[39m: \u001b[32mOption\u001b[39m[\u001b[32mString\u001b[39m] = \u001b[33mSome\u001b[39m(value = \u001b[32m\"Ramiro\"\u001b[39m)"
      ]
     },
     "execution_count": 11,
     "metadata": {},
     "output_type": "execute_result"
    }
   ],
   "source": [
    "people.random\n",
    "(fYou \\/ fMe).random"
   ]
  },
  {
   "cell_type": "markdown",
   "id": "a7c2a8f6-fb57-441e-bfb2-7a2e6f15bd2c",
   "metadata": {},
   "source": [
    "## Set builder\n",
    "\n",
    "A more advanced way to denote sets, is to define a set using _set builder_ notation. This allows us to define (build) a new set given other set(s). A set builder consists of two parts, a variable and a logical predicate:\n",
    "\n",
    "$$\\{\\text{variable}~|~\\text{predicate}\\}$$\n",
    "\n",
    "<div style=\"overflow: auto;\">\n",
    "    <img style=\"float: right;width: 15rem;overflow: auto;\" src=\"images/set-builder.svg\" />\n",
    "\n",
    "Let's look at an example and build a set of all mammals from $A$. We explain logical predicates below, for now lets use verbal language:\n",
    "\n",
    "$$M=\\{a~|~a\\in A\\text{ and }a\\text{ is a mammal}\\}$$\n",
    "\n",
    "You can read this as '$M$ contains all $a$'s _with the property that_ $a\\in A$ and $a$ is a mammal'.\n",
    "</div>\n",
    "\n",
    "In Scala, we'll first need to define a function that represents the statement 'is a mammal'. This function returns a Boolean which is true is the animal provided is a blue whale or a cat (i.e., a mammal). This function is of course a toy example, we're not going to exhaustively list all mammals.\n",
    "\n",
    "Next, we call set builder in two ways, similar to before. If we use the word ```build``` then the expression is simple. If we use the symbol notation, which more closely represents the mathematical syntax, Scala will expect us to add an underscore to the function. The reason for this is beyond the scope of this tutorial, but if no underscore is provided the compiler gives us a ```missing argument list``` error."
   ]
  },
  {
   "cell_type": "code",
   "execution_count": 12,
   "id": "99c06ca2-5035-41ce-86c7-0678123c970b",
   "metadata": {},
   "outputs": [
    {
     "data": {
      "text/plain": [
       "defined \u001b[32mfunction\u001b[39m \u001b[36misMammal\u001b[39m\n",
       "\u001b[36mres11_1\u001b[39m: \u001b[32mSet\u001b[39m[\u001b[32mString\u001b[39m] = \u001b[33mSet\u001b[39m(\u001b[32m\"cat\"\u001b[39m, \u001b[32m\"blue whale\"\u001b[39m)\n",
       "\u001b[36mres11_2\u001b[39m: \u001b[32mSet\u001b[39m[\u001b[32mString\u001b[39m] = \u001b[33mSet\u001b[39m(\u001b[32m\"cat\"\u001b[39m, \u001b[32m\"blue whale\"\u001b[39m)"
      ]
     },
     "execution_count": 12,
     "metadata": {},
     "output_type": "execute_result"
    }
   ],
   "source": [
    "def isMammal(animal: String): Boolean = \n",
    "    (animal == \"blue whale\") || (animal == \"cat\")\n",
    "\n",
    "animals build isMammal\n",
    "\n",
    "{ animals | isMammal _ }"
   ]
  },
  {
   "cell_type": "markdown",
   "id": "27730d6f-628a-457a-b485-116318079a77",
   "metadata": {},
   "source": [
    "## Cardinal product\n",
    "\n",
    "<div style=\"overflow: auto;\">\n",
    "    <img style=\"float: right;width: 15rem;overflow: auto;\" src=\"images/set-cardinal.svg\" />\n",
    "Set builder notation is useful to filter objects from a single set, but becomes very potent when building from multiple sets. For example:\n",
    "\n",
    "$$F=\\{(p,a)~|~p\\in P\\text{ AND }a\\in A\\}$$\n",
    "</div>\n",
    "\n",
    "Read this as '$F$ contains all pairs of $p$ and $a$ _with the property that_ $p$ is a person and $a$ is an animal'. Pairs are denoted in brackets. You can think of $F$ containing all possible combinations of person-animal pairs. For example, these are all the options you have when trying to guess what the favorite animals are of your friends.\n",
    "\n",
    "Many other set builders are possible too, but this specific 'pair builder' is called the _cardinal product_ of two sets. It is used often enough that it has its own special symbol: $F=P\\times A$."
   ]
  },
  {
   "cell_type": "code",
   "execution_count": 13,
   "id": "4676535c-8638-4d70-966e-d2cde341d885",
   "metadata": {},
   "outputs": [
    {
     "data": {
      "text/plain": [
       "\u001b[36mres12_0\u001b[39m: \u001b[32mSet\u001b[39m[(\u001b[32mString\u001b[39m, \u001b[32mString\u001b[39m)] = \u001b[33mHashSet\u001b[39m(\n",
       "  (\u001b[32m\"turtle\"\u001b[39m, \u001b[32m\"Brenda\"\u001b[39m),\n",
       "  (\u001b[32m\"turtle\"\u001b[39m, \u001b[32m\"Ramiro\"\u001b[39m),\n",
       "  (\u001b[32m\"cuttlefish\"\u001b[39m, \u001b[32m\"Ramiro\"\u001b[39m),\n",
       "  (\u001b[32m\"turtle\"\u001b[39m, \u001b[32m\"Molly\"\u001b[39m),\n",
       "  (\u001b[32m\"blue whale\"\u001b[39m, \u001b[32m\"Molly\"\u001b[39m),\n",
       "  (\u001b[32m\"cuttlefish\"\u001b[39m, \u001b[32m\"Molly\"\u001b[39m),\n",
       "  (\u001b[32m\"cuttlefish\"\u001b[39m, \u001b[32m\"Brenda\"\u001b[39m),\n",
       "  (\u001b[32m\"blue whale\"\u001b[39m, \u001b[32m\"Brenda\"\u001b[39m),\n",
       "  (\u001b[32m\"blue whale\"\u001b[39m, \u001b[32m\"Ramiro\"\u001b[39m),\n",
       "  (\u001b[32m\"cat\"\u001b[39m, \u001b[32m\"Ramiro\"\u001b[39m),\n",
       "  (\u001b[32m\"cat\"\u001b[39m, \u001b[32m\"Brenda\"\u001b[39m),\n",
       "  (\u001b[32m\"cat\"\u001b[39m, \u001b[32m\"Molly\"\u001b[39m)\n",
       ")\n",
       "\u001b[36mres12_1\u001b[39m: \u001b[32mSet\u001b[39m[(\u001b[32mString\u001b[39m, \u001b[32mString\u001b[39m)] = \u001b[33mHashSet\u001b[39m(\n",
       "  (\u001b[32m\"Ramiro\"\u001b[39m, \u001b[32m\"cat\"\u001b[39m),\n",
       "  (\u001b[32m\"Brenda\"\u001b[39m, \u001b[32m\"turtle\"\u001b[39m),\n",
       "  (\u001b[32m\"Brenda\"\u001b[39m, \u001b[32m\"cuttlefish\"\u001b[39m),\n",
       "  (\u001b[32m\"Molly\"\u001b[39m, \u001b[32m\"turtle\"\u001b[39m),\n",
       "  (\u001b[32m\"Ramiro\"\u001b[39m, \u001b[32m\"cuttlefish\"\u001b[39m),\n",
       "  (\u001b[32m\"Ramiro\"\u001b[39m, \u001b[32m\"blue whale\"\u001b[39m),\n",
       "  (\u001b[32m\"Ramiro\"\u001b[39m, \u001b[32m\"turtle\"\u001b[39m),\n",
       "  (\u001b[32m\"Brenda\"\u001b[39m, \u001b[32m\"blue whale\"\u001b[39m),\n",
       "  (\u001b[32m\"Molly\"\u001b[39m, \u001b[32m\"blue whale\"\u001b[39m),\n",
       "  (\u001b[32m\"Brenda\"\u001b[39m, \u001b[32m\"cat\"\u001b[39m),\n",
       "  (\u001b[32m\"Molly\"\u001b[39m, \u001b[32m\"cat\"\u001b[39m),\n",
       "  (\u001b[32m\"Molly\"\u001b[39m, \u001b[32m\"cuttlefish\"\u001b[39m)\n",
       ")"
      ]
     },
     "execution_count": 13,
     "metadata": {},
     "output_type": "execute_result"
    }
   ],
   "source": [
    "animals x people\n",
    "people x animals"
   ]
  },
  {
   "cell_type": "markdown",
   "id": "fcb5ceca-0925-4e5d-8e2e-fc2472ba96ad",
   "metadata": {},
   "source": [
    "## Special sets\n",
    "\n",
    "Not all special sets are available in Scala. Specifically sets with infinite number of elements, as for example the set with all natural numbers, are not available. The reason being that they cannot be (explicitly) represented in memory, obviously.\n",
    "\n",
    "The empty set is available, as is a way to create a set from a range of numbers. Note that with the empty set, you may need to specify the type of the elements of the set in order to let the compiler know what it is dealing with."
   ]
  },
  {
   "cell_type": "code",
   "execution_count": 14,
   "id": "27b49bff-c2c8-4521-8519-a9b1fb32031c",
   "metadata": {},
   "outputs": [
    {
     "data": {
      "text/plain": [
       "\u001b[36mres13_0\u001b[39m: \u001b[32mSet\u001b[39m[\u001b[32mNothing\u001b[39m] = \u001b[33mSet\u001b[39m()\n",
       "\u001b[36mres13_1\u001b[39m: \u001b[32mSet\u001b[39m[\u001b[32mString\u001b[39m] = \u001b[33mSet\u001b[39m()\n",
       "\u001b[36mres13_2\u001b[39m: \u001b[32mSet\u001b[39m[\u001b[32mInt\u001b[39m] = \u001b[33mSet\u001b[39m()\n",
       "\u001b[36mres13_3\u001b[39m: \u001b[32mSet\u001b[39m[\u001b[32mInt\u001b[39m] = \u001b[33mHashSet\u001b[39m(\u001b[32m0\u001b[39m, \u001b[32m5\u001b[39m, \u001b[32m1\u001b[39m, \u001b[32m6\u001b[39m, \u001b[32m9\u001b[39m, \u001b[32m2\u001b[39m, \u001b[32m7\u001b[39m, \u001b[32m3\u001b[39m, \u001b[32m8\u001b[39m, \u001b[32m4\u001b[39m)\n",
       "\u001b[36mres13_4\u001b[39m: \u001b[32mSet\u001b[39m[\u001b[32mInt\u001b[39m] = \u001b[33mHashSet\u001b[39m(\u001b[32m0\u001b[39m, \u001b[32m5\u001b[39m, \u001b[32m10\u001b[39m, \u001b[32m1\u001b[39m, \u001b[32m6\u001b[39m, \u001b[32m9\u001b[39m, \u001b[32m2\u001b[39m, \u001b[32m7\u001b[39m, \u001b[32m3\u001b[39m, \u001b[32m8\u001b[39m, \u001b[32m4\u001b[39m)\n",
       "\u001b[36mres13_5\u001b[39m: \u001b[32mSet\u001b[39m[\u001b[32mChar\u001b[39m] = \u001b[33mHashSet\u001b[39m(\n",
       "  \u001b[32m'e'\u001b[39m,\n",
       "  \u001b[32m'n'\u001b[39m,\n",
       "  \u001b[32m't'\u001b[39m,\n",
       "  \u001b[32m'a'\u001b[39m,\n",
       "  \u001b[32m'm'\u001b[39m,\n",
       "  \u001b[32m'i'\u001b[39m,\n",
       "  \u001b[32m'v'\u001b[39m,\n",
       "  \u001b[32m'p'\u001b[39m,\n",
       "  \u001b[32m'r'\u001b[39m,\n",
       "  \u001b[32m'w'\u001b[39m,\n",
       "  \u001b[32m'k'\u001b[39m,\n",
       "  \u001b[32m's'\u001b[39m,\n",
       "  \u001b[32m'x'\u001b[39m,\n",
       "  \u001b[32m'j'\u001b[39m,\n",
       "  \u001b[32m'y'\u001b[39m,\n",
       "  \u001b[32m'u'\u001b[39m,\n",
       "  \u001b[32m'f'\u001b[39m,\n",
       "  \u001b[32m'q'\u001b[39m,\n",
       "  \u001b[32m'b'\u001b[39m,\n",
       "  \u001b[32m'g'\u001b[39m,\n",
       "  \u001b[32m'l'\u001b[39m,\n",
       "  \u001b[32m'c'\u001b[39m,\n",
       "  \u001b[32m'h'\u001b[39m,\n",
       "  \u001b[32m'o'\u001b[39m,\n",
       "  \u001b[32m'z'\u001b[39m,\n",
       "  \u001b[32m'd'\u001b[39m\n",
       ")"
      ]
     },
     "execution_count": 14,
     "metadata": {},
     "output_type": "execute_result"
    }
   ],
   "source": [
    "Set.empty         // Empty set \n",
    "Set.empty[String] // Empty set of String\n",
    "Set.empty[Int]    // Empty set of Integers\n",
    "(0 until 10).toSet\n",
    "(0 to 10).toSet\n",
    "('a' to 'z').toSet"
   ]
  },
  {
   "cell_type": "markdown",
   "id": "0ed88b6b-fdf3-44e3-8990-ce2f836e5bfd",
   "metadata": {},
   "source": [
    "## Sum and product\n",
    "\n",
    "For sets consisting of numbers (integers, doubles or floats), we can evaluate the sum and product of those numbers as follows:"
   ]
  },
  {
   "cell_type": "code",
   "execution_count": 15,
   "id": "5d384362-5fdd-4e95-b675-bc4a8577981f",
   "metadata": {},
   "outputs": [
    {
     "data": {
      "text/plain": [
       "\u001b[36mres14_0\u001b[39m: \u001b[32mInt\u001b[39m = \u001b[32m10\u001b[39m\n",
       "\u001b[36mres14_1\u001b[39m: \u001b[32mInt\u001b[39m = \u001b[32m24\u001b[39m"
      ]
     },
     "execution_count": 15,
     "metadata": {},
     "output_type": "execute_result"
    }
   ],
   "source": [
    "sum(Set(1,2,3, 4))\n",
    "product(Set(1,2,3, 4))"
   ]
  },
  {
   "cell_type": "markdown",
   "id": "fc3dd5f6-14fc-4125-a813-6bf7b02dcc27",
   "metadata": {},
   "source": [
    "## Examples of combining set expressions\n",
    "\n",
    "We can combine all the expressions above, just like in the mathematic expressions to great effect. For example, we can build a set with pairs of food, where one element is healthy and the other is unhealthy. We implement two functions that return a Boolean whether or not a food is (un)healthy, then use two set builders and the cardinal product to denote this set of 'balanced' diets."
   ]
  },
  {
   "cell_type": "code",
   "execution_count": 16,
   "id": "a70fb4cd-d1f1-4518-9e44-32e942dba1ee",
   "metadata": {},
   "outputs": [
    {
     "data": {
      "text/plain": [
       "\u001b[36mfood\u001b[39m: \u001b[32mSet\u001b[39m[\u001b[32mString\u001b[39m] = \u001b[33mSet\u001b[39m(\u001b[32m\"apple\"\u001b[39m, \u001b[32m\"fries\"\u001b[39m, \u001b[32m\"lettuce\"\u001b[39m, \u001b[32m\"candy\"\u001b[39m)\n",
       "defined \u001b[32mfunction\u001b[39m \u001b[36misHealthy\u001b[39m\n",
       "defined \u001b[32mfunction\u001b[39m \u001b[36misUnhealthy\u001b[39m\n",
       "\u001b[36mres15_3\u001b[39m: \u001b[32mSet\u001b[39m[(\u001b[32mString\u001b[39m, \u001b[32mString\u001b[39m)] = \u001b[33mSet\u001b[39m(\n",
       "  (\u001b[32m\"apple\"\u001b[39m, \u001b[32m\"fries\"\u001b[39m),\n",
       "  (\u001b[32m\"apple\"\u001b[39m, \u001b[32m\"candy\"\u001b[39m),\n",
       "  (\u001b[32m\"lettuce\"\u001b[39m, \u001b[32m\"fries\"\u001b[39m),\n",
       "  (\u001b[32m\"lettuce\"\u001b[39m, \u001b[32m\"candy\"\u001b[39m)\n",
       ")"
      ]
     },
     "execution_count": 16,
     "metadata": {},
     "output_type": "execute_result"
    }
   ],
   "source": [
    "val food = Set(\"apple\", \"fries\", \"lettuce\", \"candy\")\n",
    "def isHealthy(food: String): Boolean = (food == \"apple\") || (food == \"lettuce\")\n",
    "def isUnhealthy(food: String): Boolean = !isHealthy(food)\n",
    "\n",
    "{ food | isHealthy _ } x { food | isUnhealthy _ }"
   ]
  },
  {
   "cell_type": "markdown",
   "id": "379f51a0-e62f-4b29-8f4d-7451a065dffa",
   "metadata": {},
   "source": [
    "# Advanced set theory\n",
    "\n",
    "Beyond the basic set theory we covered so far, there are a few more advanced expressions that come in handy both in mathematical notation as well as in code. We cover those next.\n",
    "\n",
    "## Arguments of the maxima\n",
    "\n",
    "Sometimes we want to refer to the elements of a set that maximize a particular function. For example, given a set of people and a function that expresses for each person their net worth, we want to retrieve all persons of maximum net worth:\n",
    "\n",
    "$$\\arg\\max_{p \\in P}net(p)$$\n",
    "\n",
    "We implement the function ```net``` only for our toy example. Note that, equivalent to the mathmatical expression, ```argMax``` returns a set of elements. Even when you change Branda's net worth and the argmax contains only one result, they type is a ```Set```."
   ]
  },
  {
   "cell_type": "code",
   "execution_count": 17,
   "id": "d615201a-0488-428c-9fb1-2404ada8b5f6",
   "metadata": {},
   "outputs": [
    {
     "data": {
      "text/plain": [
       "defined \u001b[32mfunction\u001b[39m \u001b[36mnet\u001b[39m\n",
       "\u001b[36mres16_1\u001b[39m: \u001b[32mSet\u001b[39m[\u001b[32mString\u001b[39m] = \u001b[33mSet\u001b[39m(\u001b[32m\"Brenda\"\u001b[39m, \u001b[32m\"Molly\"\u001b[39m)"
      ]
     },
     "execution_count": 17,
     "metadata": {},
     "output_type": "execute_result"
    }
   ],
   "source": [
    "def net(person: String): Int =\n",
    "    if(person == \"Ramiro\") 123000\n",
    "    else if(person == \"Brenda\") 640100\n",
    "    else if(person == \"Molly\") 640100\n",
    "    else 0 // Default net worth for any other person\n",
    "\n",
    "people.argMax(net)"
   ]
  },
  {
   "cell_type": "markdown",
   "id": "af7fd7a7-0cf4-45cb-8f60-b2cffa39ebf3",
   "metadata": {},
   "source": [
    "## Powerset, pairs, unique pairs and partitions\n",
    "\n",
    "There are combinations of elements within a set that are often used in set theory. We use again the running example set of people:\n",
    "\n",
    "$$P=\\{\\text{Ramiro},\\text{Brenda},\\text{Molly}\\}$$\n",
    "\n",
    "### Powerset\n",
    "\n",
    "Let's say you want to invite some of these persons for coffee. These are the possible subsets that you can invite:\n",
    "\n",
    "$$\\{\\text{Ramiro},\\text{Brenda},\\text{Molly}\\}$$\n",
    "$$\\{\\text{Ramiro},\\text{Brenda}\\}$$\n",
    "$$\\{\\text{Ramiro},\\text{Molly}\\}$$\n",
    "$$\\{,\\text{Brenda},\\text{Molly}\\}$$\n",
    "$$\\{\\text{Ramiro}\\}$$\n",
    "$$\\{\\text{Brenda}\\}$$\n",
    "$$\\{,\\text{Molly}\\}$$\n",
    "$$\\{\\}$$\n",
    "\n",
    "The set of all of possible subsets is called the powerset, which is denoted as $\\mathcal{P}(P)$ or sometimes $2^P$. The number of subsets in the powerset is exponential, so when writing code that contains powersets expect is to run slow for sets larger than 12. In Scala, the powerset can be expressed as:"
   ]
  },
  {
   "cell_type": "code",
   "execution_count": 18,
   "id": "cb66a3f7-16e0-45d1-b311-184abaa961cd",
   "metadata": {},
   "outputs": [
    {
     "data": {
      "text/plain": [
       "\u001b[36mres17\u001b[39m: \u001b[32mSet\u001b[39m[\u001b[32mSet\u001b[39m[\u001b[32mString\u001b[39m]] = \u001b[33mHashSet\u001b[39m(\n",
       "  \u001b[33mSet\u001b[39m(),\n",
       "  \u001b[33mSet\u001b[39m(\u001b[32m\"Ramiro\"\u001b[39m, \u001b[32m\"Brenda\"\u001b[39m, \u001b[32m\"Molly\"\u001b[39m),\n",
       "  \u001b[33mSet\u001b[39m(\u001b[32m\"Ramiro\"\u001b[39m, \u001b[32m\"Brenda\"\u001b[39m),\n",
       "  \u001b[33mSet\u001b[39m(\u001b[32m\"Brenda\"\u001b[39m, \u001b[32m\"Molly\"\u001b[39m),\n",
       "  \u001b[33mSet\u001b[39m(\u001b[32m\"Molly\"\u001b[39m),\n",
       "  \u001b[33mSet\u001b[39m(\u001b[32m\"Brenda\"\u001b[39m),\n",
       "  \u001b[33mSet\u001b[39m(\u001b[32m\"Ramiro\"\u001b[39m),\n",
       "  \u001b[33mSet\u001b[39m(\u001b[32m\"Ramiro\"\u001b[39m, \u001b[32m\"Molly\"\u001b[39m)\n",
       ")"
      ]
     },
     "execution_count": 18,
     "metadata": {},
     "output_type": "execute_result"
    }
   ],
   "source": [
    "P(people)"
   ]
  },
  {
   "cell_type": "markdown",
   "id": "0d76e715-cd59-445c-a2c0-6c33772f99ff",
   "metadata": {},
   "source": [
    "### Pairs and unique pairs\n",
    "\n",
    "Sometimes, we only require all pairs in a set. One way to code this is to use the cardinal product $P\\times P$. In Scala, the cardinal product of a set with itself can be expressed using the ```pairs``` function. If you want the set of all possible unique pairs, i.e., excluding pairs with the same element twice, we can call ```uniquePairs```. Note that since tuples are ordered, $(a,b)\\neq(b,a)$ and these functions will contain both pairs."
   ]
  },
  {
   "cell_type": "code",
   "execution_count": 19,
   "id": "59a8455e-0fea-4731-af5d-3c28a325dc22",
   "metadata": {},
   "outputs": [
    {
     "data": {
      "text/plain": [
       "\u001b[36mres18_0\u001b[39m: \u001b[32mSet\u001b[39m[(\u001b[32mString\u001b[39m, \u001b[32mString\u001b[39m)] = \u001b[33mHashSet\u001b[39m(\n",
       "  (\u001b[32m\"Brenda\"\u001b[39m, \u001b[32m\"Molly\"\u001b[39m),\n",
       "  (\u001b[32m\"Molly\"\u001b[39m, \u001b[32m\"Brenda\"\u001b[39m),\n",
       "  (\u001b[32m\"Molly\"\u001b[39m, \u001b[32m\"Molly\"\u001b[39m),\n",
       "  (\u001b[32m\"Ramiro\"\u001b[39m, \u001b[32m\"Molly\"\u001b[39m),\n",
       "  (\u001b[32m\"Molly\"\u001b[39m, \u001b[32m\"Ramiro\"\u001b[39m),\n",
       "  (\u001b[32m\"Ramiro\"\u001b[39m, \u001b[32m\"Ramiro\"\u001b[39m),\n",
       "  (\u001b[32m\"Brenda\"\u001b[39m, \u001b[32m\"Ramiro\"\u001b[39m),\n",
       "  (\u001b[32m\"Ramiro\"\u001b[39m, \u001b[32m\"Brenda\"\u001b[39m),\n",
       "  (\u001b[32m\"Brenda\"\u001b[39m, \u001b[32m\"Brenda\"\u001b[39m)\n",
       ")\n",
       "\u001b[36mres18_1\u001b[39m: \u001b[32mSet\u001b[39m[(\u001b[32mString\u001b[39m, \u001b[32mString\u001b[39m)] = \u001b[33mHashSet\u001b[39m(\n",
       "  (\u001b[32m\"Brenda\"\u001b[39m, \u001b[32m\"Molly\"\u001b[39m),\n",
       "  (\u001b[32m\"Molly\"\u001b[39m, \u001b[32m\"Brenda\"\u001b[39m),\n",
       "  (\u001b[32m\"Molly\"\u001b[39m, \u001b[32m\"Molly\"\u001b[39m),\n",
       "  (\u001b[32m\"Ramiro\"\u001b[39m, \u001b[32m\"Molly\"\u001b[39m),\n",
       "  (\u001b[32m\"Molly\"\u001b[39m, \u001b[32m\"Ramiro\"\u001b[39m),\n",
       "  (\u001b[32m\"Ramiro\"\u001b[39m, \u001b[32m\"Ramiro\"\u001b[39m),\n",
       "  (\u001b[32m\"Brenda\"\u001b[39m, \u001b[32m\"Ramiro\"\u001b[39m),\n",
       "  (\u001b[32m\"Ramiro\"\u001b[39m, \u001b[32m\"Brenda\"\u001b[39m),\n",
       "  (\u001b[32m\"Brenda\"\u001b[39m, \u001b[32m\"Brenda\"\u001b[39m)\n",
       ")\n",
       "\u001b[36mres18_2\u001b[39m: \u001b[32mSet\u001b[39m[(\u001b[32mString\u001b[39m, \u001b[32mString\u001b[39m)] = \u001b[33mHashSet\u001b[39m(\n",
       "  (\u001b[32m\"Brenda\"\u001b[39m, \u001b[32m\"Molly\"\u001b[39m),\n",
       "  (\u001b[32m\"Brenda\"\u001b[39m, \u001b[32m\"Ramiro\"\u001b[39m),\n",
       "  (\u001b[32m\"Ramiro\"\u001b[39m, \u001b[32m\"Brenda\"\u001b[39m),\n",
       "  (\u001b[32m\"Molly\"\u001b[39m, \u001b[32m\"Brenda\"\u001b[39m),\n",
       "  (\u001b[32m\"Ramiro\"\u001b[39m, \u001b[32m\"Molly\"\u001b[39m),\n",
       "  (\u001b[32m\"Molly\"\u001b[39m, \u001b[32m\"Ramiro\"\u001b[39m)\n",
       ")"
      ]
     },
     "execution_count": 19,
     "metadata": {},
     "output_type": "execute_result"
    }
   ],
   "source": [
    "people x people\n",
    "people.pairs\n",
    "people.uniquePairs"
   ]
  },
  {
   "cell_type": "markdown",
   "id": "72b829bf-c7e6-4cca-a9f3-8d35c1a91ba2",
   "metadata": {},
   "source": [
    "### Partitions\n",
    "\n",
    "A partition of a set $P$ is a set $\\{P_1,\\dots,P_n\\}$ of sets $P_i\\subseteq P$, such that $\\bigcup P_i = P$ and $\\bigcap P_i=\\varnothing$. That is, the set of sets together contain *exactly* all elements in $P$ and none of the elements in $P$ are member of more than one set $P_i$.\n",
    "\n",
    "For example, say you want to distribute make groups of people and everyone should belong to exactly one group. That would be a partition. To compute the set of all possible partitions, we can use ```.allPartitions```. We could then continue to refine that set, for example, by filtering on the number of groups."
   ]
  },
  {
   "cell_type": "code",
   "execution_count": 20,
   "id": "70808782-e960-4d8a-be27-9d3433017b68",
   "metadata": {},
   "outputs": [
    {
     "data": {
      "text/plain": [
       "\u001b[36mres19_0\u001b[39m: \u001b[32mSet\u001b[39m[\u001b[32mSet\u001b[39m[\u001b[32mSet\u001b[39m[\u001b[32mString\u001b[39m]]] = \u001b[33mHashSet\u001b[39m(\n",
       "  \u001b[33mSet\u001b[39m(\u001b[33mSet\u001b[39m(\u001b[32m\"Molly\"\u001b[39m), \u001b[33mSet\u001b[39m(\u001b[32m\"Brenda\"\u001b[39m), \u001b[33mSet\u001b[39m(\u001b[32m\"Ramiro\"\u001b[39m)),\n",
       "  \u001b[33mSet\u001b[39m(\u001b[33mSet\u001b[39m(\u001b[32m\"Brenda\"\u001b[39m), \u001b[33mSet\u001b[39m(\u001b[32m\"Molly\"\u001b[39m, \u001b[32m\"Ramiro\"\u001b[39m)),\n",
       "  \u001b[33mSet\u001b[39m(\u001b[33mSet\u001b[39m(\u001b[32m\"Molly\"\u001b[39m, \u001b[32m\"Brenda\"\u001b[39m, \u001b[32m\"Ramiro\"\u001b[39m)),\n",
       "  \u001b[33mSet\u001b[39m(\u001b[33mSet\u001b[39m(\u001b[32m\"Molly\"\u001b[39m, \u001b[32m\"Brenda\"\u001b[39m), \u001b[33mSet\u001b[39m(\u001b[32m\"Ramiro\"\u001b[39m)),\n",
       "  \u001b[33mSet\u001b[39m(\u001b[33mSet\u001b[39m(\u001b[32m\"Molly\"\u001b[39m), \u001b[33mSet\u001b[39m(\u001b[32m\"Brenda\"\u001b[39m, \u001b[32m\"Ramiro\"\u001b[39m))\n",
       ")\n",
       "defined \u001b[32mfunction\u001b[39m \u001b[36mnrGroups\u001b[39m\n",
       "\u001b[36mres19_2\u001b[39m: \u001b[32mSet\u001b[39m[\u001b[32mSet\u001b[39m[\u001b[32mSet\u001b[39m[\u001b[32mString\u001b[39m]]] = \u001b[33mHashSet\u001b[39m(\n",
       "  \u001b[33mSet\u001b[39m(\u001b[33mSet\u001b[39m(\u001b[32m\"Brenda\"\u001b[39m), \u001b[33mSet\u001b[39m(\u001b[32m\"Molly\"\u001b[39m, \u001b[32m\"Ramiro\"\u001b[39m)),\n",
       "  \u001b[33mSet\u001b[39m(\u001b[33mSet\u001b[39m(\u001b[32m\"Molly\"\u001b[39m, \u001b[32m\"Brenda\"\u001b[39m), \u001b[33mSet\u001b[39m(\u001b[32m\"Ramiro\"\u001b[39m)),\n",
       "  \u001b[33mSet\u001b[39m(\u001b[33mSet\u001b[39m(\u001b[32m\"Molly\"\u001b[39m), \u001b[33mSet\u001b[39m(\u001b[32m\"Brenda\"\u001b[39m, \u001b[32m\"Ramiro\"\u001b[39m))\n",
       ")\n",
       "\u001b[36mres19_3\u001b[39m: \u001b[32mSet\u001b[39m[\u001b[32mSet\u001b[39m[\u001b[32mSet\u001b[39m[\u001b[32mString\u001b[39m]]] = \u001b[33mHashSet\u001b[39m(\n",
       "  \u001b[33mSet\u001b[39m(\u001b[33mSet\u001b[39m(\u001b[32m\"Brenda\"\u001b[39m), \u001b[33mSet\u001b[39m(\u001b[32m\"Molly\"\u001b[39m, \u001b[32m\"Ramiro\"\u001b[39m)),\n",
       "  \u001b[33mSet\u001b[39m(\u001b[33mSet\u001b[39m(\u001b[32m\"Molly\"\u001b[39m, \u001b[32m\"Brenda\"\u001b[39m), \u001b[33mSet\u001b[39m(\u001b[32m\"Ramiro\"\u001b[39m)),\n",
       "  \u001b[33mSet\u001b[39m(\u001b[33mSet\u001b[39m(\u001b[32m\"Molly\"\u001b[39m), \u001b[33mSet\u001b[39m(\u001b[32m\"Brenda\"\u001b[39m, \u001b[32m\"Ramiro\"\u001b[39m))\n",
       ")"
      ]
     },
     "execution_count": 20,
     "metadata": {},
     "output_type": "execute_result"
    }
   ],
   "source": [
    "people.allPartitions\n",
    "\n",
    "/* The following function has a complex type, because it checks if the number\n",
    "   of groups is equal to nr. A group is a set of people (encoded as String)\n",
    "   and has type Set[String]. Hence, the set of groups has type Set[Set[String]].\n",
    " */\n",
    "def nrGroups(nr: Int)(set: Set[Set[String]]): Boolean = set.size == nr\n",
    "{ people.allPartitions | nrGroups(2) _ }\n",
    "\n",
    "// Alternatively, we can use an anonymous function.\n",
    "{ people.allPartitions | ((set: Set[Set[String]]) => set.size == 2) }"
   ]
  },
  {
   "cell_type": "markdown",
   "id": "06986631-6d8e-4795-b1f0-bde85f4b3887",
   "metadata": {},
   "source": [
    "## Mappings and bijection\n",
    "\n",
    "The final two expression for sets are a mapping and bijection between two sets. A mapping between set $A$ and set $B$ is a function $f:A\\rightarrow B$ that maps all elements of $A$ to one or more elements of $B$. \n",
    "\n",
    "Mappings can have the following properties:\n",
    "\n",
    "* *injective*: all elements in $A$ are mapped to exactly one element in $B$\n",
    "* *surjective*: all elements in $B$ are part of a mapping\n",
    "\n",
    "Mappings generated by calling ```allMappings``` contain all four combinations of properties, depending on the relative sizes of the two sets.\n",
    "\n",
    "A bijection is a mapping that is both injective and surjective, mapping all elements from $A$ each to exactly one element in $B$ and covering all elements in $B$. The bijections generated by calling ```allBijections``` will give undefined results if $|A|\\neq |B|$."
   ]
  },
  {
   "cell_type": "code",
   "execution_count": 30,
   "id": "f2a4105f-fb16-43f2-9a8b-da2ccf61c8ac",
   "metadata": {},
   "outputs": [
    {
     "data": {
      "text/plain": [
       "\u001b[36mres29_0\u001b[39m: \u001b[32mSet\u001b[39m[\u001b[32mMap\u001b[39m[\u001b[32mString\u001b[39m, \u001b[32mBoolean\u001b[39m]] = \u001b[33mSet\u001b[39m(\u001b[33mMap\u001b[39m(\u001b[32m\"a\"\u001b[39m -> true), \u001b[33mMap\u001b[39m(\u001b[32m\"a\"\u001b[39m -> false))\n",
       "\u001b[36mres29_1\u001b[39m: \u001b[32mSet\u001b[39m[\u001b[32mMap\u001b[39m[\u001b[32mString\u001b[39m, \u001b[32mBoolean\u001b[39m]] = \u001b[33mSet\u001b[39m(\n",
       "  \u001b[33mMap\u001b[39m(\u001b[32m\"a\"\u001b[39m -> true, \u001b[32m\"b\"\u001b[39m -> true),\n",
       "  \u001b[33mMap\u001b[39m(\u001b[32m\"a\"\u001b[39m -> true, \u001b[32m\"b\"\u001b[39m -> false),\n",
       "  \u001b[33mMap\u001b[39m(\u001b[32m\"a\"\u001b[39m -> false, \u001b[32m\"b\"\u001b[39m -> true),\n",
       "  \u001b[33mMap\u001b[39m(\u001b[32m\"a\"\u001b[39m -> false, \u001b[32m\"b\"\u001b[39m -> false)\n",
       ")\n",
       "\u001b[36mres29_2\u001b[39m: \u001b[32mSet\u001b[39m[\u001b[32mMap\u001b[39m[\u001b[32mString\u001b[39m, \u001b[32mBoolean\u001b[39m]] = \u001b[33mHashSet\u001b[39m(\n",
       "  \u001b[33mMap\u001b[39m(\u001b[32m\"a\"\u001b[39m -> true, \u001b[32m\"b\"\u001b[39m -> true, \u001b[32m\"c\"\u001b[39m -> false),\n",
       "  \u001b[33mMap\u001b[39m(\u001b[32m\"a\"\u001b[39m -> false, \u001b[32m\"b\"\u001b[39m -> true, \u001b[32m\"c\"\u001b[39m -> false),\n",
       "  \u001b[33mMap\u001b[39m(\u001b[32m\"a\"\u001b[39m -> true, \u001b[32m\"b\"\u001b[39m -> false, \u001b[32m\"c\"\u001b[39m -> true),\n",
       "  \u001b[33mMap\u001b[39m(\u001b[32m\"a\"\u001b[39m -> false, \u001b[32m\"b\"\u001b[39m -> true, \u001b[32m\"c\"\u001b[39m -> true),\n",
       "  \u001b[33mMap\u001b[39m(\u001b[32m\"a\"\u001b[39m -> true, \u001b[32m\"b\"\u001b[39m -> false, \u001b[32m\"c\"\u001b[39m -> false),\n",
       "  \u001b[33mMap\u001b[39m(\u001b[32m\"a\"\u001b[39m -> false, \u001b[32m\"b\"\u001b[39m -> false, \u001b[32m\"c\"\u001b[39m -> true),\n",
       "  \u001b[33mMap\u001b[39m(\u001b[32m\"a\"\u001b[39m -> false, \u001b[32m\"b\"\u001b[39m -> false, \u001b[32m\"c\"\u001b[39m -> false),\n",
       "  \u001b[33mMap\u001b[39m(\u001b[32m\"a\"\u001b[39m -> true, \u001b[32m\"b\"\u001b[39m -> true, \u001b[32m\"c\"\u001b[39m -> true)\n",
       ")\n",
       "\u001b[36mres29_3\u001b[39m: \u001b[32mSet\u001b[39m[\u001b[32mMap\u001b[39m[\u001b[32mString\u001b[39m, \u001b[32mBoolean\u001b[39m]] = \u001b[33mSet\u001b[39m(\u001b[33mMap\u001b[39m(\u001b[32m\"a\"\u001b[39m -> true), \u001b[33mMap\u001b[39m(\u001b[32m\"a\"\u001b[39m -> false))\n",
       "\u001b[36mres29_4\u001b[39m: \u001b[32mSet\u001b[39m[\u001b[32mMap\u001b[39m[\u001b[32mString\u001b[39m, \u001b[32mBoolean\u001b[39m]] = \u001b[33mSet\u001b[39m(\n",
       "  \u001b[33mMap\u001b[39m(\u001b[32m\"a\"\u001b[39m -> true, \u001b[32m\"b\"\u001b[39m -> false),\n",
       "  \u001b[33mMap\u001b[39m(\u001b[32m\"a\"\u001b[39m -> false, \u001b[32m\"b\"\u001b[39m -> true)\n",
       ")\n",
       "\u001b[36mres29_5\u001b[39m: \u001b[32mSet\u001b[39m[\u001b[32mMap\u001b[39m[\u001b[32mString\u001b[39m, \u001b[32mBoolean\u001b[39m]] = \u001b[33mSet\u001b[39m(\n",
       "  \u001b[33mMap\u001b[39m(\u001b[32m\"a\"\u001b[39m -> true, \u001b[32m\"b\"\u001b[39m -> false),\n",
       "  \u001b[33mMap\u001b[39m(\u001b[32m\"a\"\u001b[39m -> false, \u001b[32m\"b\"\u001b[39m -> true)\n",
       ")"
      ]
     },
     "execution_count": 30,
     "metadata": {},
     "output_type": "execute_result"
    }
   ],
   "source": [
    "Set(\"a\") allMappings Set(true, false)\n",
    "Set(\"a\", \"b\") allMappings Set(true, false)\n",
    "Set(\"a\", \"b\", \"c\") allMappings Set(true, false)\n",
    "Set(\"a\") allBijections Set(true, false)            // Invalid call\n",
    "Set(\"a\", \"b\") allBijections Set(true, false)       // Valid\n",
    "Set(\"a\", \"b\", \"c\") allBijections Set(true, false)  // Invalid call"
   ]
  }
 ],
 "metadata": {
  "kernelspec": {
   "display_name": "Scala",
   "language": "scala",
   "name": "scala"
  },
  "language_info": {
   "codemirror_mode": "text/x-scala",
   "file_extension": ".sc",
   "mimetype": "text/x-scala",
   "name": "scala",
   "nbconvert_exporter": "script",
   "version": "2.13.4"
  }
 },
 "nbformat": 4,
 "nbformat_minor": 5
}
