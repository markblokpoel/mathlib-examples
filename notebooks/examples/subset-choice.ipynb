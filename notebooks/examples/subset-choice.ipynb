{
 "cells": [
  {
   "cell_type": "markdown",
   "id": "b1eb1d7b-9ee2-4c7b-8cc2-42c0f77f44bb",
   "metadata": {},
   "source": [
    "# Subset choice placeholder"
   ]
  }
 ],
 "metadata": {
  "kernelspec": {
   "display_name": "Scala",
   "language": "scala",
   "name": "scala"
  },
  "language_info": {
   "codemirror_mode": "text/x-scala",
   "file_extension": ".sc",
   "mimetype": "text/x-scala",
   "name": "scala",
   "nbconvert_exporter": "script",
   "version": "2.13.8"
  }
 },
 "nbformat": 4,
 "nbformat_minor": 5
}
