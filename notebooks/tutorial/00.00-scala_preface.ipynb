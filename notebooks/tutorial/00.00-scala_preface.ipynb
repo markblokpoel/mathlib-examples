{
 "cells": [
  {
   "cell_type": "markdown",
   "id": "c77bb7dc-d9ca-4bbf-9c3f-83231342d194",
   "metadata": {},
   "source": [
    "# 1. Preface\n",
    "\n",
    "We cover only a small subset of the full Scala language here. This subset suffices for implementing basic simulations of formal theories. If after reading this chapter you want to learn more about Scala, there are various textbooks (e.g. Odersky, Spoon and Venners, 2019; but see also [Scala books](https://docs.scala-lang.org/books.html)) and online resources such as the official [Tour of Scala](https://docs.scala-lang.org/tour/tour-of-scala.html) and [Creative Scala](https://www.creativescala.org/).\n",
    "\n",
    "This tutorial is partially based on Part 3 of the book Theoretical modeling for cognitive science and psychology by Blokpoel, M. & van Rooij, I. (2021).\n",
    "\n",
    "Blokpoel, M. & van Rooij, I. (2021). Theoretical modeling for cognitive science and psychology. Retrieved September 28, 2022 from [https://computationalcognitivescience.github.io/lovelace/](https://computationalcognitivescience.github.io/lovelace/home).\n",
    "\n",
    "If you have experience programming in Scala, you can skip to Chapter 2, but otherwise we recommend you to work through the tutorial in order.\n",
    "\n",
    "## Table of contents\n",
    "\n",
    "* Chapter 1: Scala introduction\n",
    "    * [1.1 Values, functions and types](./01.01-scala_introduction-values_functions_and_types.ipynb)\n",
    "    * [1.2 Blocks and scope](./01.02-scala_introduction-blocks_and_scope.ipynb)\n",
    "    * [1.3 Conditional](01.03-scala_introduction-conditional.ipynb)\n",
    "    * [1.4 Basic types](01.04-scala_introduction-basic_types.ipynb)\n",
    "    * [1.5 Collections](01.05-scala_introduction-collections.ipynb)\n",
    "    * [1.6 Generic types](01.06-scala_introduction-generic_types.ipynb)\n",
    "* Chapter 2: Mathlib set theory\n",
    "    * [2.1 Code set theory](./02.01-set_theory-core_set_theory.ipynb)\n",
    "    * [2.2 Advanced set theory](./02.02-set_theory-advanced_set_theory.ipynb)\n",
    "* Chapter 3: Mathlib graph theory\n",
    "    * Simple graph\n",
    "    * Connected graph\n",
    "    * Weighted graph\n",
    "    * (Un)directed graph\n",
    "    * Tree\n",
    "    * Graph properties\n",
    "* Chapter 4: Probability theory\n",
    "    * Probability distributions\n",
    "    * ..."
   ]
  },
  {
   "cell_type": "markdown",
   "id": "d3e7710a-4c46-410e-aeca-b7aa1bb3e50a",
   "metadata": {},
   "source": [
    "## Next section\n",
    "\n",
    "We continue next with [1.1 Scala introduction - Values, functions and types](./01.01-scala_introduction-values_functions_and_types.ipynb)."
   ]
  }
 ],
 "metadata": {
  "kernelspec": {
   "display_name": "Scala",
   "language": "scala",
   "name": "scala"
  },
  "language_info": {
   "codemirror_mode": "text/x-scala",
   "file_extension": ".sc",
   "mimetype": "text/x-scala",
   "name": "scala",
   "nbconvert_exporter": "script",
   "version": "2.13.8"
  }
 },
 "nbformat": 4,
 "nbformat_minor": 5
}
