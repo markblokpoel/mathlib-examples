{
 "cells": [
  {
   "cell_type": "markdown",
   "id": "e4b6d2f0-bf28-44bb-b6bf-b4d1ad9ecc7c",
   "metadata": {},
   "source": [
    "# Set Theory\n",
    "\n",
    "Here, we illustrate how to implement set theory expressions in Scala with mathlib. We also introduce the mathematical concepts. We assume that you've worked through the [Scala basics](01-scala-basics.ipynb).\n",
    "\n",
    "Before we start, we need to import the relevant packages."
   ]
  },
  {
   "cell_type": "code",
   "execution_count": 1,
   "id": "540c30e4-ed9c-4da3-a7d3-556c5fc11790",
   "metadata": {},
   "outputs": [
    {
     "data": {
      "text/plain": [
       "\u001b[32mimport \u001b[39m\u001b[36mcoursierapi._\n",
       "\u001b[39m"
      ]
     },
     "execution_count": 1,
     "metadata": {},
     "output_type": "execute_result"
    }
   ],
   "source": [
    "import coursierapi._\n",
    "interp.repositories() ++= Seq(\n",
    "    MavenRepository.of(\"https://jitpack.io\")\n",
    ")"
   ]
  },
  {
   "cell_type": "code",
   "execution_count": 2,
   "id": "30a4f24e-7362-4327-97bf-ffae9e6dd102",
   "metadata": {},
   "outputs": [
    {
     "data": {
      "text/plain": [
       "\u001b[32mimport \u001b[39m\u001b[36m$ivy.$                                                   \n",
       "\u001b[39m\n",
       "\u001b[32mimport \u001b[39m\u001b[36mmathlib.set.SetTheory._\u001b[39m"
      ]
     },
     "execution_count": 2,
     "metadata": {},
     "output_type": "execute_result"
    }
   ],
   "source": [
    "import $ivy.`com.github.markblokpoel.mathlib::mathlib:-SNAPSHOT`\n",
    "import mathlib.set.SetTheory._"
   ]
  },
  {
   "cell_type": "markdown",
   "id": "8c3cedd2-0282-4f26-9327-e98c50bf749f",
   "metadata": {},
   "source": [
    "<img style=\"float: right;width: 30%;\" src=\"images/set-eg.svg\" />\n",
    "\n",
    "A set is a collection of distinct objects. For example, a set of people $P={Ramiro,Brenda,Molly}$, animals $A={cat,turtle,blue whale,cuttlefish}$ or numbers $N={1,5,7,12}$. Sets are usually denoted in math by a capital letter and their elements listed between curly brackets. They can also be visualized as circles. In Scala, it is convention to start value labels in lower case (see [Naming Conventions](https://docs.scala-lang.org/style/naming-conventions.html#constants-values-and-variables)).\n",
    "\n",
    "Sets can contain an infinite number of objects, e.g. all positive odd numbers $O={1,3,5,7,\\dots}$, but this is more difficult to represent in a computer so we skip it here."
   ]
  },
  {
   "cell_type": "code",
   "execution_count": 4,
   "id": "48cafa00-4207-499e-bf82-63503502116b",
   "metadata": {},
   "outputs": [
    {
     "data": {
      "text/plain": [
       "\u001b[36mpeople\u001b[39m: \u001b[32mSet\u001b[39m[\u001b[32mString\u001b[39m] = \u001b[33mSet\u001b[39m(\u001b[32m\"Ramiro\"\u001b[39m, \u001b[32m\"Brenda\"\u001b[39m, \u001b[32m\"Molly\"\u001b[39m)\n",
       "\u001b[36manimals\u001b[39m: \u001b[32mSet\u001b[39m[\u001b[32mString\u001b[39m] = \u001b[33mSet\u001b[39m(\u001b[32m\"cat\"\u001b[39m, \u001b[32m\"turtle\"\u001b[39m, \u001b[32m\"bluewhale\"\u001b[39m, \u001b[32m\"cuttlefish\"\u001b[39m)\n",
       "\u001b[36mnumbers\u001b[39m: \u001b[32mSet\u001b[39m[\u001b[32mInt\u001b[39m] = \u001b[33mSet\u001b[39m(\u001b[32m1\u001b[39m, \u001b[32m5\u001b[39m, \u001b[32m7\u001b[39m, \u001b[32m12\u001b[39m)"
      ]
     },
     "execution_count": 4,
     "metadata": {},
     "output_type": "execute_result"
    }
   ],
   "source": [
    "val people = Set(\n",
    "    \"Ramiro\",\n",
    "    \"Brenda\",\n",
    "    \"Molly\"\n",
    ")\n",
    "\n",
    "val animals = Set(\n",
    "    \"cat\",\n",
    "    \"turtle\",\n",
    "    \"bluewhale\",\n",
    "    \"cuttlefish\"\n",
    ")\n",
    "\n",
    "val numbers = Set(1, 5, 7, 12)"
   ]
  }
 ],
 "metadata": {
  "kernelspec": {
   "display_name": "Scala",
   "language": "scala",
   "name": "scala"
  },
  "language_info": {
   "codemirror_mode": "text/x-scala",
   "file_extension": ".sc",
   "mimetype": "text/x-scala",
   "name": "scala",
   "nbconvert_exporter": "script",
   "version": "2.13.5"
  }
 },
 "nbformat": 4,
 "nbformat_minor": 5
}
