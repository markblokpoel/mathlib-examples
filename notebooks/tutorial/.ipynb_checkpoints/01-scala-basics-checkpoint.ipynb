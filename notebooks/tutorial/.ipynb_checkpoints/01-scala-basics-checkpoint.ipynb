{
 "cells": [
  {
   "cell_type": "markdown",
   "id": "c77bb7dc-d9ca-4bbf-9c3f-83231342d194",
   "metadata": {},
   "source": [
    "# Scala basics\n",
    "\n",
    "We cover only a small subset of the full Scala language here. This subset suffices for implementing basic simulations of formal theories. If after reading this chapter you want to learn more about Scala, there are various textbooks (e.g. Odersky, Spoon and Venners, 2019; but see also [Scala books](https://docs.scala-lang.org/books.html)) and online resources such as the official [Tour of Scala](https://docs.scala-lang.org/tour/tour-of-scala.html) and [Creative Scala](https://www.creativescala.org/)."
   ]
  },
  {
   "cell_type": "markdown",
   "id": "355e960c-5a6d-477a-8ea7-212071b73944",
   "metadata": {
    "tags": []
   },
   "source": [
    "## Values, functions and types\n",
    "\n",
    "### Values\n",
    "The basic expressions in a functional programming language such as Scala are values, functions and types. A value is a container that can store information. For example:"
   ]
  },
  {
   "cell_type": "code",
   "execution_count": null,
   "id": "8569954e-95e5-4570-9bd1-e95926f2cb1d",
   "metadata": {},
   "outputs": [],
   "source": [
    "val myNumber = 3\n",
    "val myString = \"Coding\""
   ]
  },
  {
   "cell_type": "markdown",
   "id": "94aa8894-9f25-4d3a-a45a-36961fb52536",
   "metadata": {},
   "source": [
    "In Scala, like in math, once a value is set, it cannot change. In computer science a value is *immutable*. Of course, *mutable* values also exist and these are called variables. Their definition hides in their name, variables can change. For example:"
   ]
  },
  {
   "cell_type": "code",
   "execution_count": null,
   "id": "0f421f74-6245-4f28-98c3-325b89f5d779",
   "metadata": {},
   "outputs": [],
   "source": [
    "var myAge = 38"
   ]
  },
  {
   "cell_type": "markdown",
   "id": "b710fa6c-3807-40da-8b91-33e7ded4d3d8",
   "metadata": {},
   "source": [
    "Variables can be reassigned a new value without having to declare them again:"
   ]
  },
  {
   "cell_type": "code",
   "execution_count": null,
   "id": "fc0c40d6-3616-4231-a2ff-8f0f07de7cda",
   "metadata": {},
   "outputs": [],
   "source": [
    "myAge = myAge +1\n",
    "println(myAge)"
   ]
  },
  {
   "cell_type": "markdown",
   "id": "941b905a-4890-47db-8240-8cda7fc97f40",
   "metadata": {},
   "source": [
    "You see that the value of ```myAge``` has been increased by one.\n",
    "\n",
    "<div class=\"alert alert-block alert-info\">\n",
    "<b>Use variables or values?</b><br/>\n",
    "Variables might seem the more easier and flexible of the two, but there is a downside to their flexibility. You might not be able to say meaningful things about the contents of a value from the code itself. You may need you run your code and debug to learn about the variable's contents. This is not a problem for the small examples that we see here, but for larger projects knowing about the value of variables is a challenge.\n",
    "</div>\n",
    "\n",
    "To understand better what we are coding, let's break the example code down into its parts. \n",
    "\n",
    "```scala\n",
    "val myNumber = 3\n",
    "```\n",
    "\n",
    "The word ```val``` tells the computer that you will specify a *value*, which is a container storing an immutable value (in this case the integer 3). The *identifier* (name) of this value is the word ```myNumber```. The *assignment operator* ```=``` takes the value on its right side and stores it in the container on the left side.\n",
    "\n",
    "### Types\n",
    "All variables and values in Scala has a type. For example, the value ```myNumber``` above has type ```Int``` which stands for integer. You may have seen this in the output after running the code block. For clarify you can state a type explicitly using semicolons:"
   ]
  },
  {
   "cell_type": "code",
   "execution_count": null,
   "id": "3e8ec13b-909e-4b04-857d-8ad5559afd04",
   "metadata": {},
   "outputs": [],
   "source": [
    "val mySecondNumber: Int = 2"
   ]
  },
  {
   "cell_type": "markdown",
   "id": "a3ec8bbb-732f-4590-b3b1-21c62cb5f906",
   "metadata": {},
   "source": [
    "If you do not provide an explicit type, Scala will try to derive the types automatically. You've seen this in action with ```myNumber```, ```myString```, and ```myAge``` above.\n",
    "\n",
    "Types are helpful. They provide a safety net against programming mistakes since you cannot assign a value that is incompatible with the specified type. Running the following code results in a type mismatch error and the compiler (i.e., the software that interprets and runs your code) will even tell you which type it expected and which type you provided."
   ]
  },
  {
   "cell_type": "code",
   "execution_count": null,
   "id": "515d50de-cb3a-479b-9b86-4786800608e5",
   "metadata": {},
   "outputs": [],
   "source": [
    "val mySecondNumber: Int = 3.9"
   ]
  },
  {
   "cell_type": "markdown",
   "id": "e4acdb77-6079-4db1-acc2-98d73a6ad336",
   "metadata": {},
   "source": [
    "### Functions\n",
    "\n",
    "Functions allow us to write code that takes input, one or more *arguments*, and returns output. For example, addition $add(x,y)=x+y$ can be coded as:"
   ]
  },
  {
   "cell_type": "code",
   "execution_count": null,
   "id": "beaa1cfc-acaf-4c8e-9684-70051ffb18d6",
   "metadata": {},
   "outputs": [],
   "source": [
    "def add(x: Int, y: Int): Int = {\n",
    "  x + y\n",
    "}"
   ]
  },
  {
   "cell_type": "markdown",
   "id": "9c215f94-8b9c-49eb-832f-5f882584973e",
   "metadata": {},
   "source": [
    "And then the function can be called on two arguments:"
   ]
  },
  {
   "cell_type": "code",
   "execution_count": null,
   "id": "172b5623-b883-4d0d-82a2-490390f51c9f",
   "metadata": {},
   "outputs": [],
   "source": [
    "add(3, 4)\n",
    "add(6, 5)\n",
    "add(1, add(2, 3))"
   ]
  },
  {
   "cell_type": "markdown",
   "id": "0aaf1c56-8524-4f5a-a0b1-239fdee2251a",
   "metadata": {},
   "source": [
    "The last example illustrated that ```add(x, y)``` evaluates to a number (integer), and hence it can be passed as an argument to another add function call.\n",
    "\n",
    "Let's break down the code into its parts. The word ```def``` specifies that we are constructing a function with the *identifier* ```add```. The comma-separated list between parantheses is the list of arguments you can pass to this function, where each argument has a specified type. Functions require that the type of the output is explicitly defined, in this example Int. Then the assignment operator ```=``` links the *body* of function which is delineated by curly brackets. Whenever we call this function with the right arguments, the value of the body is computed relative to the arguments and that value is the output of the function.\n",
    "\n",
    "<div class=\"alert alert-block\">\n",
    "<b>Question 1</b><br/>\n",
    "Fill in the blanks in the code below and write a function that computes the following equation: $f(a,b,c)=a+b∗c$\n",
    "\n",
    "<details>\n",
    "<summary>Hint?</summary>\n",
    "You need to replace the dots ```...``` with a list of comma separated arguments, and replace the three question marks ```???``` with the expression that evaluates the equation.\n",
    "</details>\n",
    "</div>"
   ]
  },
  {
   "cell_type": "code",
   "execution_count": null,
   "id": "cf4e5cc4-54b9-49de-aeaa-e64d691c9469",
   "metadata": {},
   "outputs": [],
   "source": [
    "def equation(...): Int = {\n",
    "  ???\n",
    "}\n",
    "\n",
    "equation(2, 5, -1) == -3    // Test the function, true if correct."
   ]
  },
  {
   "cell_type": "markdown",
   "id": "f048bfe0-270a-4c4d-9af3-1d66b57285bc",
   "metadata": {},
   "source": [
    "Functions in Scala have types too which becomes clearer with the following alternative notation."
   ]
  },
  {
   "cell_type": "code",
   "execution_count": null,
   "id": "636bff3d-6a5a-4f44-a141-23cdb544b9de",
   "metadata": {},
   "outputs": [],
   "source": [
    "def add: (Int, Int) => Int = (x: Int, y: Int) => {\n",
    "  x + y\n",
    "}"
   ]
  },
  {
   "cell_type": "markdown",
   "id": "4b534ef4-3d0f-4914-a14e-54caf57d08d1",
   "metadata": {},
   "source": [
    "This notation is not used often since it is hard to read, but it explicitly defines the function’s type which is very similar to how we express function types mathematically:\n",
    "\n",
    "| Scala | ```(Int, Int) => Int``` |\n",
    "|:--:|:--:|\n",
    "| Math | $$ add: \\mathbb{N} \\times \\mathbb{N} \\rightarrow \\mathbb{N} $$ |\n",
    "\n",
    "In functional programming languages like Scala you can even pass a function as an argument of another function. This is a powerful way to organize your code and very useful in writing simulation code that is closely tied to formal theories. In a sense, a theory is a function itself, mapping a list of arguments (input) to output. We’ve seen that some formal theories can have functions as arguments. For example, Selecting invitees (version 1) in Chapter 4 takes as input the function $like:P×P\\rightarrow{true,false}$. Here is a (partial) example of a function as argument.\n",
    "\n",
    "```scala\n",
    "def selectingInvitees(..., like: (Person, Person) => Boolean)\n",
    "```\n",
    "\n",
    "You can find multiple example implemetations of selecting invitees [in this notebook](../examples/selecting-invitees.ipynb), where we will use this coding strategy. \n",
    "\n",
    "<div class=\"alert alert-block alert-warning\">\n",
    "<b>Syntactic oddity</b><br/>\n",
    "For now, we should note one syntactic oddity in the Scala language. Sometimes when you pass a function as an argument, the compiler will complain with the following message:\n",
    "\n",
    "```\n",
    "error: missing argument list for method myFun\n",
    "Unapplied methods are only converted to functions when a function type is expected.\n",
    "You can make this conversion explicit by writing `myFun _` or `myFun(_)` instead of `myFun`.\n",
    "```\n",
    "    \n",
    "The solution for this problem is often following the instructions in the error explicitly and add an underscore ```_``` to the function. For example:\n",
    "\n",
    "```scala\n",
    "selectingInvitees(..., like)    // Procudes error.\n",
    "selectingInvitees(..., like _)  // Correct.\n",
    "```\n",
    "</div>"
   ]
  },
  {
   "cell_type": "markdown",
   "id": "6bd1e6f0-00a3-446d-a393-6793db928b81",
   "metadata": {},
   "source": [
    "Finally, it is useful to know that some functions accompany certain types. For example, the type String has functions built-in that can be called with the dot-notation. These functions (also called methods) have access to the value they are called upon. The following example called method ```toUpperCase``` that evaluates to the upper-case version of the original string."
   ]
  },
  {
   "cell_type": "code",
   "execution_count": null,
   "id": "c14b189a-9e03-4753-bfdf-5eaf67c4be67",
   "metadata": {},
   "outputs": [],
   "source": [
    "\"This is a String.\".toUpperCase"
   ]
  },
  {
   "cell_type": "markdown",
   "id": "40f8c009-4838-4dd4-bb71-d2f5ec18652d",
   "metadata": {},
   "source": [
    "Many Scala development tools allow you to look through the list of methods by using auto completion. Just add a . to a value and access auto complete (press tab key in Jupyter) to open the list.\n",
    "\n",
    "<div class=\"alert alert-block\">\n",
    "<b>Question 2</b><br/>\n",
    "Try to find the function that rounds down a double value using auto completion.\n",
    "\n",
    "<details>\n",
    "<summary>Hint?</summary>\n",
    "Add a dot ```.``` at the end and press tab to access the list of available functions.\n",
    "<details>\n",
    "<summary>Hint?</summary>\n",
    "The function ```floor``` rounds down to whole numbers.\n",
    "</details>\n",
    "</details>\n",
    "</div>"
   ]
  },
  {
   "cell_type": "code",
   "execution_count": null,
   "id": "a0c1bc18-9e04-420b-bec5-a423fb655e6c",
   "metadata": {},
   "outputs": [],
   "source": [
    "1.9"
   ]
  },
  {
   "cell_type": "markdown",
   "id": "8c6890c4-cdca-4483-b568-4a3cbf4d1f78",
   "metadata": {},
   "source": [
    "## Blocks and scope\n",
    "\n",
    "The notions of *block* and *scope* are important to understand when writing code. At each point in your code, you have access to a subset of all values and variables defined in your code. Whenever a value or variable is in the subset it is *in scope*. What is within scope, depends on the structure of your code which is determined by blocks.\n",
    "\n",
    "In Scala a *block* is a sequence of expressions delineated by curly brackets. A block evaluates to a value which is the value of the last statement in the block. If no final statement is present, the block evaluates to ```Unit```, a special value denoting nothing. (You will notice that Jupyter lab will not print values with type Unit.)"
   ]
  },
  {
   "cell_type": "code",
   "execution_count": 11,
   "id": "cc766d58-92bc-4227-b0e2-0a7ed0321ca2",
   "metadata": {},
   "outputs": [
    {
     "data": {
      "text/plain": [
       "\u001b[36ma\u001b[39m: \u001b[32mInt\u001b[39m = \u001b[32m3\u001b[39m\n",
       "\u001b[36mb\u001b[39m: \u001b[32mInt\u001b[39m = \u001b[32m6\u001b[39m\n",
       "\u001b[36mres10_2\u001b[39m: \u001b[32mInt\u001b[39m = \u001b[32m9\u001b[39m"
      ]
     },
     "execution_count": 11,
     "metadata": {},
     "output_type": "execute_result"
    }
   ],
   "source": [
    "{\n",
    "  val a = 3\n",
    "  val b = 6\n",
    "  a + b       // This block evaluates to 9 with type Int.\n",
    "}"
   ]
  },
  {
   "cell_type": "markdown",
   "id": "24c4b679-48b4-41af-a913-375f4c933e8b",
   "metadata": {},
   "source": [
    "One can even assign the value of a block:"
   ]
  },
  {
   "cell_type": "code",
   "execution_count": 12,
   "id": "f5efb2cb-65d4-4e82-9834-6f6d6daf65bc",
   "metadata": {},
   "outputs": [
    {
     "data": {
      "text/plain": [
       "\u001b[36mblockValue\u001b[39m: \u001b[32mString\u001b[39m = \u001b[32m\"Theory rocks\"\u001b[39m"
      ]
     },
     "execution_count": 12,
     "metadata": {},
     "output_type": "execute_result"
    }
   ],
   "source": [
    "val blockValue: String = {\n",
    "    val t = \"Theory\"\n",
    "    val r = \" rocks\"\n",
    "    t + r\n",
    "}"
   ]
  },
  {
   "cell_type": "markdown",
   "id": "113e116c-5e9c-4157-8288-89cffb515f09",
   "metadata": {},
   "source": [
    "Blocks can be nested within eachother. Which is useful for structuring your code.\n",
    "\n",
    "<div class=\"alert alert-block\">\n",
    "<b>Question 3</b><br/>\n",
    "Before running to code block below, what is the value of the outermost block?\n",
    "<details>\n",
    "<summary>Hint?</summary>\n",
    "A code block evaluates to the value of the final statement in the block.\n",
    "</details>\n",
    "</div>"
   ]
  },
  {
   "cell_type": "code",
   "execution_count": 14,
   "id": "cc6a157b-615f-45a1-b4d3-7c878cddcf09",
   "metadata": {},
   "outputs": [
    {
     "data": {
      "text/plain": [
       "\u001b[36mres13_0\u001b[39m: \u001b[32mInt\u001b[39m = \u001b[32m5\u001b[39m\n",
       "\u001b[36mres13_1\u001b[39m: \u001b[32mInt\u001b[39m = \u001b[32m9\u001b[39m"
      ]
     },
     "execution_count": 14,
     "metadata": {},
     "output_type": "execute_result"
    }
   ],
   "source": [
    "{\n",
    "    {\n",
    "        2 + 3\n",
    "    }\n",
    "    9\n",
    "}"
   ]
  },
  {
   "cell_type": "markdown",
   "id": "ca2762fb-8c9c-46ee-8347-b6004b6e7791",
   "metadata": {},
   "source": [
    "However, this nested structure has implications for what values and variables are within scope.  Within a particular block, you can only access values and variables:\n",
    "* defined within that block, and\n",
    "* to those in scope of the block that contains this block.\n",
    "\n",
    "The following code compiles because it respects scope:"
   ]
  },
  {
   "cell_type": "code",
   "execution_count": 18,
   "id": "bf66bee1-c071-4ca0-a5e0-8beaba09986e",
   "metadata": {},
   "outputs": [
    {
     "data": {
      "text/plain": [
       "\u001b[36mx\u001b[39m: \u001b[32mInt\u001b[39m = \u001b[32m3\u001b[39m\n",
       "\u001b[36mres17_1\u001b[39m: \u001b[32mInt\u001b[39m = \u001b[32m8\u001b[39m\n",
       "\u001b[36mres17_2\u001b[39m: \u001b[32mInt\u001b[39m = \u001b[32m10\u001b[39m\n",
       "\u001b[36mres17_3\u001b[39m: \u001b[32mInt\u001b[39m = \u001b[32m6\u001b[39m"
      ]
     },
     "execution_count": 18,
     "metadata": {},
     "output_type": "execute_result"
    }
   ],
   "source": [
    "{\n",
    "    val x = 3\n",
    "    \n",
    "    {\n",
    "        val p = 5\n",
    "        p + x\n",
    "    }\n",
    "\n",
    "    {\n",
    "        val a = 7\n",
    "        a + x\n",
    "    }\n",
    "    \n",
    "    x + x\n",
    "}"
   ]
  },
  {
   "cell_type": "markdown",
   "id": "44733fce-5320-4963-952c-b7abdb4ed14a",
   "metadata": {},
   "source": [
    "However, some values are not within scope in some blocks. For example, in the second nested block, value ```p``` is not in scope.\n",
    "\n",
    "<div class=\"alert alert-block\">\n",
    "<b>Question 4</b><br/>\n",
    "For each block, list what values from all defined values (<code>x</code>, <code>p</code> and <code>a</code>) are in scope.\n",
    "<details>\n",
    "<summary>Hint?</summary>\n",
    "Use the definition of scope and work out what values are *in* scope to determine what values are *not* in scope.\n",
    "</details>\n",
    "</div>\n",
    "\n",
    "If you write code that tries to access a value or variable that is not in scope, the compiler will result in an error stating which value cannot be found."
   ]
  },
  {
   "cell_type": "code",
   "execution_count": 18,
   "id": "c4028ddd-a769-4396-9d94-857ea964fc50",
   "metadata": {},
   "outputs": [
    {
     "name": "stderr",
     "output_type": "stream",
     "text": [
      "cmd18.sc:6: not found: value p\n",
      "    val res18_2 = x + p  // Cannot access p\n",
      "                      ^Compilation Failed"
     ]
    },
    {
     "ename": "",
     "evalue": "",
     "output_type": "error",
     "traceback": [
      "Compilation Failed"
     ]
    }
   ],
   "source": [
    "{\n",
    "    val x = 3\n",
    "    {\n",
    "        val p = 5\n",
    "        p + 1\n",
    "    }\n",
    "    x + p  // Cannot access p\n",
    "}"
   ]
  },
  {
   "cell_type": "markdown",
   "id": "c17f93b4-302c-456f-9f98-a4483e180324",
   "metadata": {},
   "source": [
    "## Conditional\n",
    "\n",
    "The *conditional* expression is more colloquially known as the if-then-else expression. It allows for branching paths of code, depending on the truth value of the conditional. Each branch is a block of code delineated with curly brackets.\n",
    "\n",
    "<div class=\"alert alert-block\">\n",
    "<b>Question 5</b><br/>\n",
    "Try changing the value of <code>x</code> and predict what code block will be evaluated.\n",
    "</div>"
   ]
  },
  {
   "cell_type": "code",
   "execution_count": 20,
   "id": "a2aa5176-8808-4be5-88a5-24c598fe3523",
   "metadata": {},
   "outputs": [
    {
     "name": "stdout",
     "output_type": "stream",
     "text": [
      "X is even.\n"
     ]
    },
    {
     "data": {
      "text/plain": [
       "\u001b[36mx\u001b[39m: \u001b[32mInt\u001b[39m = \u001b[32m4\u001b[39m"
      ]
     },
     "execution_count": 20,
     "metadata": {},
     "output_type": "execute_result"
    }
   ],
   "source": [
    "val x = 4\n",
    "\n",
    "if(x % 2 == 0) {\n",
    "  println(\"X is even.\")\n",
    "} else {\n",
    "  println(\"X is odd.\")\n",
    "}"
   ]
  },
  {
   "cell_type": "markdown",
   "id": "08ab6d0d-3436-4339-9cf6-75a525f01900",
   "metadata": {},
   "source": [
    "The entire conditional is implicitly also a block, which has two implications. Firstly, the conditional block itself evaluates to the value of the final statement in the branch that is evaluated depending on the truth value. Secondly, because conditionals are blocks, they can be nested.\n",
    "\n",
    "<div class=\"alert alert-block\">\n",
    "<b>Question 6</b><br/>\n",
    "Before running the code below, to what value does the (outer) conditional evaluate to? And what if the value of <code>x</code> is 12, -5 or -100?\n",
    "<details>\n",
    "<summary>Hint?</summary>\n",
    "In this example, each branch evaluates to a <code>String</code>. Follow the conditional statements to figure out which branch is evaluated.\n",
    "<details>\n",
    "<summary>Hint?</summary>\n",
    "The nested conditional is a block too, which evaluates to the value of the chosen branch.\n",
    "</details>\n",
    "</details>\n",
    "</div>"
   ]
  },
  {
   "cell_type": "code",
   "execution_count": 25,
   "id": "a73fcf45-ff03-4aab-88fb-69f9ba320689",
   "metadata": {},
   "outputs": [
    {
     "data": {
      "text/plain": [
       "\u001b[36mx\u001b[39m: \u001b[32mInt\u001b[39m = \u001b[32m5\u001b[39m\n",
       "\u001b[36mres24_1\u001b[39m: \u001b[32mString\u001b[39m = \u001b[32m\"X is odd and positive.\"\u001b[39m"
      ]
     },
     "execution_count": 25,
     "metadata": {},
     "output_type": "execute_result"
    }
   ],
   "source": [
    "val x = 5\n",
    "\n",
    "if(x % 2 == 0) {\n",
    "  if(x < 0) {\n",
    "      \"X is even and negative.\"\n",
    "  } else {\n",
    "      \"X is even and positive.\"\n",
    "  }\n",
    "} else {\n",
    "  if(x < 0) {\n",
    "      \"X is odd and negative.\"\n",
    "  } else {\n",
    "      \"X is odd and positive.\"\n",
    "  }\n",
    "}"
   ]
  },
  {
   "cell_type": "markdown",
   "id": "149b31a5-c8ad-419b-8787-7fc7d8594d24",
   "metadata": {},
   "source": [
    "Each branch of the conditional consists of a code block. When a branch consists of a single expression, the curly brackets can be left out to simplify the code."
   ]
  },
  {
   "cell_type": "code",
   "execution_count": 21,
   "id": "105bbf8e-4cf5-4bdd-8ca4-721c664db219",
   "metadata": {},
   "outputs": [
    {
     "name": "stdout",
     "output_type": "stream",
     "text": [
      "X is even.\n"
     ]
    },
    {
     "data": {
      "text/plain": [
       "\u001b[36mx\u001b[39m: \u001b[32mInt\u001b[39m = \u001b[32m4\u001b[39m"
      ]
     },
     "execution_count": 21,
     "metadata": {},
     "output_type": "execute_result"
    }
   ],
   "source": [
    "val x = 4\n",
    "if(x % 2 == 0) println(\"X is even.\")\n",
    "else println(\"X is odd.\")"
   ]
  },
  {
   "cell_type": "markdown",
   "id": "151b302e-54ab-4608-b805-e863dfee52ab",
   "metadata": {},
   "source": [
    "You can have an arbitrary number of branching paths, each with its own block using ```else if```:"
   ]
  },
  {
   "cell_type": "code",
   "execution_count": 26,
   "id": "d3676292-432b-4238-92b5-ccb07a5811b2",
   "metadata": {},
   "outputs": [
    {
     "name": "stdout",
     "output_type": "stream",
     "text": [
      "X is small.\n"
     ]
    },
    {
     "data": {
      "text/plain": [
       "\u001b[36mx\u001b[39m: \u001b[32mInt\u001b[39m = \u001b[32m4\u001b[39m"
      ]
     },
     "execution_count": 26,
     "metadata": {},
     "output_type": "execute_result"
    }
   ],
   "source": [
    "val x = 4\n",
    "if(x < 0) {\n",
    "    println(\"X is negative.\")\n",
    "} else if(x == 0) {\n",
    "    println(\"X is zero.\")\n",
    "} else if(x <= 10) {\n",
    "    println(\"X is small.\")\n",
    "} else {\n",
    "    println(\"X is large.\")\n",
    "}"
   ]
  },
  {
   "cell_type": "markdown",
   "id": "529c5387-a7b1-48d4-b470-357a1e9953d9",
   "metadata": {},
   "source": [
    "Conditionals can be combined with functions to write a reusable piece of code whose output is computed differently depending on some truth condition. For example, a function that computes the absolute value of ```x``` multiplies ```x``` with -1 if ```x``` is negative and otherwise evaluates to ```x```.\n",
    "\n",
    "<div class=\"alert alert-block\">\n",
    "<b>Question 7</b><br/>\n",
    "Complete the code below by implementing the body of ```abs(x: Int): Int``` by replacing ```???``` with code. The function should evaluate to the absolute (positive) value of ```x```.\n",
    "<details>\n",
    "<summary>Hint?</summary>\n",
    "You need to use the conditional expression. Look at the examples above where the conditional tests for negative numbers to distinguish two cases: ```x``` is negative and ```x``` is positive and for each case compute the right value.\n",
    "<details>\n",
    "<summary>Hint?</summary>\n",
    "For one case, computing the right value means doing nothing, just evaluate to ```x```.\n",
    "</details>\n",
    "</details>\n",
    "</div>"
   ]
  },
  {
   "cell_type": "code",
   "execution_count": 32,
   "id": "404e5b90-bdd6-4792-830a-a1695b85901c",
   "metadata": {},
   "outputs": [
    {
     "data": {
      "text/plain": [
       "defined \u001b[32mfunction\u001b[39m \u001b[36mabs\u001b[39m"
      ]
     },
     "execution_count": 32,
     "metadata": {},
     "output_type": "execute_result"
    }
   ],
   "source": [
    "def abs(x: Int): Int = {\n",
    "    ???\n",
    "}"
   ]
  },
  {
   "cell_type": "markdown",
   "id": "816feb7b-d632-44e6-9a31-7c3c8125c8c5",
   "metadata": {},
   "source": [
    "You can test your function using the following code, it should return only true."
   ]
  },
  {
   "cell_type": "code",
   "execution_count": 33,
   "id": "274f6b3d-816c-424e-a883-f0b7fc7f175e",
   "metadata": {},
   "outputs": [
    {
     "ename": "",
     "evalue": "",
     "output_type": "error",
     "traceback": [
      "\u001b[31mscala.NotImplementedError: an implementation is missing\u001b[39m\n  scala.Predef$.$qmark$qmark$qmark(\u001b[32mPredef.scala\u001b[39m:\u001b[32m345\u001b[39m)\n  ammonite.$sess.cmd31$Helper.abs(\u001b[32mcmd31.sc\u001b[39m:\u001b[32m2\u001b[39m)\n  ammonite.$sess.cmd32$Helper.<init>(\u001b[32mcmd32.sc\u001b[39m:\u001b[32m1\u001b[39m)\n  ammonite.$sess.cmd32$.<clinit>(\u001b[32mcmd32.sc\u001b[39m:\u001b[32m7\u001b[39m)"
     ]
    }
   ],
   "source": [
    "abs(1) == 1\n",
    "abs(-100) == 100\n",
    "abs(0) == 0"
   ]
  },
  {
   "cell_type": "markdown",
   "id": "fc236a87-4bd5-4d2c-bbfe-17ff50588c69",
   "metadata": {},
   "source": [
    "## Basic types\n",
    "..."
   ]
  }
 ],
 "metadata": {
  "kernelspec": {
   "display_name": "Scala",
   "language": "scala",
   "name": "scala"
  },
  "language_info": {
   "codemirror_mode": "text/x-scala",
   "file_extension": ".sc",
   "mimetype": "text/x-scala",
   "name": "scala",
   "nbconvert_exporter": "script",
   "version": "2.13.4"
  }
 },
 "nbformat": 4,
 "nbformat_minor": 5
}
