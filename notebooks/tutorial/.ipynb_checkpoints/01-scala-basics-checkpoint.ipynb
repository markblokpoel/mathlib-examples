{
 "cells": [
  {
   "cell_type": "markdown",
   "id": "c77bb7dc-d9ca-4bbf-9c3f-83231342d194",
   "metadata": {},
   "source": [
    "# Scala basics\n",
    "\n",
    "We cover only a small subset of the full Scala language here. This subset suffices for implementing basic simulations of formal theories. If after reading this chapter you want to learn more about Scala, there are various textbooks (e.g. Odersky, Spoon and Venners, 2019; but see also [Scala books](https://docs.scala-lang.org/books.html)) and online resources such as the official [Tour of Scala](https://docs.scala-lang.org/tour/tour-of-scala.html) and [Creative Scala](https://www.creativescala.org/)."
   ]
  },
  {
   "cell_type": "markdown",
   "id": "355e960c-5a6d-477a-8ea7-212071b73944",
   "metadata": {
    "tags": []
   },
   "source": [
    "## Values, functions and types\n",
    "\n",
    "The basic expressions in a functional programming language such as Scala are values, functions and types. A value is a container that can store information. For example:"
   ]
  },
  {
   "cell_type": "code",
   "execution_count": 2,
   "id": "8569954e-95e5-4570-9bd1-e95926f2cb1d",
   "metadata": {},
   "outputs": [
    {
     "data": {
      "text/plain": [
       "\u001b[36mmyNumber\u001b[39m: \u001b[32mInt\u001b[39m = \u001b[32m3\u001b[39m\n",
       "\u001b[36mmyString\u001b[39m: \u001b[32mString\u001b[39m = \u001b[32m\"Coding\"\u001b[39m"
      ]
     },
     "execution_count": 2,
     "metadata": {},
     "output_type": "execute_result"
    }
   ],
   "source": [
    "val myNumber = 3\n",
    "val myString = \"Coding\""
   ]
  },
  {
   "cell_type": "markdown",
   "id": "94aa8894-9f25-4d3a-a45a-36961fb52536",
   "metadata": {},
   "source": [
    "In Scala, like in math, once a value is set, it cannot change. It is constant, it is *immutable*. The latter term is programming language jargon. Of course, *mutable* values also exist and these are called variables. Their definition hides in their name, variables can change. For example:"
   ]
  },
  {
   "cell_type": "code",
   "execution_count": 3,
   "id": "0f421f74-6245-4f28-98c3-325b89f5d779",
   "metadata": {},
   "outputs": [
    {
     "data": {
      "text/html": [
       "<div class=\"jp-RenderedText\">\n",
       "<pre><code><span style=\"color: rgb(0, 187, 187)\"><span class=\"ansi-cyan-fg\">myAge</span></span>: <span style=\"color: rgb(0, 187, 0)\"><span class=\"ansi-green-fg\">Int</span></span> = <style>@keyframes fadein { from { opacity: 0; } to { opacity: 1; } }</style><span style=\"animation: fadein 2s;\"><span style=\"color: rgb(0, 187, 0)\"><span class=\"ansi-green-fg\">39</span></span></span></code></pre>\n",
       "</div>"
      ],
      "text/plain": [
       "\u001b[36mmyAge\u001b[39m: \u001b[32mInt\u001b[39m = \u001b[32m39\u001b[39m"
      ]
     },
     "metadata": {},
     "output_type": "display_data"
    }
   ],
   "source": [
    "var myAge = 38"
   ]
  },
  {
   "cell_type": "markdown",
   "id": "b710fa6c-3807-40da-8b91-33e7ded4d3d8",
   "metadata": {},
   "source": [
    "Variables can be reassigned a new value without having to declare them again:"
   ]
  },
  {
   "cell_type": "code",
   "execution_count": 5,
   "id": "fc0c40d6-3616-4231-a2ff-8f0f07de7cda",
   "metadata": {},
   "outputs": [],
   "source": [
    "myAge = 39"
   ]
  },
  {
   "cell_type": "markdown",
   "id": "941b905a-4890-47db-8240-8cda7fc97f40",
   "metadata": {},
   "source": [
    "Variables might seem the more easier and flexible of the two, but the downside of their flexibility is, especially in larger code, "
   ]
  }
 ],
 "metadata": {
  "kernelspec": {
   "display_name": "Scala",
   "language": "scala",
   "name": "scala"
  },
  "language_info": {
   "codemirror_mode": "text/x-scala",
   "file_extension": ".sc",
   "mimetype": "text/x-scala",
   "name": "scala",
   "nbconvert_exporter": "script",
   "version": "2.13.4"
  }
 },
 "nbformat": 4,
 "nbformat_minor": 5
}
