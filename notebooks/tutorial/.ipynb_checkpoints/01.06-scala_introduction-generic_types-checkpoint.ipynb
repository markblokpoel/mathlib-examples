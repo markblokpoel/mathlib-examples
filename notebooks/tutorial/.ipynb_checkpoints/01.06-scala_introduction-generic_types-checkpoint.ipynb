{
 "cells": [
  {
   "cell_type": "markdown",
   "id": "275c11e2-f7c4-45de-aa0e-48e8e4ce7f02",
   "metadata": {},
   "source": [
    "### 1.6 Generic types\n",
    "\n",
    "..."
   ]
  },
  {
   "cell_type": "markdown",
   "id": "24cb0f7f-1d98-4ed5-9629-d5607a902740",
   "metadata": {},
   "source": []
  }
 ],
 "metadata": {
  "kernelspec": {
   "display_name": "Scala",
   "language": "scala",
   "name": "scala"
  },
  "language_info": {
   "codemirror_mode": "text/x-scala",
   "file_extension": ".sc",
   "mimetype": "text/x-scala",
   "name": "scala",
   "nbconvert_exporter": "script",
   "version": "2.13.4"
  }
 },
 "nbformat": 4,
 "nbformat_minor": 5
}
