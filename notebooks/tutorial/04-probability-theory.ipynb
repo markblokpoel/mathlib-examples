{
 "cells": [
  {
   "cell_type": "code",
   "execution_count": 2,
   "id": "ceb83c69-ed81-4ccc-abf7-4d1482982698",
   "metadata": {},
   "outputs": [
    {
     "data": {
      "text/plain": [
       "\u001b[32mimport \u001b[39m\u001b[36mcoursierapi._\n",
       "\u001b[39m"
      ]
     },
     "execution_count": 2,
     "metadata": {},
     "output_type": "execute_result"
    }
   ],
   "source": [
    "import coursierapi._\n",
    "interp.repositories() ++= Seq(\n",
    "    MavenRepository.of(\"https://jitpack.io\")\n",
    ")"
   ]
  },
  {
   "cell_type": "code",
   "execution_count": 17,
   "id": "2ab754a4-234d-4430-94bb-031dfb9c2392",
   "metadata": {},
   "outputs": [
    {
     "data": {
      "text/plain": [
       "\u001b[32mimport \u001b[39m\u001b[36m$ivy.$                                                   \n",
       "\u001b[39m\n",
       "\u001b[32mimport \u001b[39m\u001b[36mmathlib.probability._\n",
       "\u001b[39m\n",
       "\u001b[32mimport \u001b[39m\u001b[36mmathlib.probability.Implicits._\u001b[39m"
      ]
     },
     "execution_count": 17,
     "metadata": {},
     "output_type": "execute_result"
    }
   ],
   "source": [
    "import $ivy.`com.github.markblokpoel.mathlib::mathlib:-SNAPSHOT`\n",
    "import mathlib.probability._\n",
    "import mathlib.probability.Implicits._"
   ]
  },
  {
   "cell_type": "code",
   "execution_count": 18,
   "id": "a290016f-792a-40f4-9b63-7b6717ee4617",
   "metadata": {},
   "outputs": [
    {
     "data": {
      "text/plain": [
       "\u001b[36md6\u001b[39m: \u001b[32mDistribution\u001b[39m[\u001b[32mInt\u001b[39m] = \u001b[33mDistribution\u001b[39m(\n",
       "  domain = \u001b[33mHashSet\u001b[39m(\u001b[32m5\u001b[39m, \u001b[32m1\u001b[39m, \u001b[32m6\u001b[39m, \u001b[32m2\u001b[39m, \u001b[32m3\u001b[39m, \u001b[32m4\u001b[39m),\n",
       "  distribution = \u001b[33mHashMap\u001b[39m(\n",
       "    \u001b[32m5\u001b[39m -> \u001b[32m0.16666666666666666\u001b[39m,\n",
       "    \u001b[32m1\u001b[39m -> \u001b[32m0.16666666666666666\u001b[39m,\n",
       "    \u001b[32m6\u001b[39m -> \u001b[32m0.16666666666666666\u001b[39m,\n",
       "    \u001b[32m2\u001b[39m -> \u001b[32m0.16666666666666666\u001b[39m,\n",
       "    \u001b[32m3\u001b[39m -> \u001b[32m0.16666666666666666\u001b[39m,\n",
       "    \u001b[32m4\u001b[39m -> \u001b[32m0.16666666666666666\u001b[39m\n",
       "  )\n",
       ")\n",
       "\u001b[36mres17_1\u001b[39m: \u001b[32mDistribution\u001b[39m[\u001b[32mInt\u001b[39m] = \u001b[33mDistribution\u001b[39m(\n",
       "  domain = \u001b[33mHashSet\u001b[39m(\u001b[32m5\u001b[39m, \u001b[32m1\u001b[39m, \u001b[32m6\u001b[39m, \u001b[32m2\u001b[39m, \u001b[32m3\u001b[39m, \u001b[32m4\u001b[39m),\n",
       "  distribution = \u001b[33mHashMap\u001b[39m(\n",
       "    \u001b[32m5\u001b[39m -> \u001b[32m0.16666666666666666\u001b[39m,\n",
       "    \u001b[32m1\u001b[39m -> \u001b[32m0.16666666666666666\u001b[39m,\n",
       "    \u001b[32m6\u001b[39m -> \u001b[32m0.16666666666666666\u001b[39m,\n",
       "    \u001b[32m2\u001b[39m -> \u001b[32m0.16666666666666666\u001b[39m,\n",
       "    \u001b[32m3\u001b[39m -> \u001b[32m0.16666666666666666\u001b[39m,\n",
       "    \u001b[32m4\u001b[39m -> \u001b[32m0.16666666666666666\u001b[39m\n",
       "  )\n",
       ")"
      ]
     },
     "execution_count": 18,
     "metadata": {},
     "output_type": "execute_result"
    }
   ],
   "source": [
    "val d6 = Distribution(\n",
    "    domain = Set(1, 2, 3, 4, 5, 6),\n",
    "    distribution = Map(\n",
    "        1 -> 1.0/6,\n",
    "        2 -> 1.0/6,\n",
    "        3 -> 1.0/6,\n",
    "        4 -> 1.0/6,\n",
    "        5 -> 1.0/6,\n",
    "        6 -> 1.0/6\n",
    "    )\n",
    ")\n",
    "\n",
    "(1 to 6).toSet.uniformDistribution"
   ]
  },
  {
   "cell_type": "code",
   "execution_count": 16,
   "id": "9cd6f42d-946e-4b9b-8a87-a9a142cf01fa",
   "metadata": {},
   "outputs": [
    {
     "name": "stdout",
     "output_type": "stream",
     "text": [
      "2\n",
      "6\n",
      "4\n",
      "6\n",
      "6\n",
      "3\n",
      "2\n",
      "4\n",
      "4\n",
      "2\n"
     ]
    }
   ],
   "source": [
    "d6.sample(10).foreach(println)"
   ]
  }
 ],
 "metadata": {
  "kernelspec": {
   "display_name": "Scala",
   "language": "scala",
   "name": "scala"
  },
  "language_info": {
   "codemirror_mode": "text/x-scala",
   "file_extension": ".sc",
   "mimetype": "text/x-scala",
   "name": "scala",
   "nbconvert_exporter": "script",
   "version": "2.13.4"
  }
 },
 "nbformat": 4,
 "nbformat_minor": 5
}
