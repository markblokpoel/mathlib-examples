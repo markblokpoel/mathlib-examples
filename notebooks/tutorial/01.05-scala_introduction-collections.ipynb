{
 "cells": [
  {
   "cell_type": "markdown",
   "id": "275c11e2-f7c4-45de-aa0e-48e8e4ce7f02",
   "metadata": {},
   "source": [
    "### 1.5 Collections\n",
    "\n",
    "When you want to store multiple values you can use *collections*. For example, you might want to store the temperature forecast for the next seven days.\n",
    "\n",
    "|Temperature|\n",
    "|-:|\n",
    "|22.2 °C|\n",
    "|23.1 °C|\n",
    "|23.7 °C|\n",
    "|22.3 °C|\n",
    "|24.3 °C|\n",
    "|24.7 °C|\n",
    "|25.1 °C|\n",
    "\n",
    "Or the people that you know: Erik, Lamar, Angelica, Emanuel, Lorraine, Meghan, Myron, Erica, Lester, Javier, Kelly, Abraham, Lindsay, Harriet, and Guadalupe. \n",
    "\n",
    "Or the cost of a all menu card items: Vegan pie costs €9,90, a beer costs €3,90, etc.\n",
    "\n",
    "Some collections, like the temperature forecast and menu card item, are ordered: one value follows the next. In math, ordered collections are expressed in a list or sequence.\n",
    "\n",
    "$$\\langle 22.2, 23.1, 23.7, 22.3, 24.3, 24.7, 25.1 \\rangle$$\n",
    "\n",
    "Different types of collections exist, and hence there are different implementations of collections available in Scala. We cover here lists, sets, tuples and maps. These four collections are most commonly used.\n",
    "\n",
    "### 1.5.1 List\n",
    "In Scala we can store ordered collections in a ```List```."
   ]
  },
  {
   "cell_type": "code",
   "execution_count": null,
   "id": "d93c38e7-6e37-4b8d-be63-729aea2c1d1d",
   "metadata": {},
   "outputs": [],
   "source": [
    "val forecast = List(22.2, 23.1, 23.7, 22.3, 24.3, 24.7, 25.1)"
   ]
  },
  {
   "cell_type": "markdown",
   "id": "84bcac01-8f73-4dae-8827-ec59dfb7a89a",
   "metadata": {},
   "source": [
    "One a list is defined, we can access an element by its index. Starting with the first item in the list which has index 0."
   ]
  },
  {
   "cell_type": "code",
   "execution_count": null,
   "id": "5d5a8cd5-9206-4454-9c4d-921354c4172a",
   "metadata": {},
   "outputs": [],
   "source": [
    "forecast(0)\n",
    "forecast(6)"
   ]
  },
  {
   "cell_type": "markdown",
   "id": "b78ac04f-5615-466e-a272-471a388cab18",
   "metadata": {},
   "source": [
    "### 1.5.2 Sets\n",
    "\n",
    "Unordered collections, such as people, are in math expressed in a set: \n",
    "\n",
    "$$\\{\\text{Erik},\\text{Lamar},\\text{Angelica},\\text{Emanuel},\\text{Lorraine},\\text{Meghan},\\text{Myron},\\text{Erica},\\text{Lester},\\text{Javier},\\text{Kelly},\\text{Abraham},\\text{Lindsay},\\text{Harriet},\\text{Guadalupe}\\}$$\n",
    "\n",
    "And Scala follows the math accordingly. Note that because sets are unordered, we have no way of accessing the individual elements by an index. Also note that any duplicates added to a set will be removed, as sets cannot contain multiple copies of the same entity."
   ]
  },
  {
   "cell_type": "code",
   "execution_count": null,
   "id": "1a4bb653-7182-40eb-b64b-c41f9dcbd0e8",
   "metadata": {},
   "outputs": [],
   "source": [
    "val people   = Set(\"Erik\", \"Lamar\", \"Angelica\", \"Emanuel\", \"Lorraine\",\n",
    "                   \"Meghan\", \"Myron\", \"Erica\", \"Lester\", \"Javier\", \"Kelly\",\n",
    "                   \"Abraham\", \"Lindsay\", \"Harriet\", \"Guadalupe\")"
   ]
  },
  {
   "cell_type": "markdown",
   "id": "1a852345-c9a3-4000-b967-cb3d26f0d958",
   "metadata": {},
   "source": [
    "We'll dive into sets below using the ```mathlib``` library, so let's first get\n",
    "some familiarity with lists. Some basic examples are in the code block below.\n",
    "Try playing around with them to see what they do."
   ]
  },
  {
   "cell_type": "code",
   "execution_count": null,
   "id": "c44570ae-3f52-49b9-8e48-e64cf5cd1f8e",
   "metadata": {},
   "outputs": [],
   "source": [
    "val forecastThisWeek = List(22.2, 23.1, 23.7, 22.3, 24.3, 24.7, 25.1)\n",
    "val forecastNextWeek = List(22.3, 19.8, 18.4, 18.0, 17.6, 17.5, 17.2)\n",
    "\n",
    "val oneMore          = 23.1 :: forecastThisWeek               // Prepend element.\n",
    "val combinedForecast = forecastThisWeek ::: forecastNextWeek  // Prepend list.\n",
    "val listSize         = forecastThisWeek.size                  // Number of elements in list.\n",
    "val contains23_7     = forecastThisWeek.contains(23.7)        // Does the list contain element?\n",
    "val firstElement     = forecastThisWeek.head                  // The first element of the list.\n",
    "val tailElements     = forecastThisWeek.tail                  // Everything except the first element.\n",
    "val element3         = forecastThisWeek(3)                    // The n-th element.\n",
    "val isForecastEmpty  = forecastThisWeek.isEmpty               // Checks whether the list is emtpy."
   ]
  },
  {
   "cell_type": "markdown",
   "id": "134242bf-89c4-4bb9-ba1e-c3674b00b6ba",
   "metadata": {},
   "source": [
    "### 1.5.3 Working with collections\n",
    "\n",
    "A very important property of collections in Scala is that all their elements consist of the same type. A list of integers cannot also contain a string. This property, while constraining at first glance, actually affords some very powerful ways of working with collections. Because we can safely assume all elements in a collection are of the same type, we can apply functions to all of the elements without any errors or unpredictable side effects.\n",
    "\n",
    "The idea is that if we have a function that applies to one element, e.g., $sq(x) = x^2)$, we can apply it to all elements in the list. The most common of these applications is called ```map``` (not to be confused with the collection ```Map``` with capital M). It takes as argument a function ```f``` and evaluates to a list where each element computed using ```f```.\n",
    "\n",
    "\n",
    "\n",
    "| ```list``` | ```1``` | ```2``` | ```3``` | ```4``` |\n",
    "|-:|:-:|:-:|:-:|:-:|\n",
    "|  | $$\\downarrow$$ | $$\\downarrow$$ | $$\\downarrow$$ | $$\\downarrow$$ |\n",
    "|  | ```sq(1)``` | ```sq(2)``` | ```sq(3)``` | ```sq(4)``` |\n",
    "|  | $$\\downarrow$$ | $$\\downarrow$$ | $$\\downarrow$$ | $$\\downarrow$$ |\n",
    "| ```list.map(sq)``` | ```1``` | ```4``` | ```9``` | ```16``` |"
   ]
  },
  {
   "cell_type": "code",
   "execution_count": null,
   "id": "9a6c070c-8d04-48b3-99ab-cd08a5c073f6",
   "metadata": {},
   "outputs": [],
   "source": [
    "def sq(x: Int): Int = x * x     // Function that computes the square root of x.\n",
    "\n",
    "val list = List(1, 2, 3, 4)     // The original list\n",
    "val squaredList = list.map(sq)  // The squared list"
   ]
  },
  {
   "cell_type": "markdown",
   "id": "59a4c2e4-9774-4bde-8b45-758e1361286e",
   "metadata": {},
   "source": [
    "The type of the argument of the function must be the same type as the elements in the list, but its output can be of any type. For example, take an ```Int``` and return a ```String```. \n",
    "\n",
    "<div class=\"alert alert-block alert-warning\">\n",
    "<b>Recursion</b><br/>\n",
    "The function <code>xx</code> is defined using <a href=\"https://en.wikipedia.org/wiki/Recursion\">recursion</a>. It is not important to understand how this works. If you are curious, though, here is a short explanation.\n",
    "\n",
    "Given any integer $x$ as input, the function check if that number is bigger than one. If so, it will evaluate to the string \"x\" and append the result of calling itself with x-1. This call is the recursive step. If <code>xx</code> is called with $x=1$, then it does not take a recursive step and simply results in the string \"x\".\n",
    "\n",
    "We can manually evaluate <code>xx(3)</code> by rewriting the function calls:\n",
    "\n",
    "|Evaluation|Rewrite how?|\n",
    "|-:|:-:|\n",
    "|```xx(3)```| ```3>1==true``` so we replace with ```xx(3)``` with ```\"x\" + xx(2)```|\n",
    "|```\"x\" + xx(2)```| ```2>1==true``` so we replace ```xx(2)``` with ```\"x\" + xx(1)```|\n",
    "|```\"x\" + \"x\" + xx(1)```| ```1>1==false``` so we replace ```xx(1)``` with ```\"x\"```|\n",
    "|```\"x\" + \"x\" + \"x\"```| No function call to rewrite, evaluation is complete.|\n",
    "\n",
    "Note that the function does not deal correctly with numbers less than or equal to 0. Can you predict what happens if you call <code>xx(0)</code> and <code>xx(-100)</code>?\n",
    "</div>"
   ]
  },
  {
   "cell_type": "code",
   "execution_count": null,
   "id": "ed058b16-0c42-4984-b726-3d72b1a1febd",
   "metadata": {},
   "outputs": [],
   "source": [
    "// Function that creates a String with x \"x\"s.\n",
    "def xx(x: Int): String = {\n",
    "  if(x>1) \"x\" + xx(x-1)\n",
    "  else \"x\"\n",
    "}\n",
    "\n",
    "val originalList = List(1, 2, 3, 4)\n",
    "val stringList = list.map(xx)"
   ]
  },
  {
   "cell_type": "markdown",
   "id": "c1cf577c-0b49-4c04-9ce5-00411ca2a0ba",
   "metadata": {},
   "source": [
    "What other useful things can we do with lists? Below are some examples. We predefine a function to evaluate if an integer is even. "
   ]
  },
  {
   "cell_type": "code",
   "execution_count": null,
   "id": "6b7efa6f-eeef-4ec2-b1d4-e6544baeed93",
   "metadata": {},
   "outputs": [],
   "source": [
    "// Function that checks whether x is even.\n",
    "def isEven(x: Int): Boolean = {\n",
    "  x % 2 == 0\n",
    "}\n",
    "val list = List(1, 2, 3, 4)\n",
    "\n",
    "val existsEven        = list.exists(isEven)    // Does list contain an element that isEven?\n",
    "val areAllEven        = list.forall(isEven)    // Do all elements in list return true for isEven?\n",
    "val onlyEven          = list.filter(isEven)    // Filter out all elements that return true for isEven.\n",
    "val countEven         = list.count(isEven)     // Count all the even numbers in the list."
   ]
  },
  {
   "cell_type": "markdown",
   "id": "facc43fc-5c72-4088-b766-fd8ca485dcf8",
   "metadata": {},
   "source": [
    "<div class=\"alert alert-block\">\n",
    "<b>Question 1</b><br/>\n",
    "Let's define something silly. Let a funky number be a number that is both odd and when one subtracts 11 it is divisable by 5. Formally, $x$ is <i>funky</i> if and only if $(x \\mod 2 \\neq 0) \\wedge ((x - 11) \\mod 5) == 0$.\n",
    "    \n",
    "Write the Scala function ```isFunky``` that decides if its argument is funky, then count how many funky numbers are in the list of numbers below.\n",
    "\n",
    "<details>\n",
    "<summary>Hint?</summary>\n",
    "You can use <a href=\"01.04-scala_introduction-basic_types.ipynb#1.4.3-Combining-numbers-and-booleans\">Section 1.4.3</a> as a reference for this question.\n",
    "</details>\n",
    "</div>"
   ]
  },
  {
   "cell_type": "code",
   "execution_count": null,
   "id": "e713607c-9530-4cd4-bab2-983a6f4c6346",
   "metadata": {},
   "outputs": [],
   "source": [
    "def isFunky(x: Int): Boolean = {\n",
    "    ???\n",
    "}\n",
    "\n",
    "val list = (0 until 100).toList\n",
    "val countFunky = ???               // Count all the funky numbers in the list."
   ]
  },
  {
   "cell_type": "markdown",
   "id": "e6df768a-686e-40c8-9a4a-db55a755087b",
   "metadata": {},
   "source": [
    "<div class=\"alert alert-block\">\n",
    "<b>Question 2</b><br/>\n",
    "Look at the code scaffold below. Implement the body of the function consonant and choose the method to apply to sentence such that the code evaluates to the sentence with only consonants.\n",
    "\n",
    "<details>\n",
    "<summary>Hint?</summary>\n",
    "The list of (English) vowels is given. Write code that checks if the set of vowels does *not* contain the character. You will need to use negation ```!``` and you can find functions for the set vowels using the ```.``` dot notation and auto-completion.\n",
    "</details>\n",
    "</div>"
   ]
  },
  {
   "cell_type": "code",
   "execution_count": null,
   "id": "ee97ec59-4a4d-47ff-9db5-b7527b0be372",
   "metadata": {},
   "outputs": [],
   "source": [
    "val sentence = \"Hi, you're doing awesome!\"\n",
    "val vowels   = Set('a', 'e', 'i', 'o', 'u')\n",
    "\n",
    "def consonant(character: Char): Boolean = {\n",
    "  !vowels.contains(character)\n",
    "}\n",
    "\n",
    "val consonantsOnly = sentence.filter(consonant)          // Filter all the consonants in the list."
   ]
  },
  {
   "cell_type": "markdown",
   "id": "4f0cdc26-2f33-4396-8a3b-f0df681b59c3",
   "metadata": {},
   "source": [
    "### 1.5.4 Maps\n",
    "\n",
    "Expressing a the cost of items on a menu card is more complex. Each item on the menu card is a pair of values, the item's name and the item's cost. One single pair can be represented by a set (if the order doesn't matter), but perhaps more naturally is to represent them using a *tuple*. In math, tuples are expressed as values between parentheses $(\\text{vegan pie}, 9.9)$, and Scala follows this convention."
   ]
  },
  {
   "cell_type": "code",
   "execution_count": null,
   "id": "0da53dbe-e041-4a28-8522-f63a939719e9",
   "metadata": {},
   "outputs": [],
   "source": [
    "val veganPie = (\"Vegan pie\", 9.90)\n",
    "val beer = (\"Beer\", 3.90)"
   ]
  },
  {
   "cell_type": "markdown",
   "id": "62be32d4-6ec4-4ccb-ac37-522fde005bef",
   "metadata": {},
   "source": [
    "To represent the menu, one could collect these tuples into a set (again if the order is irrelevant), where each element is a tuple."
   ]
  },
  {
   "cell_type": "code",
   "execution_count": null,
   "id": "9b4e59ba-9532-4d1a-9919-caa127c94337",
   "metadata": {},
   "outputs": [],
   "source": [
    "val menuCard = Set(\n",
    "    (\"Vegan pie\", 9.90),\n",
    "    (\"Beer\", 3.90)\n",
    ")"
   ]
  },
  {
   "cell_type": "markdown",
   "id": "b0ec3a18-a5f0-4846-a6d4-61bf0e9db5c2",
   "metadata": {},
   "source": [
    "This approach stores all the information, but it is impractical to retrieve any of the stored information. It would be more practical if we could use the item name to retrieve its associated cost, similarly to how we use the index to retrieve the $i^\\text{th}$ element of a list. Let's reconsider how we conceptualize the information on a menu card. Instead of a set of tuples (pairs), let's conceive of the menu as a mapping from item name to item cost:\n",
    "\n",
    "|key||value|\n",
    "|-:|:-:|-:|\n",
    "|Vegan pie|$\\rightarrow$|9.90|\n",
    "|Beer|$\\rightarrow$|3.90|\n",
    "\n",
    "In this conceptualization, the item name is the *key* to retrieve its associated *value*. Scala, like many other programming languages, have an implementation of this useful way of representing information in the ```Map``` collection."
   ]
  },
  {
   "cell_type": "code",
   "execution_count": null,
   "id": "189a28f6-4e36-413f-bc03-59abd0381f2a",
   "metadata": {},
   "outputs": [],
   "source": [
    "val menuCard = Map(\n",
    "    \"Vegan pie\" -> 9.90,\n",
    "    \"Beer\" -> 3.90\n",
    ")"
   ]
  },
  {
   "cell_type": "markdown",
   "id": "8136f813-3255-4cd7-9621-4323e3bda2ee",
   "metadata": {},
   "source": [
    "Retrieving the value of the menu items can now be done via their name (the key):"
   ]
  },
  {
   "cell_type": "code",
   "execution_count": null,
   "id": "60d89028-a6a3-41f0-b0a4-f04a40e63eee",
   "metadata": {},
   "outputs": [],
   "source": [
    "val veganPieCost = menuCard(\"Vegan pie\")\n",
    "val beerCost = menuCard(\"Beer\")"
   ]
  },
  {
   "cell_type": "markdown",
   "id": "5a6c088a-da00-4148-9346-4f327528457a",
   "metadata": {},
   "source": [
    "Like with lists and sets, we can add to, remove from and manipulate elements (keys and values) in the map. With addition, we have to add a new mapping (i.e., tuple), but with removal only the key is required. If we want to apply a function to all values, we need to use ```mapValues```. Here are some examples: "
   ]
  },
  {
   "cell_type": "code",
   "execution_count": null,
   "id": "4b27f891-3f96-4a66-b59b-56458d7d940c",
   "metadata": {},
   "outputs": [],
   "source": [
    "val menuCard = Map(\n",
    "    \"Vegan pie\" -> 9.90,\n",
    "    \"Beer\" -> 3.90\n",
    ")\n",
    "\n",
    "val biggerMenuCard = menuCard + (\"Indian curry\" -> 11.40) + (\"Espresso\" -> 2.40)\n",
    "val smallerMenuCard = menuCard - \"Beer\"\n",
    "\n",
    "def inflation(x: Double): Double = {\n",
    "    x + 1.0\n",
    "}\n",
    "\n",
    "val inflationMenuCard = menuCard.mapValues(inflation)"
   ]
  },
  {
   "cell_type": "markdown",
   "id": "a0882506-2bce-47c5-b71d-aaa7839990cf",
   "metadata": {},
   "source": [
    "<div class=\"alert alert-block\">\n",
    "<b>Question 3a</b><br/>\n",
    "Represent the following mapping from animal to it being cute or not in a ```Map``` in Scala:\n",
    "\n",
    "<table>\n",
    "    <tr><th style=\"text-align: right;\">key</th><th></th><th>value</th></tr>\n",
    "    <tr><td style=\"text-align: right;\">cat</td><td>$\\rightarrow$</td><td>true</td></tr>\n",
    "    <tr><td style=\"text-align: right;\">cuttlefish</td><td>$\\rightarrow$</td><td>true</td></tr>\n",
    "    <tr><td style=\"text-align: right;\">turtle</td><td>$\\rightarrow$</td><td>false</td></tr>\n",
    "    <tr><td style=\"text-align: right;\">blue whale</td><td>$\\rightarrow$</td><td>false</td></tr>\n",
    "    <tr><td style=\"text-align: right;\">dodo</td><td>$\\rightarrow$</td><td>false</td></tr>\n",
    "</table>\n",
    "\n",
    "<b>Question 3b</b><br/>\n",
    "Add two more animals of your choice and remove the dodo since it is extinct.\n",
    "    \n",
    "<b>Question 3c</b><br/>\n",
    "Implement a function that inverts cuteness (i.e., true becomes false and vice versa) and apply it to all values in the Map ```noDodo```.\n",
    "\n",
    "</div>"
   ]
  },
  {
   "cell_type": "code",
   "execution_count": null,
   "id": "59c0b2f4-b921-491e-92e3-7b82b8a95ada",
   "metadata": {},
   "outputs": [],
   "source": [
    "val animals = Map(\n",
    "    ???\n",
    ")\n",
    "\n",
    "val twoMoreAnimals = animals + ???\n",
    "val noDodo = twoMoreAnimals - ???\n",
    "\n",
    "def opposite(b: Boolean): Boolean = {\n",
    "    if(b) ???\n",
    "    else ???\n",
    "}\n",
    "\n",
    "val changedMyMind = ???"
   ]
  },
  {
   "cell_type": "markdown",
   "id": "35819ead-2a93-4dd0-bd42-55a718a1704b",
   "metadata": {},
   "source": [
    "Finally, we should note that each key is unique, i.e., only one copy of each key can exist. In fact, they keys of a map can normally only be retrieved as a Set."
   ]
  },
  {
   "cell_type": "code",
   "execution_count": null,
   "id": "053cf86d-0b91-4927-be9a-3c031d95507d",
   "metadata": {},
   "outputs": [],
   "source": [
    "val menuCard = Map(\n",
    "    \"Vegan pie\" -> 9.90,\n",
    "    \"Beer\" -> 3.90,\n",
    "    \"Indian curry\" -> 11.40,\n",
    "    \"Espresso\" -> 2.40\n",
    ")\n",
    "\n",
    "val keys = menuCard.keySet"
   ]
  },
  {
   "cell_type": "markdown",
   "id": "8f056af1-d88a-46eb-88d4-ea3f89bbeb39",
   "metadata": {},
   "source": [
    "<div class=\"alert alert-block\">\n",
    "<b>Question 4</b><br/>\n",
    "Let's reflect on this property. What would happen if multiple copies of the same key could exist? What value should you return when asking for the associated value of the duplicate key?\n",
    "    \n",
    "<details>\n",
    "<summary>Hint?</summary>\n",
    "The map might have the following content, what value would the key Beer evaluate to?\n",
    "<table>\n",
    "    <tr><th style=\"text-align: right;\">key</th><th></th><th>value</th></tr>\n",
    "    <tr><td style=\"text-align: right;\">Vegan pie</td><td>$\\rightarrow$</td><td>9.90</td></tr>\n",
    "    <tr><td style=\"text-align: right;\">Beer</td><td>$\\rightarrow$</td><td>3.90</td></tr>\n",
    "    <tr><td style=\"text-align: right;\">Beer</td><td>$\\rightarrow$</td><td>2.90</td></tr>\n",
    "</table>\n",
    "<details>\n",
    "<summary>Hint?</summary>\n",
    "This is a trick question, the right answer is that there is no answer, nothing to evaluate to. Why?\n",
    "</details>\n",
    "</details>\n",
    "</div>\n",
    "\n",
    "Practically, Scala cannot detect it when you add another mapping to the map that contains a key already present. So, in the Scala implementation of ```Map``` should you add a mapping with a duplicate key, the old value is replaced. "
   ]
  },
  {
   "cell_type": "code",
   "execution_count": null,
   "id": "a846744c-19bb-49f2-8066-da059e896b9b",
   "metadata": {},
   "outputs": [],
   "source": [
    "val menuCard = Map(\n",
    "    \"Vegan pie\" -> 9.90,\n",
    "    \"Beer\" -> 3.90\n",
    ")\n",
    "\n",
    "menuCard + (\"Beer\" -> 2.90)"
   ]
  },
  {
   "cell_type": "markdown",
   "id": "26e55035-18a9-4dba-831a-009be6b4f684",
   "metadata": {},
   "source": [
    "### 1.5.5 Anonymous functions\n",
    "\n",
    "At some point, you may encounter what are called [anonymous functions](https://docs.scala-lang.org/overviews/scala-book/anonymous-functions.html). These are shorthands to define a simple functions instead of defining them explicitly. Anonymous functions are like mini-functions and can be defined directly in place of the arguments of another function. It is not necessary to know how to write anonymous functions, but it is useful to be able to recognize and read them. (Though when you become more fluent in Scala, you might want to learn how to write them to save yourself time while coding.)\n",
    "\n",
    "Let's look at an example anonymous function. Instead of explicitly defining multiplication by 2:\n",
    "\n",
    "```scala\n",
    "def mul2a(i: Int): Int = {\n",
    "    i * 2\n",
    "}\n",
    "```\n",
    "\n",
    "The anonymous equivalent to ```mul2a``` would be: \n",
    "\n",
    "```scala\n",
    "def mul2b = (i: Int) => i * 2\n",
    "```\n",
    "\n",
    "This doesn't look to be much shorter, but we can forego its explicit name ```mul2b``` and instead pass it directly to another function that has an argument with the corresponding function type, in effect making the function anonymous (nameless).\n",
    "\n",
    "```scala\n",
    "List(1, 2, 3, 4).map((i: Int) => i * 2)\n",
    "```\n",
    "\n",
    "Within this context, we can make it shorter still by leaving out the type of the argument of the anonymous function, because it can be inferred from the context. In this example, the list contains integers so any function mapped onto the list will have a single integer as argument.\n",
    "\n",
    "```scala\n",
    "List(1, 2, 3, 4).map(i => i * 2)\n",
    "```\n",
    "\n",
    "This can be written even shorter by leaving out the argument and function arrow altogether. The ```_``` underscore in the anonymous function below is replaced by a single argument, which is of the same type as the elements of the collection.\n",
    "\n",
    "```scala\n",
    "List(1, 2, 3, 4).map(_ * 2)\n",
    "```\n",
    "\n",
    "You can check below that all these forms of syntax are equivalent, i.e., they evaluate to the same list."
   ]
  },
  {
   "cell_type": "code",
   "execution_count": null,
   "id": "8d5919c3-308c-4d36-b304-e5f6c9d49451",
   "metadata": {},
   "outputs": [],
   "source": [
    "def mul2a(i: Int): Int = {\n",
    "    i * 2\n",
    "}\n",
    "\n",
    "def mul2b = (i: Int) => i * 2\n",
    "\n",
    "List(1, 2, 3, 4).map(mul2a)\n",
    "List(1, 2, 3, 4).map(mul2b)\n",
    "List(1, 2, 3, 4).map((i: Int) => i * 2)\n",
    "List(1, 2, 3, 4).map(i => i * 2)\n",
    "List(1, 2, 3, 4).map(_ * 2)"
   ]
  },
  {
   "cell_type": "markdown",
   "id": "5f4a1142-d624-43a8-b9d8-1f542a571d0f",
   "metadata": {},
   "source": [
    "Below are some more examples of anonymous functions."
   ]
  },
  {
   "cell_type": "code",
   "execution_count": null,
   "id": "af09155c-bb5f-4e83-86ae-2ad120a161c8",
   "metadata": {
    "tags": []
   },
   "outputs": [],
   "source": [
    "val list = List(1, 2, 3, 4)\n",
    "\n",
    "val existsBiggerThan3 = list.exists(_ > 3)     // Implicit function, does the list contain an element larger than 3?\n",
    "val areAllLessThan100 = list.forall(_ <= 100)  // Implicit function, does the list contain an element larger than 3?\n",
    "val onlyLessThan3     = list.filter(_ < 3)     // Filter out all elements less than 3."
   ]
  },
  {
   "cell_type": "markdown",
   "id": "24cb0f7f-1d98-4ed5-9629-d5607a902740",
   "metadata": {},
   "source": [
    "## Next section\n",
    "\n",
    "We continue next with [1.6 Generic types](01.06-scala_introduction-generic_types.ipynb)."
   ]
  }
 ],
 "metadata": {
  "kernelspec": {
   "display_name": "Scala",
   "language": "scala",
   "name": "scala"
  },
  "language_info": {
   "codemirror_mode": "text/x-scala",
   "file_extension": ".sc",
   "mimetype": "text/x-scala",
   "name": "scala",
   "nbconvert_exporter": "script",
   "version": "2.13.8"
  }
 },
 "nbformat": 4,
 "nbformat_minor": 5
}
