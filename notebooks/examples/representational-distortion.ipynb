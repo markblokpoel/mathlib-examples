{
 "cells": [
  {
   "cell_type": "markdown",
   "id": "a45a0b48-947f-42c1-9bf8-dfb6251948a5",
   "metadata": {},
   "source": [
    "## Similarity as transformation\n",
    "\n",
    "\n",
    "\n",
    "\n",
    "<span style=\"font-variant: small-caps;\">Representational Distortion</span> (informal)\n",
    "\n",
    "*Input:* Two representations $a$ and $b$ and a set of basic transformations $T$.\n",
    "\n",
    "*Output:* The length of a shortest sequence of basic transformations from $T$ transforming $a$ to $b$.\n",
    "\n",
    "\n",
    "\n",
    "<span style=\"font-variant: small-caps;\">Relevance</span>\n",
    "\n",
    "*Input:* A set of basic transformations T , a set of pairs of object representations X, and integers s and w.\n",
    "\n",
    "*Output:* A set of transformations TX ⊆ T of minimum size such that for at least s pairs (a, b) ∈ X there exists a sequence of transformations in TX having length at most w that when applied to a yields b.\n",
    "\n",
    "\n",
    "<span style=\"font-variant: small-caps;\">Representational Distortion</span>\n",
    "\n",
    "*Input:* Two representations $a$ and $b$, a set of basic transformations $\\mathcal{T}$ , a set of pairs of object representations $X$ with $(a, b) \\in X$, and integers $s$ and $w$.\n",
    "\n",
    "*Output:* A number that equals the length of a shortest sequence of basic transformations from $\\mathcal{T}_X \\subseteq \\mathcal{T}$ transforming $a$ to $b$ where $\\mathcal{T}_X$ is a solution of <span style=\"font-variant: small-caps;\">Relevance</span>$(\\mathcal{T} , X, s, w)$."
   ]
  },
  {
   "cell_type": "code",
   "execution_count": null,
   "id": "60d402bc-af79-4b11-86dc-30817db3818b",
   "metadata": {},
   "outputs": [],
   "source": []
  }
 ],
 "metadata": {
  "kernelspec": {
   "display_name": "Scala",
   "language": "scala",
   "name": "scala"
  },
  "language_info": {
   "codemirror_mode": "text/x-scala",
   "file_extension": ".sc",
   "mimetype": "text/x-scala",
   "name": "scala",
   "nbconvert_exporter": "script",
   "version": "2.13.8"
  }
 },
 "nbformat": 4,
 "nbformat_minor": 5
}
