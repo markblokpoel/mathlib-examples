{
 "cells": [
  {
   "cell_type": "markdown",
   "id": "275c11e2-f7c4-45de-aa0e-48e8e4ce7f02",
   "metadata": {},
   "source": [
    "### 1.5 Collections\n",
    "\n",
    "When you want to store multiple values you can use *collections*. For example, you might want to store the temperature forecast for the next seven days.\n",
    "\n",
    "|Temperature|\n",
    "|-:|\n",
    "|22.2 °C|\n",
    "|23.1 °C|\n",
    "|23.7 °C|\n",
    "|22.3 °C|\n",
    "|24.3 °C|\n",
    "|24.7 °C|\n",
    "|25.1 °C|\n",
    "\n",
    "Or the people that you know: Erik, Lamar, Angelica, Emanuel, Lorraine, Meghan, Myron, Erica, Lester, Javier, Kelly, Abraham, Lindsay, Harriet, and Guadalupe. \n",
    "\n",
    "Or the cost of a all menu card items: Vegan pie costs €9,90, a beer costs €3,90, etc.\n",
    "\n",
    "Some collections, like the temperature forecast and menu card item, are ordered: one value follows the next. In math, ordered collections are expressed in a list or sequence.\n",
    "\n",
    "$$\\langle 22.2, 23.1, 23.7, 22.3, 24.3, 24.7, 25.1 \\rangle$$\n",
    "\n",
    "Different types of collections exist, and hence there are different implementations of collections available in Scala. We cover here lists, sets, tuples and maps. These four collections are most commonly used.\n",
    "\n",
    "### 1.5.1 List\n",
    "In Scala we can store ordered collections in a ```List```."
   ]
  },
  {
   "cell_type": "code",
   "execution_count": null,
   "id": "d93c38e7-6e37-4b8d-be63-729aea2c1d1d",
   "metadata": {},
   "outputs": [],
   "source": [
    "val forecast = List(22.2, 23.1, 23.7, 22.3, 24.3, 24.7, 25.1)"
   ]
  },
  {
   "cell_type": "markdown",
   "id": "84bcac01-8f73-4dae-8827-ec59dfb7a89a",
   "metadata": {},
   "source": [
    "One a list is defined, we can access an element by its index. Starting with the first item in the list which has index 0."
   ]
  },
  {
   "cell_type": "code",
   "execution_count": null,
   "id": "5d5a8cd5-9206-4454-9c4d-921354c4172a",
   "metadata": {},
   "outputs": [],
   "source": [
    "forecast(0)\n",
    "forecast(6)"
   ]
  },
  {
   "cell_type": "markdown",
   "id": "b78ac04f-5615-466e-a272-471a388cab18",
   "metadata": {},
   "source": [
    "### 1.5.2 Sets\n",
    "\n",
    "Unordered collections, such as people, are in math expressed in a set: \n",
    "\n",
    "$$\\{\\text{Erik},\\text{Lamar},\\text{Angelica},\\text{Emanuel},\\text{Lorraine},\\text{Meghan},\\text{Myron},\\text{Erica},\\text{Lester},\\text{Javier},\\text{Kelly},\\text{Abraham},\\text{Lindsay},\\text{Harriet},\\text{Guadalupe}\\}$$\n",
    "\n",
    "And Scala follows the math accordingly. Note that because sets are unordered, we have no way of accessing the individual elements by an index. Also note that any duplicates added to a set will be removed, as sets cannot contain multiple copies of the same entity."
   ]
  },
  {
   "cell_type": "code",
   "execution_count": null,
   "id": "1a4bb653-7182-40eb-b64b-c41f9dcbd0e8",
   "metadata": {},
   "outputs": [],
   "source": [
    "val people   = Set(\"Erik\", \"Lamar\", \"Angelica\", \"Emanuel\", \"Lorraine\",\n",
    "                   \"Meghan\", \"Myron\", \"Erica\", \"Lester\", \"Javier\", \"Kelly\",\n",
    "                   \"Abraham\", \"Lindsay\", \"Harriet\", \"Guadalupe\")"
   ]
  },
  {
   "cell_type": "markdown",
   "id": "1a852345-c9a3-4000-b967-cb3d26f0d958",
   "metadata": {},
   "source": [
    "We'll dive into sets below using the ```mathlib``` library, so let's first get\n",
    "some familiarity with lists. Some basic examples are in the code block below.\n",
    "Try playing around with them to see what they do."
   ]
  },
  {
   "cell_type": "code",
   "execution_count": null,
   "id": "c44570ae-3f52-49b9-8e48-e64cf5cd1f8e",
   "metadata": {},
   "outputs": [],
   "source": [
    "val forecastThisWeek = List(22.2, 23.1, 23.7, 22.3, 24.3, 24.7, 25.1)\n",
    "val forecastNextWeek = List(22.3, 19.8, 18.4, 18.0, 17.6, 17.5, 17.2)\n",
    "\n",
    "val oneMore          = 23.1 :: forecastThisWeek               // Prepend element.\n",
    "val combinedForecast = forecastThisWeek ::: forecastNextWeek  // Prepend list.\n",
    "val listSize         = forecastThisWeek.size                  // Number of elements in list.\n",
    "val contains23_7     = forecastThisWeek.contains(23.7)        // Does the list contain element?\n",
    "val firstElement     = forecastThisWeek.head                  // The first element of the list.\n",
    "val tailElements     = forecastThisWeek.tail                  // Everything except the first element.\n",
    "val element3         = forecastThisWeek(3)                    // The n-th element.\n",
    "val isForecastEmpty  = forecastThisWeek.isEmpty               // Checks whether the list is emtpy."
   ]
  },
  {
   "cell_type": "markdown",
   "id": "134242bf-89c4-4bb9-ba1e-c3674b00b6ba",
   "metadata": {},
   "source": [
    "### 1.5.3 Working with collections\n",
    "\n",
    "The power of collections lies in being able to apply to all of the elements. The idea is that if we have a function that applies to one element, e.g., $sq(x) = x^2)$, we can apply it to all elements in the list. The most common of these applications is called ```map```. It takes as argument a function ```f``` and evaluates to a list where each element computed using ```f```.\n",
    "\n",
    "\n",
    "\n",
    "| ```list``` | ```1``` | ```2``` | ```3``` | ```4``` |\n",
    "|-:|:-:|:-:|:-:|:-:|\n",
    "|  | $$\\downarrow$$ | $$\\downarrow$$ | $$\\downarrow$$ | $$\\downarrow$$ |\n",
    "|  | ```sq(1)``` | ```sq(2)``` | ```sq(3)``` | ```sq(4)``` |\n",
    "|  | $$\\downarrow$$ | $$\\downarrow$$ | $$\\downarrow$$ | $$\\downarrow$$ |\n",
    "| ```list.map(sq)``` | ```1``` | ```4``` | ```9``` | ```16``` |"
   ]
  },
  {
   "cell_type": "code",
   "execution_count": null,
   "id": "9a6c070c-8d04-48b3-99ab-cd08a5c073f6",
   "metadata": {},
   "outputs": [],
   "source": [
    "def sq(x: Int): Int = x * x     // Function that computes the square root of x.\n",
    "\n",
    "val list = List(1, 2, 3, 4)     // The original list\n",
    "val squaredList = list.map(sq)  // The squared list"
   ]
  },
  {
   "cell_type": "markdown",
   "id": "59a4c2e4-9774-4bde-8b45-758e1361286e",
   "metadata": {},
   "source": [
    "The type of the argument of the function must be the same type as the elements in the list, but its output can be of any type. For example, take an ```Int``` and return a ```String```. \n",
    "\n",
    "<div class=\"alert alert-block alert-warning\">\n",
    "<b>Recursion</b><br/>\n",
    "The function <code>xx</code> is defined using <a href=\"https://en.wikipedia.org/wiki/Recursion\">recursion</a>. It is not important to understand how this works. If you are curious, though, here is a short explanation.\n",
    "\n",
    "Given any integer $x$ as input, the function check if that number is bigger than one. If so, it will evaluate to the string \"x\" and append the result of calling itself with x-1. This call is the recursive step. If <code>xx</code> is called with $x=1$, then it does not take a recursive step and simply results in the string \"x\".\n",
    "\n",
    "We can manually evaluate <code>xx(3)</code> by rewriting the function calls:\n",
    "\n",
    "|Evaluation|Rewrite how?|\n",
    "|-:|:-:|\n",
    "|```xx(3)```| ```3>1==true``` so we replace with ```xx(3)``` with ```\"x\" + xx(2)```|\n",
    "|```\"x\" + xx(2)```| ```2>1==true``` so we replace ```xx(2)``` with ```\"x\" + xx(1)```|\n",
    "|```\"x\" + \"x\" + xx(1)```| ```1>1==false``` so we replace ```xx(1)``` with ```\"x\"```|\n",
    "|```\"x\" + \"x\" + \"x\"```| No function call to rewrite, evaluation is complete.|\n",
    "\n",
    "Note that the function does not deal correctly with numbers less than or equal to 0. Can you predict what happens if you call <code>xx(0)</code> and <code>xx(-100)</code>?\n",
    "</div>"
   ]
  },
  {
   "cell_type": "code",
   "execution_count": null,
   "id": "ed058b16-0c42-4984-b726-3d72b1a1febd",
   "metadata": {},
   "outputs": [],
   "source": [
    "// Function that creates a String with x \"x\"s.\n",
    "def xx(x: Int): String = {\n",
    "  if(x>1) \"x\" + xx(x-1)\n",
    "  else \"x\"\n",
    "}\n",
    "\n",
    "val originalList = List(1, 2, 3, 4)\n",
    "val stringList = list.map(xx)"
   ]
  },
  {
   "cell_type": "markdown",
   "id": "24c789b5-e158-4298-8693-2b346d1dad8b",
   "metadata": {},
   "source": [
    "What other useful things can we do with lists? Below are some examples. We predefine a function to evaluate if an integer is even. Additionally, we use [anonymous functions](https://docs.scala-lang.org/overviews/scala-book/anonymous-functions.html) as a shorthand to define a simple functions that compate a number. The ```_``` underscore in an anonymous function is replaced by the single argument, like the ```x``` argument in ```isEven```. You do not need to know how to write anonymous functions, but you may encounter them in Scala code so it is useful to be able to read them."
   ]
  },
  {
   "cell_type": "code",
   "execution_count": null,
   "id": "af09155c-bb5f-4e83-86ae-2ad120a161c8",
   "metadata": {},
   "outputs": [],
   "source": [
    "// Function that checks whether x is even.\n",
    "def isEven(x: Int): Boolean = {\n",
    "  x % 2 == 0\n",
    "}\n",
    "val list = List(1, 2, 3, 4)\n",
    "\n",
    "val existsEven        = list.exists(isEven)    // Does list contain an element that isEven?\n",
    "val existsBiggerThan3 = list.exists(_ > 3)     // Implicit function, does the list contain an element larger than 3?\n",
    "val areAllEven        = list.forall(isEven)    // Do all elements in list return true for isEven?\n",
    "val areAllLessThan100 = list.forall(_ <= 100)  // Implicit function, does the list contain an element larger than 3?\n",
    "val onlyEven          = list.filter(isEven)    // Filter out all elements that return true for isEven.\n",
    "val onlyLessThan3     = list.filter(_ < 3)     // Filter out all elements less than 3."
   ]
  },
  {
   "cell_type": "markdown",
   "id": "4f0cdc26-2f33-4396-8a3b-f0df681b59c3",
   "metadata": {},
   "source": [
    "### 1.5.4 Maps\n",
    "\n",
    "Expressing a the cost of items on a menu card is more complex. Each item on the menu card is a pair of values, the item's name and the item's cost. Pairs can be represented by a set (if the order doesn't matter), but perhaps more naturally is to represent them using a *tuple*. In math, tuples are expressed as values between parentheses $(\\text{vegan pie}, 9.9)$, and Scala follows this convention."
   ]
  },
  {
   "cell_type": "code",
   "execution_count": null,
   "id": "0da53dbe-e041-4a28-8522-f63a939719e9",
   "metadata": {},
   "outputs": [],
   "source": [
    "val veganPie = (\"Vegan pie\", 9.90)\n",
    "val beer = (\"Beer\", 3.90)"
   ]
  },
  {
   "cell_type": "markdown",
   "id": "62be32d4-6ec4-4ccb-ac37-522fde005bef",
   "metadata": {},
   "source": [
    "One could combine these tuples into a set (again if the order is irrelevant), where each element is a tuple."
   ]
  },
  {
   "cell_type": "code",
   "execution_count": null,
   "id": "9b4e59ba-9532-4d1a-9919-caa127c94337",
   "metadata": {},
   "outputs": [],
   "source": [
    "val menuCard = Set(\n",
    "    (\"Vegan pie\", 9.90),\n",
    "    (\"Beer\", 3.90)\n",
    ")"
   ]
  },
  {
   "cell_type": "markdown",
   "id": "24cb0f7f-1d98-4ed5-9629-d5607a902740",
   "metadata": {},
   "source": []
  }
 ],
 "metadata": {
  "kernelspec": {
   "display_name": "Scala",
   "language": "scala",
   "name": "scala"
  },
  "language_info": {
   "codemirror_mode": "text/x-scala",
   "file_extension": ".sc",
   "mimetype": "text/x-scala",
   "name": "scala",
   "nbconvert_exporter": "script",
   "version": "2.13.4"
  }
 },
 "nbformat": 4,
 "nbformat_minor": 5
}
