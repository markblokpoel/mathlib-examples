{
 "cells": [
  {
   "cell_type": "markdown",
   "id": "c77bb7dc-d9ca-4bbf-9c3f-83231342d194",
   "metadata": {},
   "source": [
    "# Scala basics\n",
    "\n",
    "We cover only a small subset of the full Scala language here. This subset suffices for implementing basic simulations of formal theories. If after reading this chapter you want to learn more about Scala, there are various textbooks (e.g. Odersky, Spoon and Venners, 2019; but see also [Scala books](https://docs.scala-lang.org/books.html)) and online resources such as the official [Tour of Scala](https://docs.scala-lang.org/tour/tour-of-scala.html) and [Creative Scala](https://www.creativescala.org/)."
   ]
  },
  {
   "cell_type": "markdown",
   "id": "355e960c-5a6d-477a-8ea7-212071b73944",
   "metadata": {
    "tags": []
   },
   "source": [
    "## Values, functions and types\n",
    "\n",
    "### Values\n",
    "The basic expressions in a functional programming language such as Scala are values, functions and types. A value is a container that can store information. For example:"
   ]
  },
  {
   "cell_type": "code",
   "execution_count": 1,
   "id": "8569954e-95e5-4570-9bd1-e95926f2cb1d",
   "metadata": {},
   "outputs": [
    {
     "data": {
      "text/plain": [
       "\u001b[36mmyNumber\u001b[39m: \u001b[32mInt\u001b[39m = \u001b[32m3\u001b[39m\n",
       "\u001b[36mmyString\u001b[39m: \u001b[32mString\u001b[39m = \u001b[32m\"Coding\"\u001b[39m"
      ]
     },
     "execution_count": 1,
     "metadata": {},
     "output_type": "execute_result"
    }
   ],
   "source": [
    "val myNumber = 3\n",
    "val myString = \"Coding\""
   ]
  },
  {
   "cell_type": "markdown",
   "id": "94aa8894-9f25-4d3a-a45a-36961fb52536",
   "metadata": {},
   "source": [
    "In Scala, like in math, once a value is set, it cannot change. In computer science a value is *immutable*. Of course, *mutable* values also exist and these are called variables. Their definition hides in their name, variables can change. For example:"
   ]
  },
  {
   "cell_type": "code",
   "execution_count": 5,
   "id": "0f421f74-6245-4f28-98c3-325b89f5d779",
   "metadata": {},
   "outputs": [
    {
     "data": {
      "text/html": [
       "<div class=\"jp-RenderedText\">\n",
       "<pre><code><span style=\"color: rgb(0, 187, 187)\"><span class=\"ansi-cyan-fg\">myAge</span></span>: <span style=\"color: rgb(0, 187, 0)\"><span class=\"ansi-green-fg\">Int</span></span> = <style>@keyframes fadein { from { opacity: 0; } to { opacity: 1; } }</style><span style=\"animation: fadein 2s;\"><span style=\"color: rgb(0, 187, 0)\"><span class=\"ansi-green-fg\">39</span></span></span></code></pre>\n",
       "</div>"
      ],
      "text/plain": [
       "\u001b[36mmyAge\u001b[39m: \u001b[32mInt\u001b[39m = \u001b[32m39\u001b[39m"
      ]
     },
     "metadata": {},
     "output_type": "display_data"
    }
   ],
   "source": [
    "var myAge = 38"
   ]
  },
  {
   "cell_type": "markdown",
   "id": "b710fa6c-3807-40da-8b91-33e7ded4d3d8",
   "metadata": {},
   "source": [
    "Variables can be reassigned a new value without having to declare them again:"
   ]
  },
  {
   "cell_type": "code",
   "execution_count": 6,
   "id": "fc0c40d6-3616-4231-a2ff-8f0f07de7cda",
   "metadata": {},
   "outputs": [
    {
     "name": "stdout",
     "output_type": "stream",
     "text": [
      "39\n"
     ]
    }
   ],
   "source": [
    "myAge = myAge +1\n",
    "println(myAge)"
   ]
  },
  {
   "cell_type": "markdown",
   "id": "941b905a-4890-47db-8240-8cda7fc97f40",
   "metadata": {},
   "source": [
    "You see that the value of ```myAge``` has been increased by one.\n",
    "\n",
    "<div class=\"alert alert-block alert-info\">\n",
    "<b>Use variables or values?</b><br/>\n",
    "Variables might seem the more easier and flexible of the two, but there is a downside to their flexibility. You might not be able to say meaningful things about the contents of a value from the code itself. You may need you run your code and debug to learn about the variable's contents. This is not a problem for the small examples that we see here, but for larger projects knowing about the value of variables is a challenge.\n",
    "</div>\n",
    "\n",
    "To understand better what we are coding, let's break the example code down into its parts. \n",
    "\n",
    "```scala\n",
    "val myNumber = 3\n",
    "```\n",
    "\n",
    "The word ```val``` tells the computer that you will specify a *value*, which is a container storing an immutable value (in this case the integer 3). The *identifier* (name) of this value is the word ```myNumber```. The *assignment operator* ```=``` takes the value on its right side and stores it in the container on the left side.\n",
    "\n",
    "### Types\n",
    "All variables and values in Scala has a type. For example, the value ```myNumber``` above has type ```Int``` which stands for integer. You may have seen this in the output after running the code block. For clarify you can state a type explicitly using semicolons:"
   ]
  },
  {
   "cell_type": "code",
   "execution_count": 7,
   "id": "3e8ec13b-909e-4b04-857d-8ad5559afd04",
   "metadata": {},
   "outputs": [
    {
     "data": {
      "text/plain": [
       "\u001b[36mmySecondNumber\u001b[39m: \u001b[32mInt\u001b[39m = \u001b[32m2\u001b[39m"
      ]
     },
     "execution_count": 7,
     "metadata": {},
     "output_type": "execute_result"
    }
   ],
   "source": [
    "val mySecondNumber: Int = 2"
   ]
  },
  {
   "cell_type": "markdown",
   "id": "a3ec8bbb-732f-4590-b3b1-21c62cb5f906",
   "metadata": {},
   "source": [
    "If you do not provide an explicit type, Scala will try to derive the types automatically. You've seen this in action with ```myNumber```, ```myString```, and ```myAge``` above.\n",
    "\n",
    "Types are helpful. They provide a safety net against programming mistakes since you cannot assign a value that is incompatible with the specified type. Running the following code results in a type mismatch error and the compiler (i.e., the software that interprets and runs your code) will even tell you which type it expected and which type you provided."
   ]
  },
  {
   "cell_type": "code",
   "execution_count": 7,
   "id": "515d50de-cb3a-479b-9b86-4786800608e5",
   "metadata": {},
   "outputs": [
    {
     "name": "stderr",
     "output_type": "stream",
     "text": [
      "cmd7.sc:1: type mismatch;\n",
      " found   : Double(3.9)\n",
      " required: Int\n",
      "val mySecondNumber: Int = 3.9\n",
      "                          ^Compilation Failed"
     ]
    },
    {
     "ename": "",
     "evalue": "",
     "output_type": "error",
     "traceback": [
      "Compilation Failed"
     ]
    }
   ],
   "source": [
    "val mySecondNumber: Int = 3.9"
   ]
  },
  {
   "cell_type": "markdown",
   "id": "e4acdb77-6079-4db1-acc2-98d73a6ad336",
   "metadata": {},
   "source": [
    "### Functions\n",
    "\n",
    "Functions allow us to write code that takes input, one or more *arguments*, and returns output. For example, addition $add(x,y)=x+y$ can be coded as:"
   ]
  },
  {
   "cell_type": "code",
   "execution_count": 8,
   "id": "beaa1cfc-acaf-4c8e-9684-70051ffb18d6",
   "metadata": {},
   "outputs": [
    {
     "data": {
      "text/plain": [
       "defined \u001b[32mfunction\u001b[39m \u001b[36madd\u001b[39m"
      ]
     },
     "execution_count": 8,
     "metadata": {},
     "output_type": "execute_result"
    }
   ],
   "source": [
    "def add(x: Int, y: Int): Int = {\n",
    "  x + y\n",
    "}"
   ]
  },
  {
   "cell_type": "markdown",
   "id": "9c215f94-8b9c-49eb-832f-5f882584973e",
   "metadata": {},
   "source": [
    "And then the function can be called on two arguments:"
   ]
  },
  {
   "cell_type": "code",
   "execution_count": 10,
   "id": "172b5623-b883-4d0d-82a2-490390f51c9f",
   "metadata": {},
   "outputs": [
    {
     "data": {
      "text/plain": [
       "\u001b[36mres9_0\u001b[39m: \u001b[32mInt\u001b[39m = \u001b[32m7\u001b[39m\n",
       "\u001b[36mres9_1\u001b[39m: \u001b[32mInt\u001b[39m = \u001b[32m11\u001b[39m\n",
       "\u001b[36mres9_2\u001b[39m: \u001b[32mInt\u001b[39m = \u001b[32m6\u001b[39m"
      ]
     },
     "execution_count": 10,
     "metadata": {},
     "output_type": "execute_result"
    }
   ],
   "source": [
    "add(3, 4)\n",
    "add(6, 5)\n",
    "add(1, add(2, 3))"
   ]
  },
  {
   "cell_type": "markdown",
   "id": "0aaf1c56-8524-4f5a-a0b1-239fdee2251a",
   "metadata": {},
   "source": [
    "The last example illustrated that ```add(x, y)``` evaluates to a number (integer), and hence it can be passed as an argument to another add function call.\n",
    "\n",
    "Let's break down the code into its parts. The word ```def``` specifies that we are constructing a function with the *identifier* ```add```. The comma-separated list between parantheses is the list of arguments you can pass to this function, where each argument has a specified type. Functions require that the type of the output is explicitly defined, in this example Int. Then the assignment operator ```=``` links the *body* of function which is delineated by curly brackets. Whenever we call this function with the right arguments, the value of the body is computed relative to the arguments and that value is the output of the function.\n",
    "\n",
    "<div class=\"alert alert-block\">\n",
    "<b>Question 1</b><br/>\n",
    "Fill in the blanks in the code below and write a function that computes the following equation: $f(a,b,c)=a+b∗c$\n",
    "\n",
    "<details>\n",
    "<summary>Hint?</summary>\n",
    "You need to replace the dots ```...``` with a list of comma separated arguments, and replace the three question marks ```???``` with the expression that evaluates the equation.\n",
    "</details>\n",
    "</div>"
   ]
  },
  {
   "cell_type": "code",
   "execution_count": 10,
   "id": "cf4e5cc4-54b9-49de-aeaa-e64d691c9469",
   "metadata": {},
   "outputs": [
    {
     "name": "stderr",
     "output_type": "stream",
     "text": [
      "(console):1:14 expected \")\"\n",
      "def equation(...): Int = {\n",
      "             ^"
     ]
    },
    {
     "ename": "",
     "evalue": "",
     "output_type": "error",
     "traceback": [
      "(console):1:14 expected \")\"\ndef equation(...): Int = {\n             ^"
     ]
    }
   ],
   "source": [
    "def equation(...): Int = {\n",
    "  ???\n",
    "}\n",
    "\n",
    "equation(2, 5, -1) == -3    // Test the function, true if correct."
   ]
  },
  {
   "cell_type": "markdown",
   "id": "f048bfe0-270a-4c4d-9af3-1d66b57285bc",
   "metadata": {},
   "source": [
    "Functions in Scala have types too which becomes clearer with the following alternative notation."
   ]
  },
  {
   "cell_type": "code",
   "execution_count": 12,
   "id": "636bff3d-6a5a-4f44-a141-23cdb544b9de",
   "metadata": {},
   "outputs": [
    {
     "data": {
      "text/plain": [
       "defined \u001b[32mfunction\u001b[39m \u001b[36madd\u001b[39m"
      ]
     },
     "execution_count": 12,
     "metadata": {},
     "output_type": "execute_result"
    }
   ],
   "source": [
    "def add: (Int, Int) => Int = (x: Int, y: Int) => {\n",
    "  x + y\n",
    "}"
   ]
  },
  {
   "cell_type": "markdown",
   "id": "4b534ef4-3d0f-4914-a14e-54caf57d08d1",
   "metadata": {},
   "source": [
    "This notation is not used often since it is hard to read, but it explicitly defines the function’s type which is very similar to how we express function types mathematically:\n",
    "\n",
    "| Scala | ```(Int, Int) => Int``` |\n",
    "|:--:|:--:|\n",
    "| Math | $$ add: \\mathbb{N} \\times \\mathbb{N} \\rightarrow \\mathbb{N} $$ |\n",
    "\n",
    "In functional programming languages like Scala you can even pass a function as an argument of another function. This is a powerful way to organize your code and very useful in writing simulation code that is closely tied to formal theories. In a sense, a theory is a function itself, mapping a list of arguments (input) to output. We’ve seen that some formal theories can have functions as arguments. For example, Selecting invitees (version 1) in Chapter 4 takes as input the function $like:P×P\\rightarrow{true,false}$. Here is a (partial) example of a function as argument.\n",
    "\n",
    "```scala\n",
    "def selectingInvitees(..., like: (Person, Person) => Boolean)\n",
    "```\n",
    "\n",
    "You can find multiple example implemetations of selecting invitees [in this notebook](../examples/selecting-invitees.ipynb), where we will use this coding strategy. \n",
    "\n",
    "<div class=\"alert alert-block alert-warning\">\n",
    "<b>Syntactic oddity</b><br/>\n",
    "For now, we should note one syntactic oddity in the Scala language. Sometimes when you pass a function as an argument, the compiler will complain with the following message:\n",
    "\n",
    "```\n",
    "error: missing argument list for method myFun\n",
    "Unapplied methods are only converted to functions when a function type is expected.\n",
    "You can make this conversion explicit by writing `myFun _` or `myFun(_)` instead of `myFun`.\n",
    "```\n",
    "    \n",
    "The solution for this problem is often following the instructions in the error explicitly and add an underscore ```_``` to the function. For example:\n",
    "\n",
    "```scala\n",
    "selectingInvitees(..., like)    // Procudes error.\n",
    "selectingInvitees(..., like _)  // Correct.\n",
    "```\n",
    "</div>"
   ]
  },
  {
   "cell_type": "markdown",
   "id": "6bd1e6f0-00a3-446d-a393-6793db928b81",
   "metadata": {},
   "source": [
    "Finally, it is useful to know that some functions accompany certain types. For example, the type String has functions built-in that can be called with the dot-notation. These functions (also called methods) have access to the value they are called upon. The following example called method ```toUpperCase``` that evaluates to the upper-case version of the original string."
   ]
  },
  {
   "cell_type": "code",
   "execution_count": 14,
   "id": "c14b189a-9e03-4753-bfdf-5eaf67c4be67",
   "metadata": {},
   "outputs": [
    {
     "data": {
      "text/plain": [
       "\u001b[36mres13\u001b[39m: \u001b[32mString\u001b[39m = \u001b[32m\"THIS IS A STRING.\"\u001b[39m"
      ]
     },
     "execution_count": 14,
     "metadata": {},
     "output_type": "execute_result"
    }
   ],
   "source": [
    "\"This is a String.\".toUpperCase"
   ]
  },
  {
   "cell_type": "markdown",
   "id": "40f8c009-4838-4dd4-bb71-d2f5ec18652d",
   "metadata": {},
   "source": [
    "Many Scala development tools allow you to look through the list of methods by using auto completion. Just add a . to a value and access auto complete (press tab key in Jupyter) to open the list.\n",
    "\n",
    "<div class=\"alert alert-block\">\n",
    "<b>Question 2</b><br/>\n",
    "Try to find the function that rounds down a double value using auto completion.\n",
    "\n",
    "<details>\n",
    "<summary>Hint?</summary>\n",
    "Add a dot ```.``` at the end and press tab to access the list of available functions.\n",
    "<details>\n",
    "<summary>Hint?</summary>\n",
    "The function ```floor``` rounds down to whole numbers.\n",
    "</details>\n",
    "</details>\n",
    "</div>"
   ]
  },
  {
   "cell_type": "code",
   "execution_count": 18,
   "id": "a0c1bc18-9e04-420b-bec5-a423fb655e6c",
   "metadata": {},
   "outputs": [
    {
     "data": {
      "text/plain": [
       "\u001b[36mres17\u001b[39m: \u001b[32mDouble\u001b[39m = \u001b[32m1.9\u001b[39m"
      ]
     },
     "execution_count": 18,
     "metadata": {},
     "output_type": "execute_result"
    }
   ],
   "source": [
    "1.9"
   ]
  }
 ],
 "metadata": {
  "kernelspec": {
   "display_name": "Scala",
   "language": "scala",
   "name": "scala"
  },
  "language_info": {
   "codemirror_mode": "text/x-scala",
   "file_extension": ".sc",
   "mimetype": "text/x-scala",
   "name": "scala",
   "nbconvert_exporter": "script",
   "version": "2.13.4"
  }
 },
 "nbformat": 4,
 "nbformat_minor": 5
}
