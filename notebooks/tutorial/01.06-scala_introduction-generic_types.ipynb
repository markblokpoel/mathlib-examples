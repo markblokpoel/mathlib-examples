{
 "cells": [
  {
   "cell_type": "markdown",
   "id": "275c11e2-f7c4-45de-aa0e-48e8e4ce7f02",
   "metadata": {},
   "source": [
    "### 1.6 Generic types\n",
    "\n",
    "In the previous section we learned about collections. Collections in Scala are what is called generic. The change their type depending on the values you apply to them. For example, the list containing the forecast consists of values of type ```Double```, therefore the type of forecast is ```List[Double]```. In Scala, the type of a generic includes the type of its contents denoted between square brackets. "
   ]
  },
  {
   "cell_type": "code",
   "execution_count": null,
   "id": "8cb62561-5c92-4f5b-b945-134c8f9d4a65",
   "metadata": {},
   "outputs": [],
   "source": [
    "val forecast = List(22.2, 23.1, 23.7, 22.3, 24.3, 24.7, 25.1)"
   ]
  },
  {
   "cell_type": "markdown",
   "id": "b2a49f02-5b91-4cd1-8d09-8292f4b4dec8",
   "metadata": {},
   "source": [
    "<div class=\"alert alert-block\">\n",
    "<b>Question 1</b><br/>\n",
    "What are the (full) types of the following values?<br/><br/>\n",
    "    \n",
    "```scala\n",
    "val truths = Set(true, false)\n",
    "val vowels = Set('a', 'e', 'i', 'o', 'u')\n",
    "val numbers = List(1, 3, 4, 6)\n",
    "```\n",
    "<br/>\n",
    "To check your answers, fill in the explicit types below. When running the code block, you should receive no type (mismatch) errors.\n",
    "</div>"
   ]
  },
  {
   "cell_type": "code",
   "execution_count": null,
   "id": "59a533ef-4536-4472-9ba3-50b989f75ef1",
   "metadata": {},
   "outputs": [],
   "source": [
    "val truths: ??? = Set(true, false)\n",
    "val vowels: ??? = Set('a', 'e', 'i', 'o', 'u')\n",
    "val numbers: ??? = List(1, 3, 4, 6)"
   ]
  },
  {
   "cell_type": "markdown",
   "id": "820b3102-5f97-4aa9-863d-061c41211069",
   "metadata": {},
   "source": [
    "While to some generic types might seem constraining, they actually afford some very powerful ways of working with collections. Because collections can be generic, one does not need to define what a set of integers is separate from a set of Booleans and a set of doubles.\n",
    "\n",
    "Even if you are not coding your own collections, we can manimupate them without any errors or unpredictable side effects. You can apply functions to all of the elements because all elements in a collection are of the same type. You've seen an examples of this in [Section 1.5.3](01.05-scala_introduction-collections.ipynb#1.5.3-Working-with-collections) on using the ```.map``` function.\n",
    "\n",
    "The way generics work is similar to an organized file cabinet. Because everything has its defined place, it is easier to work with and you make less mistakes. This comes at the cost of some flexibility and additional upfront bookkeeping. The alternative would be to just chuck everything in, which is very flexible and has no upfront cost. But then working with such an disorganized cabinet is much harder as you will need to search, verify and decide for each item. Both ways work and are valid, each having their own pros and cons.\n",
    "\n",
    "In Scala, collections are generic and this means you cannot mix incompatible types in a collection. For example, adding the boolean ```true``` to the forecast results in a type mismatch error:"
   ]
  },
  {
   "cell_type": "code",
   "execution_count": null,
   "id": "c4d36fe3-d5a9-4d6b-9bfc-491841164c6b",
   "metadata": {},
   "outputs": [],
   "source": [
    "val forecast: List[Double]  = List(22.2, 23.1, 23.7, 22.3, 24.3, 24.7, 25.1)\n",
    "val forecast2: List[Double] = true :: forecast"
   ]
  },
  {
   "cell_type": "markdown",
   "id": "1c3496d0-06c7-43dd-bcc6-c4ad836f5801",
   "metadata": {},
   "source": [
    "If Scala knows how to translate between two types *without loss of information* then it will do so automatically. For example, Scala can automatically translate from ```Int``` to ```Double``` without loss of information (but not the other way around). Therefore, you can add an integer to the forecast and you'll see that the integer has become a double:"
   ]
  },
  {
   "cell_type": "code",
   "execution_count": null,
   "id": "20612d84-ce84-4ec2-9c62-88bbb0196ee9",
   "metadata": {},
   "outputs": [],
   "source": [
    "val forecast: List[Double]  = List(22.2, 23.1, 23.7, 22.3, 24.3, 24.7, 25.1)\n",
    "val temp: Int = 30\n",
    "val forecast2: List[Double] = temp :: forecast"
   ]
  },
  {
   "cell_type": "markdown",
   "id": "b36976dc-d38d-4151-a960-b7406c3f5452",
   "metadata": {},
   "source": [
    "\n",
    "\n",
    "<div class=\"alert alert-block\">\n",
    "<b>Question 2</b><br/>\n",
    "Say you want to write simulation code for which it is easier to verify that it is implementing a specification (e.g., a formal, theoretical model). Which approach do you think is better suited? \n",
    "</div>"
   ]
  }
 ],
 "metadata": {
  "kernelspec": {
   "display_name": "Scala",
   "language": "scala",
   "name": "scala"
  },
  "language_info": {
   "codemirror_mode": "text/x-scala",
   "file_extension": ".sc",
   "mimetype": "text/x-scala",
   "name": "scala",
   "nbconvert_exporter": "script",
   "version": "2.13.4"
  }
 },
 "nbformat": 4,
 "nbformat_minor": 5
}
