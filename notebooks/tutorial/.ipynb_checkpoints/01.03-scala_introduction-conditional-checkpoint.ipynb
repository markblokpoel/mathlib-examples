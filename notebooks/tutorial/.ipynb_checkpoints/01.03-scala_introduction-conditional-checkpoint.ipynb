{
 "cells": [
  {
   "cell_type": "markdown",
   "id": "c17f93b4-302c-456f-9f98-a4483e180324",
   "metadata": {},
   "source": [
    "## 1.3 Conditional\n",
    "\n",
    "The *conditional* expression is more colloquially known as the if-then-else expression. It allows for branching paths of code, depending on the truth value of the conditional. Each branch is a block of code delineated with curly brackets.\n",
    "\n",
    "<div class=\"alert alert-block\">\n",
    "<b>Question 1</b><br/>\n",
    "Try changing the value of <code>x</code> and predict what code block will be evaluated.\n",
    "</div>"
   ]
  },
  {
   "cell_type": "code",
   "execution_count": null,
   "id": "a2aa5176-8808-4be5-88a5-24c598fe3523",
   "metadata": {},
   "outputs": [],
   "source": [
    "val x = 4\n",
    "\n",
    "if(x % 2 == 0) {\n",
    "  println(\"X is even.\")\n",
    "} else {\n",
    "  println(\"X is odd.\")\n",
    "}"
   ]
  },
  {
   "cell_type": "markdown",
   "id": "08ab6d0d-3436-4339-9cf6-75a525f01900",
   "metadata": {},
   "source": [
    "The entire conditional is implicitly also a block, which has two implications. Firstly, the conditional block itself evaluates to the value of the final statement in the branch that is evaluated depending on the truth value. Secondly, because conditionals are blocks, they can be nested.\n",
    "\n",
    "<div class=\"alert alert-block\">\n",
    "<b>Question 2</b><br/>\n",
    "Before running the code below, to what value does the (outer) conditional evaluate to? And what if the value of <code>x</code> is 12, -5 or -100?\n",
    "<details>\n",
    "<summary>Hint?</summary>\n",
    "In this example, each branch evaluates to a <code>String</code>. Follow the conditional statements to figure out which branch is evaluated.\n",
    "<details>\n",
    "<summary>Hint?</summary>\n",
    "The nested conditional is a block too, which evaluates to the value of the chosen branch.\n",
    "</details>\n",
    "</details>\n",
    "</div>"
   ]
  },
  {
   "cell_type": "code",
   "execution_count": null,
   "id": "a73fcf45-ff03-4aab-88fb-69f9ba320689",
   "metadata": {},
   "outputs": [],
   "source": [
    "val x = 5\n",
    "\n",
    "if(x % 2 == 0) {\n",
    "  if(x < 0) {\n",
    "      \"X is even and negative.\"\n",
    "  } else {\n",
    "      \"X is even and positive.\"\n",
    "  }\n",
    "} else {\n",
    "  if(x < 0) {\n",
    "      \"X is odd and negative.\"\n",
    "  } else {\n",
    "      \"X is odd and positive.\"\n",
    "  }\n",
    "}"
   ]
  },
  {
   "cell_type": "markdown",
   "id": "149b31a5-c8ad-419b-8787-7fc7d8594d24",
   "metadata": {},
   "source": [
    "Each branch of the conditional consists of a code block. When a branch consists of a single expression, the curly brackets can be left out to simplify the code."
   ]
  },
  {
   "cell_type": "code",
   "execution_count": null,
   "id": "105bbf8e-4cf5-4bdd-8ca4-721c664db219",
   "metadata": {},
   "outputs": [],
   "source": [
    "val x = 4\n",
    "if(x % 2 == 0) println(\"X is even.\")\n",
    "else println(\"X is odd.\")"
   ]
  },
  {
   "cell_type": "markdown",
   "id": "151b302e-54ab-4608-b805-e863dfee52ab",
   "metadata": {},
   "source": [
    "You can have an arbitrary number of branching paths, each with its own block using ```else if```:"
   ]
  },
  {
   "cell_type": "code",
   "execution_count": null,
   "id": "d3676292-432b-4238-92b5-ccb07a5811b2",
   "metadata": {},
   "outputs": [],
   "source": [
    "val x = 4\n",
    "if(x < 0) {\n",
    "    println(\"X is negative.\")\n",
    "} else if(x == 0) {\n",
    "    println(\"X is zero.\")\n",
    "} else if(x <= 10) {\n",
    "    println(\"X is small.\")\n",
    "} else {\n",
    "    println(\"X is large.\")\n",
    "}"
   ]
  },
  {
   "cell_type": "markdown",
   "id": "529c5387-a7b1-48d4-b470-357a1e9953d9",
   "metadata": {},
   "source": [
    "Conditionals can be combined with functions to write a reusable piece of code whose output is computed differently depending on some truth condition. For example, a function that computes the absolute value of ```x``` multiplies ```x``` with -1 if ```x``` is negative and otherwise evaluates to ```x```.\n",
    "\n",
    "<div class=\"alert alert-block\">\n",
    "<b>Question 3</b><br/>\n",
    "Complete the code below by implementing the body of ```abs(x: Int): Int``` by replacing ```???``` with code. The function should evaluate to the absolute (positive) value of ```x```.\n",
    "<details>\n",
    "<summary>Hint?</summary>\n",
    "You need to use the conditional expression. Look at the examples above where the conditional tests for negative numbers to distinguish two cases: ```x``` is negative and ```x``` is positive and for each case compute the right value.\n",
    "<details>\n",
    "<summary>Hint?</summary>\n",
    "For one case, computing the right value means doing nothing, just evaluate to ```x```.\n",
    "</details>\n",
    "</details>\n",
    "</div>"
   ]
  },
  {
   "cell_type": "code",
   "execution_count": null,
   "id": "404e5b90-bdd6-4792-830a-a1695b85901c",
   "metadata": {},
   "outputs": [],
   "source": [
    "def abs(x: Int): Int = {\n",
    "    ???\n",
    "}"
   ]
  },
  {
   "cell_type": "markdown",
   "id": "816feb7b-d632-44e6-9a31-7c3c8125c8c5",
   "metadata": {},
   "source": [
    "You can test your function using the following code, it should return only true."
   ]
  },
  {
   "cell_type": "code",
   "execution_count": null,
   "id": "274f6b3d-816c-424e-a883-f0b7fc7f175e",
   "metadata": {},
   "outputs": [],
   "source": [
    "abs(1) == 1\n",
    "abs(-100) == 100\n",
    "abs(0) == 0"
   ]
  },
  {
   "cell_type": "markdown",
   "id": "7cf2780f-a4b9-4fdf-9fc1-8f6e5c462e9b",
   "metadata": {},
   "source": [
    "## Next section\n",
    "\n",
    "We continue next with [1.4 Basic types](01.04-scala_introduction-basic_types.ipynb)."
   ]
  }
 ],
 "metadata": {
  "kernelspec": {
   "display_name": "Scala",
   "language": "scala",
   "name": "scala"
  },
  "language_info": {
   "codemirror_mode": "text/x-scala",
   "file_extension": ".sc",
   "mimetype": "text/x-scala",
   "name": "scala",
   "nbconvert_exporter": "script",
   "version": "2.13.4"
  }
 },
 "nbformat": 4,
 "nbformat_minor": 5
}
