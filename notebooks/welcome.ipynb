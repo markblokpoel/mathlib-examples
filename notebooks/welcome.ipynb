{
 "cells": [
  {
   "cell_type": "markdown",
   "id": "fce1755a-4c8d-4300-b851-88f61b142775",
   "metadata": {},
   "source": [
    "# Welcome to Jupyter Lab with Scala support\n",
    "\n",
    "This binder template provides Scala support in Jupyter Lab via [almond](https://almond.sh). It further adds support for [plotly-scala](https://github.com/alexarchambault/plotly-scala) and by default only includes the Scala 2.13.6 kernel.\n",
    "\n",
    "Two (very) minimal examples:\n",
    "- [Scala basic](scala.ipynb)\n",
    "- [Plotly](plotly.ipynb)\n",
    "\n",
    "## Licenses\n",
    "\n",
    "- Scala is licensed under the [Apache License](https://www.apache.org/licenses/LICENSE-2.0), Version 2.0 (the “License”).\n",
    "- Almond is [Copyright 2018 Alexandre Archambault](https://github.com/almond-sh/almond/blob/master/LICENSE).\n",
    "- Plotly-scala is Liscenced under the [LGPL v3 license](https://www.gnu.org/licenses/lgpl-3.0.en.html).\n",
    "- Plotly.js is free and open-source software, licensed under the [MIT license](https://github.com/plotly/plotly.js/blob/master/LICENSE).\n",
    "- JupyterLab uses a shared copyright model that enables all contributors to maintain the copyright on their contributions. All code is licensed under the terms of the revised [BSD license](https://github.com/jupyterlab/jupyterlab/blob/master/LICENSE)."
   ]
  }
 ],
 "metadata": {
  "kernelspec": {
   "display_name": "Scala",
   "language": "scala",
   "name": "scala"
  },
  "language_info": {
   "codemirror_mode": "text/x-scala",
   "file_extension": ".sc",
   "mimetype": "text/x-scala",
   "name": "scala",
   "nbconvert_exporter": "script",
   "version": "2.13.5"
  }
 },
 "nbformat": 4,
 "nbformat_minor": 5
}
