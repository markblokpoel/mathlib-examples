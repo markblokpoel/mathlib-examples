{
 "cells": [
  {
   "cell_type": "markdown",
   "id": "c77bb7dc-d9ca-4bbf-9c3f-83231342d194",
   "metadata": {},
   "source": [
    "# Scala basics\n",
    "\n",
    "We cover only a small subset of the full Scala language here. This subset suffices for implementing basic simulations of formal theories. If after reading this chapter you want to learn more about Scala, there are various textbooks (e.g. Odersky, Spoon and Venners, 2019; but see also [Scala books](https://docs.scala-lang.org/books.html)) and online resources such as the official [Tour of Scala](https://docs.scala-lang.org/tour/tour-of-scala.html) and [Creative Scala](https://www.creativescala.org/)."
   ]
  },
  {
   "cell_type": "markdown",
   "id": "355e960c-5a6d-477a-8ea7-212071b73944",
   "metadata": {
    "tags": []
   },
   "source": [
    "## Values, functions and types\n",
    "\n",
    "### Values\n",
    "The basic expressions in a functional programming language such as Scala are values, functions and types. A value is a container that can store information. For example:"
   ]
  },
  {
   "cell_type": "code",
   "execution_count": null,
   "id": "8569954e-95e5-4570-9bd1-e95926f2cb1d",
   "metadata": {},
   "outputs": [],
   "source": [
    "val myNumber = 3\n",
    "val myString = \"Coding\""
   ]
  },
  {
   "cell_type": "markdown",
   "id": "94aa8894-9f25-4d3a-a45a-36961fb52536",
   "metadata": {},
   "source": [
    "In Scala, like in math, once a value is set, it cannot change. In computer science a value is *immutable*. Of course, *mutable* values also exist and these are called variables. Their definition hides in their name, variables can change. For example:"
   ]
  },
  {
   "cell_type": "code",
   "execution_count": null,
   "id": "0f421f74-6245-4f28-98c3-325b89f5d779",
   "metadata": {},
   "outputs": [],
   "source": [
    "var myAge = 38"
   ]
  },
  {
   "cell_type": "markdown",
   "id": "b710fa6c-3807-40da-8b91-33e7ded4d3d8",
   "metadata": {},
   "source": [
    "Variables can be reassigned a new value without having to declare them again:"
   ]
  },
  {
   "cell_type": "code",
   "execution_count": null,
   "id": "fc0c40d6-3616-4231-a2ff-8f0f07de7cda",
   "metadata": {},
   "outputs": [],
   "source": [
    "myAge = myAge +1\n",
    "println(myAge)"
   ]
  },
  {
   "cell_type": "markdown",
   "id": "941b905a-4890-47db-8240-8cda7fc97f40",
   "metadata": {},
   "source": [
    "You see that the value of ```myAge``` has been increased by one.\n",
    "\n",
    "<div class=\"alert alert-block alert-info\">\n",
    "<b>Use variables or values?</b><br/>\n",
    "Variables might seem the more easier and flexible of the two, but there is a downside to their flexibility. You might not be able to say meaningful things about the contents of a value from the code itself. You may need you run your code and debug to learn about the variable's contents. This is not a problem for the small examples that we see here, but for larger projects knowing about the value of variables is a challenge.\n",
    "</div>\n",
    "\n",
    "To understand better what we are coding, let's break the example code down into its parts. \n",
    "\n",
    "```scala\n",
    "val myNumber = 3\n",
    "```\n",
    "\n",
    "The word ```val``` tells the computer that you will specify a *value*, which is a container storing an immutable value (in this case the integer 3). The *identifier* (name) of this value is the word ```myNumber```. The *assignment operator* ```=``` takes the value on its right side and stores it in the container on the left side.\n",
    "\n",
    "### Types\n",
    "All variables and values in Scala has a type. For example, the value ```myNumber``` above has type ```Int``` which stands for integer. You may have seen this in the output after running the code block. For clarify you can state a type explicitly using semicolons:"
   ]
  },
  {
   "cell_type": "code",
   "execution_count": null,
   "id": "3e8ec13b-909e-4b04-857d-8ad5559afd04",
   "metadata": {},
   "outputs": [],
   "source": [
    "val mySecondNumber: Int = 2"
   ]
  },
  {
   "cell_type": "markdown",
   "id": "a3ec8bbb-732f-4590-b3b1-21c62cb5f906",
   "metadata": {},
   "source": [
    "If you do not provide an explicit type, Scala will try to derive the types automatically. You've seen this in action with ```myNumber```, ```myString```, and ```myAge``` above.\n",
    "\n",
    "Types are helpful. They provide a safety net against programming mistakes since you cannot assign a value that is incompatible with the specified type. Running the following code results in a type mismatch error and the compiler (i.e., the software that interprets and runs your code) will even tell you which type it expected and which type you provided."
   ]
  },
  {
   "cell_type": "code",
   "execution_count": null,
   "id": "515d50de-cb3a-479b-9b86-4786800608e5",
   "metadata": {},
   "outputs": [],
   "source": [
    "val mySecondNumber: Int = 3.9"
   ]
  },
  {
   "cell_type": "markdown",
   "id": "e4acdb77-6079-4db1-acc2-98d73a6ad336",
   "metadata": {},
   "source": [
    "### Functions\n",
    "\n",
    "Functions allow us to write code that takes input, one or more *arguments*, and returns output. For example, addition $add(x,y)=x+y$ can be coded as:"
   ]
  },
  {
   "cell_type": "code",
   "execution_count": null,
   "id": "beaa1cfc-acaf-4c8e-9684-70051ffb18d6",
   "metadata": {},
   "outputs": [],
   "source": [
    "def add(x: Int, y: Int): Int = {\n",
    "  x + y\n",
    "}"
   ]
  },
  {
   "cell_type": "markdown",
   "id": "9c215f94-8b9c-49eb-832f-5f882584973e",
   "metadata": {},
   "source": [
    "And then the function can be called on two arguments:"
   ]
  },
  {
   "cell_type": "code",
   "execution_count": null,
   "id": "172b5623-b883-4d0d-82a2-490390f51c9f",
   "metadata": {},
   "outputs": [],
   "source": [
    "add(3, 4)\n",
    "add(6, 5)\n",
    "add(1, add(2, 3))"
   ]
  },
  {
   "cell_type": "markdown",
   "id": "0aaf1c56-8524-4f5a-a0b1-239fdee2251a",
   "metadata": {},
   "source": [
    "The last example illustrated that ```add(x, y)``` evaluates to a number (integer), and hence it can be passed as an argument to another add function call.\n",
    "\n",
    "Let's break down the code into its parts. The word ```def``` specifies that we are constructing a function with the *identifier* ```add```. The comma-separated list between parantheses is the list of arguments you can pass to this function, where each argument has a specified type. Functions require that the type of the output is explicitly defined, in this example Int. Then the assignment operator ```=``` links the *body* of function which is delineated by curly brackets. Whenever we call this function with the right arguments, the value of the body is computed relative to the arguments and that value is the output of the function.\n",
    "\n",
    "<div class=\"alert alert-block\">\n",
    "<b>Question 1</b><br/>\n",
    "Fill in the blanks in the code below and write a function that computes the following equation: $f(a,b,c)=a+b∗c$\n",
    "\n",
    "<details>\n",
    "<summary>Hint?</summary>\n",
    "You need to replace the dots ```...``` with a list of comma separated arguments, and replace the three question marks ```???``` with the expression that evaluates the equation.\n",
    "</details>\n",
    "</div>"
   ]
  },
  {
   "cell_type": "code",
   "execution_count": null,
   "id": "cf4e5cc4-54b9-49de-aeaa-e64d691c9469",
   "metadata": {},
   "outputs": [],
   "source": [
    "def equation(...): Int = {\n",
    "  ???\n",
    "}\n",
    "\n",
    "equation(2, 5, -1) == -3    // Test the function, true if correct."
   ]
  },
  {
   "cell_type": "markdown",
   "id": "f048bfe0-270a-4c4d-9af3-1d66b57285bc",
   "metadata": {},
   "source": [
    "Functions in Scala have types too which becomes clearer with the following alternative notation."
   ]
  },
  {
   "cell_type": "code",
   "execution_count": null,
   "id": "636bff3d-6a5a-4f44-a141-23cdb544b9de",
   "metadata": {},
   "outputs": [],
   "source": [
    "def add: (Int, Int) => Int = (x: Int, y: Int) => {\n",
    "  x + y\n",
    "}"
   ]
  },
  {
   "cell_type": "markdown",
   "id": "4b534ef4-3d0f-4914-a14e-54caf57d08d1",
   "metadata": {},
   "source": [
    "This notation is not used often since it is hard to read, but it explicitly defines the function’s type which is very similar to how we express function types mathematically:\n",
    "\n",
    "| Scala | ```(Int, Int) => Int``` |\n",
    "|:--:|:--:|\n",
    "| Math | $$ add: \\mathbb{N} \\times \\mathbb{N} \\rightarrow \\mathbb{N} $$ |\n",
    "\n",
    "In functional programming languages like Scala you can even pass a function as an argument of another function. This is a powerful way to organize your code and very useful in writing simulation code that is closely tied to formal theories. In a sense, a theory is a function itself, mapping a list of arguments (input) to output. We’ve seen that some formal theories can have functions as arguments. For example, Selecting invitees (version 1) in Chapter 4 takes as input the function $like:P×P\\rightarrow{true,false}$. Here is a (partial) example of a function as argument.\n",
    "\n",
    "```scala\n",
    "def selectingInvitees(..., like: (Person, Person) => Boolean)\n",
    "```\n",
    "\n",
    "You can find multiple example implemetations of selecting invitees [in this notebook](../examples/selecting-invitees.ipynb), where we will use this coding strategy. \n",
    "\n",
    "<div class=\"alert alert-block alert-warning\">\n",
    "<b>Syntactic oddity</b><br/>\n",
    "For now, we should note one syntactic oddity in the Scala language. Sometimes when you pass a function as an argument, the compiler will complain with the following message:\n",
    "\n",
    "```\n",
    "error: missing argument list for method myFun\n",
    "Unapplied methods are only converted to functions when a function type is expected.\n",
    "You can make this conversion explicit by writing `myFun _` or `myFun(_)` instead of `myFun`.\n",
    "```\n",
    "    \n",
    "The solution for this problem is often following the instructions in the error explicitly and add an underscore ```_``` to the function. For example:\n",
    "\n",
    "```scala\n",
    "selectingInvitees(..., like)    // Procudes error.\n",
    "selectingInvitees(..., like _)  // Correct.\n",
    "```\n",
    "</div>"
   ]
  },
  {
   "cell_type": "markdown",
   "id": "6bd1e6f0-00a3-446d-a393-6793db928b81",
   "metadata": {},
   "source": [
    "Finally, it is useful to know that some functions accompany certain types. For example, the type String has functions built-in that can be called with the dot-notation. These functions (also called methods) have access to the value they are called upon. The following example called method ```toUpperCase``` that evaluates to the upper-case version of the original string."
   ]
  },
  {
   "cell_type": "code",
   "execution_count": null,
   "id": "c14b189a-9e03-4753-bfdf-5eaf67c4be67",
   "metadata": {},
   "outputs": [],
   "source": [
    "\"This is a String.\".toUpperCase"
   ]
  },
  {
   "cell_type": "markdown",
   "id": "40f8c009-4838-4dd4-bb71-d2f5ec18652d",
   "metadata": {},
   "source": [
    "Many Scala development tools allow you to look through the list of methods by using auto completion. Just add a . to a value and access auto complete (press tab key in Jupyter) to open the list.\n",
    "\n",
    "<div class=\"alert alert-block\">\n",
    "<b>Question 2</b><br/>\n",
    "Try to find the function that rounds down a double value using auto completion.\n",
    "\n",
    "<details>\n",
    "<summary>Hint?</summary>\n",
    "Add a dot ```.``` at the end and press tab to access the list of available functions.\n",
    "<details>\n",
    "<summary>Hint?</summary>\n",
    "The function ```floor``` rounds down to whole numbers.\n",
    "</details>\n",
    "</details>\n",
    "</div>"
   ]
  },
  {
   "cell_type": "code",
   "execution_count": null,
   "id": "a0c1bc18-9e04-420b-bec5-a423fb655e6c",
   "metadata": {},
   "outputs": [],
   "source": [
    "1.9"
   ]
  },
  {
   "cell_type": "markdown",
   "id": "8c6890c4-cdca-4483-b568-4a3cbf4d1f78",
   "metadata": {},
   "source": [
    "## Blocks and scope\n",
    "\n",
    "The notions of *block* and *scope* are important to understand when writing code. At each point in your code, you have access to a subset of all values and variables defined in your code. Whenever a value or variable is in the subset it is *in scope*. What is within scope, depends on the structure of your code which is determined by blocks.\n",
    "\n",
    "In Scala a *block* is a sequence of expressions delineated by curly brackets. A block evaluates to a value which is the value of the last statement in the block. If no final statement is present, the block evaluates to ```Unit```, a special value denoting nothing. (You will notice that Jupyter lab will not print values with type Unit.)"
   ]
  },
  {
   "cell_type": "code",
   "execution_count": null,
   "id": "cc766d58-92bc-4227-b0e2-0a7ed0321ca2",
   "metadata": {},
   "outputs": [],
   "source": [
    "{\n",
    "  val a = 3\n",
    "  val b = 6\n",
    "  a + b       // This block evaluates to 9 with type Int.\n",
    "}"
   ]
  },
  {
   "cell_type": "markdown",
   "id": "24c4b679-48b4-41af-a913-375f4c933e8b",
   "metadata": {},
   "source": [
    "One can even assign the value of a block:"
   ]
  },
  {
   "cell_type": "code",
   "execution_count": null,
   "id": "f5efb2cb-65d4-4e82-9834-6f6d6daf65bc",
   "metadata": {},
   "outputs": [],
   "source": [
    "val blockValue: String = {\n",
    "    val t = \"Theory\"\n",
    "    val r = \" rocks\"\n",
    "    t + r\n",
    "}"
   ]
  },
  {
   "cell_type": "markdown",
   "id": "113e116c-5e9c-4157-8288-89cffb515f09",
   "metadata": {},
   "source": [
    "Blocks can be nested within eachother. Which is useful for structuring your code.\n",
    "\n",
    "<div class=\"alert alert-block\">\n",
    "<b>Question 3</b><br/>\n",
    "Before running to code block below, what is the value of the outermost block?\n",
    "<details>\n",
    "<summary>Hint?</summary>\n",
    "A code block evaluates to the value of the final statement in the block.\n",
    "</details>\n",
    "</div>"
   ]
  },
  {
   "cell_type": "code",
   "execution_count": null,
   "id": "cc6a157b-615f-45a1-b4d3-7c878cddcf09",
   "metadata": {},
   "outputs": [],
   "source": [
    "{\n",
    "    {\n",
    "        2 + 3\n",
    "    }\n",
    "    9\n",
    "}"
   ]
  },
  {
   "cell_type": "markdown",
   "id": "ca2762fb-8c9c-46ee-8347-b6004b6e7791",
   "metadata": {},
   "source": [
    "However, this nested structure has implications for what values and variables are within scope.  Within a particular block, you can only access values and variables:\n",
    "* defined within that block, and\n",
    "* to those in scope of the block that contains this block.\n",
    "\n",
    "The following code compiles because it respects scope:"
   ]
  },
  {
   "cell_type": "code",
   "execution_count": null,
   "id": "bf66bee1-c071-4ca0-a5e0-8beaba09986e",
   "metadata": {},
   "outputs": [],
   "source": [
    "{\n",
    "    val x = 3\n",
    "    \n",
    "    {\n",
    "        val p = 5\n",
    "        p + x\n",
    "    }\n",
    "\n",
    "    {\n",
    "        val a = 7\n",
    "        a + x\n",
    "    }\n",
    "    \n",
    "    x + x\n",
    "}"
   ]
  },
  {
   "cell_type": "markdown",
   "id": "44733fce-5320-4963-952c-b7abdb4ed14a",
   "metadata": {},
   "source": [
    "However, some values are not within scope in some blocks. For example, in the second nested block, value ```p``` is not in scope.\n",
    "\n",
    "<div class=\"alert alert-block\">\n",
    "<b>Question 4</b><br/>\n",
    "For each block, list what values from all defined values (<code>x</code>, <code>p</code> and <code>a</code>) are in scope.\n",
    "<details>\n",
    "<summary>Hint?</summary>\n",
    "Use the definition of scope and work out what values are *in* scope to determine what values are *not* in scope.\n",
    "</details>\n",
    "</div>\n",
    "\n",
    "If you write code that tries to access a value or variable that is not in scope, the compiler will result in an error stating which value cannot be found."
   ]
  },
  {
   "cell_type": "code",
   "execution_count": null,
   "id": "c4028ddd-a769-4396-9d94-857ea964fc50",
   "metadata": {},
   "outputs": [],
   "source": [
    "{\n",
    "    val x = 3\n",
    "    {\n",
    "        val p = 5\n",
    "        p + 1\n",
    "    }\n",
    "    x + p  // Cannot access p\n",
    "}"
   ]
  },
  {
   "cell_type": "markdown",
   "id": "c17f93b4-302c-456f-9f98-a4483e180324",
   "metadata": {},
   "source": [
    "## Conditional\n",
    "\n",
    "The *conditional* expression is more colloquially known as the if-then-else expression. It allows for branching paths of code, depending on the truth value of the conditional. Each branch is a block of code delineated with curly brackets.\n",
    "\n",
    "<div class=\"alert alert-block\">\n",
    "<b>Question 5</b><br/>\n",
    "Try changing the value of <code>x</code> and predict what code block will be evaluated.\n",
    "</div>"
   ]
  },
  {
   "cell_type": "code",
   "execution_count": null,
   "id": "a2aa5176-8808-4be5-88a5-24c598fe3523",
   "metadata": {},
   "outputs": [],
   "source": [
    "val x = 4\n",
    "\n",
    "if(x % 2 == 0) {\n",
    "  println(\"X is even.\")\n",
    "} else {\n",
    "  println(\"X is odd.\")\n",
    "}"
   ]
  },
  {
   "cell_type": "markdown",
   "id": "08ab6d0d-3436-4339-9cf6-75a525f01900",
   "metadata": {},
   "source": [
    "The entire conditional is implicitly also a block, which has two implications. Firstly, the conditional block itself evaluates to the value of the final statement in the branch that is evaluated depending on the truth value. Secondly, because conditionals are blocks, they can be nested.\n",
    "\n",
    "<div class=\"alert alert-block\">\n",
    "<b>Question 6</b><br/>\n",
    "Before running the code below, to what value does the (outer) conditional evaluate to? And what if the value of <code>x</code> is 12, -5 or -100?\n",
    "<details>\n",
    "<summary>Hint?</summary>\n",
    "In this example, each branch evaluates to a <code>String</code>. Follow the conditional statements to figure out which branch is evaluated.\n",
    "<details>\n",
    "<summary>Hint?</summary>\n",
    "The nested conditional is a block too, which evaluates to the value of the chosen branch.\n",
    "</details>\n",
    "</details>\n",
    "</div>"
   ]
  },
  {
   "cell_type": "code",
   "execution_count": null,
   "id": "a73fcf45-ff03-4aab-88fb-69f9ba320689",
   "metadata": {},
   "outputs": [],
   "source": [
    "val x = 5\n",
    "\n",
    "if(x % 2 == 0) {\n",
    "  if(x < 0) {\n",
    "      \"X is even and negative.\"\n",
    "  } else {\n",
    "      \"X is even and positive.\"\n",
    "  }\n",
    "} else {\n",
    "  if(x < 0) {\n",
    "      \"X is odd and negative.\"\n",
    "  } else {\n",
    "      \"X is odd and positive.\"\n",
    "  }\n",
    "}"
   ]
  },
  {
   "cell_type": "markdown",
   "id": "149b31a5-c8ad-419b-8787-7fc7d8594d24",
   "metadata": {},
   "source": [
    "Each branch of the conditional consists of a code block. When a branch consists of a single expression, the curly brackets can be left out to simplify the code."
   ]
  },
  {
   "cell_type": "code",
   "execution_count": null,
   "id": "105bbf8e-4cf5-4bdd-8ca4-721c664db219",
   "metadata": {},
   "outputs": [],
   "source": [
    "val x = 4\n",
    "if(x % 2 == 0) println(\"X is even.\")\n",
    "else println(\"X is odd.\")"
   ]
  },
  {
   "cell_type": "markdown",
   "id": "151b302e-54ab-4608-b805-e863dfee52ab",
   "metadata": {},
   "source": [
    "You can have an arbitrary number of branching paths, each with its own block using ```else if```:"
   ]
  },
  {
   "cell_type": "code",
   "execution_count": null,
   "id": "d3676292-432b-4238-92b5-ccb07a5811b2",
   "metadata": {},
   "outputs": [],
   "source": [
    "val x = 4\n",
    "if(x < 0) {\n",
    "    println(\"X is negative.\")\n",
    "} else if(x == 0) {\n",
    "    println(\"X is zero.\")\n",
    "} else if(x <= 10) {\n",
    "    println(\"X is small.\")\n",
    "} else {\n",
    "    println(\"X is large.\")\n",
    "}"
   ]
  },
  {
   "cell_type": "markdown",
   "id": "529c5387-a7b1-48d4-b470-357a1e9953d9",
   "metadata": {},
   "source": [
    "Conditionals can be combined with functions to write a reusable piece of code whose output is computed differently depending on some truth condition. For example, a function that computes the absolute value of ```x``` multiplies ```x``` with -1 if ```x``` is negative and otherwise evaluates to ```x```.\n",
    "\n",
    "<div class=\"alert alert-block\">\n",
    "<b>Question 7</b><br/>\n",
    "Complete the code below by implementing the body of ```abs(x: Int): Int``` by replacing ```???``` with code. The function should evaluate to the absolute (positive) value of ```x```.\n",
    "<details>\n",
    "<summary>Hint?</summary>\n",
    "You need to use the conditional expression. Look at the examples above where the conditional tests for negative numbers to distinguish two cases: ```x``` is negative and ```x``` is positive and for each case compute the right value.\n",
    "<details>\n",
    "<summary>Hint?</summary>\n",
    "For one case, computing the right value means doing nothing, just evaluate to ```x```.\n",
    "</details>\n",
    "</details>\n",
    "</div>"
   ]
  },
  {
   "cell_type": "code",
   "execution_count": null,
   "id": "404e5b90-bdd6-4792-830a-a1695b85901c",
   "metadata": {},
   "outputs": [],
   "source": [
    "def abs(x: Int): Int = {\n",
    "    ???\n",
    "}"
   ]
  },
  {
   "cell_type": "markdown",
   "id": "816feb7b-d632-44e6-9a31-7c3c8125c8c5",
   "metadata": {},
   "source": [
    "You can test your function using the following code, it should return only true."
   ]
  },
  {
   "cell_type": "code",
   "execution_count": null,
   "id": "274f6b3d-816c-424e-a883-f0b7fc7f175e",
   "metadata": {},
   "outputs": [],
   "source": [
    "abs(1) == 1\n",
    "abs(-100) == 100\n",
    "abs(0) == 0"
   ]
  },
  {
   "cell_type": "markdown",
   "id": "fc236a87-4bd5-4d2c-bbfe-17ff50588c69",
   "metadata": {},
   "source": [
    "## Basic types\n",
    "\n",
    "Scala, like most programming languages, comes with a plethora of types and datastructures. Many of these types fall beyond the scope of this tutorial. However, the following basic types and their operators will be very useful to know.\n",
    "\n",
    "| Type | Math equivalent | Example value |\n",
    "| :--- |:--- |:--- |\n",
    "| ```Int``` | $$\\mathbb{N}$$ | 3 |\n",
    "| ```Double``` |  $$\\mathbb{R}$$ | 2.7 |\n",
    "| ```Boolean``` |  $$\\{true, false\\}$$ | ```true``` |\n",
    "| ```Char``` | n.a. | 'c' |\n",
    "| ```String``` |  n.a. | \"Awesome\" |\n",
    "\n",
    "### Numbers\n",
    "```Int``` and ```Double``` share many operators such as addition ```+```, subtraction ```-```, multiplication ```*``` and division ```/```."
   ]
  },
  {
   "cell_type": "code",
   "execution_count": null,
   "id": "81d16952-b415-4e66-8598-9e2666108690",
   "metadata": {},
   "outputs": [],
   "source": [
    "val x: Double = 3\n",
    "val y: Double = 6\n",
    "\n",
    "x + y\n",
    "x - y\n",
    "x * 3\n",
    "y / 2            // Division.\n",
    "y % 2            // Remainder or modulo."
   ]
  },
  {
   "cell_type": "markdown",
   "id": "459d0258-061b-4470-8e53-6d45560136b3",
   "metadata": {},
   "source": [
    "In addition, you can import the ```scala.math``` package for additional mathematical functions (for a full list see [the Scaladoc](https://www.scala-lang.org/api/current/scala/math/index.html)). Importing a package is done with the ```import``` statement."
   ]
  },
  {
   "cell_type": "code",
   "execution_count": null,
   "id": "e33a9fc9-1f66-434b-b53d-c4aa8baf9674",
   "metadata": {},
   "outputs": [],
   "source": [
    "import scala.math"
   ]
  },
  {
   "cell_type": "markdown",
   "id": "c2d4f49e-edfe-4ffa-afe1-a43610585844",
   "metadata": {},
   "source": [
    "To access the functions defined in ```scala.math``` you can use the dot notation, as can be seen below."
   ]
  },
  {
   "cell_type": "code",
   "execution_count": null,
   "id": "f6fffd0e-4cd6-47d0-9b5b-1c95a3ca6d1d",
   "metadata": {},
   "outputs": [],
   "source": [
    "math.pow(3, 6)   // Exponentiation, x^y.\n",
    "math.min(3, 6)\n",
    "math.max(3, 6)"
   ]
  },
  {
   "cell_type": "markdown",
   "id": "f77a65ee-406e-4ce3-af7c-9dd1a6c1d2e0",
   "metadata": {},
   "source": [
    "<div class=\"alert alert-block\">\n",
    "<b>Question 8</b><br/>\n",
    "Use the <code>scala.math</code> library to compute the following expressions by replacing the <code>_</code> in the codeblock below. You can comment out lines adding <code>//</code> at the start of the line to focus on one example without the compiler running into an error on unfinished lines.\n",
    "\n",
    "$$\n",
    "|2.123|\\\\\n",
    "\\sin(3\\pi) \\\\\n",
    "e^{10}\n",
    "$$\n",
    "    \n",
    "And try generating a (pseudo) random number. \n",
    "\n",
    "<details>\n",
    "<summary>Hint?</summary>\n",
    "$|x|$ is the absolute value of $x$, $\\sin$ is the sinus function, $\\pi$ is about $3.1415$ (but a 15 decimal precision constant is defined in ```scala.math``` accessible using the dot notation), $2^{10}=2\\cdot 2\\cdot 2\\cdot 2\\cdot 2\\cdot 2\\cdot 2\\cdot 2\\cdot 2\\cdot 2$ but try to use the exponent function.\n",
    "</details>\n",
    "</div>"
   ]
  },
  {
   "cell_type": "code",
   "execution_count": null,
   "id": "197eeee2-2b95-4b65-b490-ba1e1eeb9a4d",
   "metadata": {},
   "outputs": [],
   "source": [
    "math._(2.123)     // |2.123|\n",
    "math._(3*math._)  // sin(3pi)\n",
    "math._(10)        // e^10\n",
    "math._            // a random number"
   ]
  },
  {
   "cell_type": "markdown",
   "id": "bf288942-521b-48b7-9a04-9c5838f3e24a",
   "metadata": {},
   "source": [
    "### Boolean (truth values)\n",
    "\n",
    "For Boolean types these are some common expressions:"
   ]
  },
  {
   "cell_type": "code",
   "execution_count": null,
   "id": "461790d5-662e-4794-b96c-e3330ffcf5e6",
   "metadata": {},
   "outputs": [],
   "source": [
    "true && true   // Logical and.\n",
    "true || false  // Logical or.\n",
    "true ^ true    // Logical xor.\n",
    "!true          // Negation."
   ]
  },
  {
   "cell_type": "markdown",
   "id": "acb4cee1-31ff-4bba-915c-d5f4d32b54a0",
   "metadata": {},
   "source": [
    "### Combining types\n",
    "\n",
    "You can combine number types with Boolean types via comparisons. Making a comparison between two numbers, for example $3 > 6$ will return a Boolean type. In fact, the comparison is basically a function that takes two numbers as arguments and returns a Boolean.\n",
    "\n",
    "```scala\n",
    "def <(a: Int, b: Int): Boolean = ???\n",
    "```\n",
    "\n",
    "Here are some examples you might use in practise. Reading these abstract statements with symbols may take some getting used to. Take your time to study the examples and try to write a few of your own."
   ]
  },
  {
   "cell_type": "code",
   "execution_count": null,
   "id": "b7a1ef0f-2ecd-44c7-a762-6c213eb36610",
   "metadata": {},
   "outputs": [],
   "source": [
    "val x: Double = 3\n",
    "val y: Double = 6\n",
    "\n",
    "x > y                    // Is x bigger than y?\n",
    "x <= 3 && x > 1          // Is x a number between 1 and 3 (inclusive)?\n",
    "x % 2 == 0 || x > 0      // Is x a positive even number?\n",
    "x % 2 == 0 ^ y % 2 == 0  // Is either x or y even, but not both?\n",
    "!(x < 0)                 // Is x is positive?"
   ]
  },
  {
   "cell_type": "markdown",
   "id": "275c11e2-f7c4-45de-aa0e-48e8e4ce7f02",
   "metadata": {},
   "source": [
    "### Lists, sets and tuples\n",
    "\n",
    "When you want to store multiple values you can use *collections*. For example, you might want to store the temperature forecast for the next seven days.\n",
    "\n",
    "|Temperature|\n",
    "|-:|\n",
    "|22.2 °C|\n",
    "|23.1 °C|\n",
    "|23.7 °C|\n",
    "|22.3 °C|\n",
    "|24.3 °C|\n",
    "|24.7 °C|\n",
    "|25.1 °C|\n",
    "\n",
    "Or the people that you know: Erik, Lamar, Angelica, Emanuel, Lorraine, Meghan, Myron, Erica, Lester, Javier, Kelly, Abraham, Lindsay, Harriet, and Guadalupe. \n",
    "\n",
    "Or the cost of a all menu card items: Vegan pie costs €9,90, a beer costs €3,90, etc.\n",
    "\n",
    "Some collections, like the temperature forecast and menu card item, are ordered: one value follows the next. In math, ordered collections are expressed in a list or sequence.\n",
    "\n",
    "$$\\langle 22.2, 23.1, 23.7, 22.3, 24.3, 24.7, 25.1 \\rangle$$\n",
    "\n",
    "### List\n",
    "In Scala we can store ordered collections in a ```List```."
   ]
  },
  {
   "cell_type": "code",
   "execution_count": null,
   "id": "d93c38e7-6e37-4b8d-be63-729aea2c1d1d",
   "metadata": {},
   "outputs": [],
   "source": [
    "val forecast = List(22.2, 23.1, 23.7, 22.3, 24.3, 24.7, 25.1)"
   ]
  },
  {
   "cell_type": "markdown",
   "id": "84bcac01-8f73-4dae-8827-ec59dfb7a89a",
   "metadata": {},
   "source": [
    "One a list is defined, we can access an element by its index. Starting with the first item in the list which has index 0."
   ]
  },
  {
   "cell_type": "code",
   "execution_count": null,
   "id": "5d5a8cd5-9206-4454-9c4d-921354c4172a",
   "metadata": {},
   "outputs": [],
   "source": [
    "forecast(0)\n",
    "forecast(6)"
   ]
  },
  {
   "cell_type": "markdown",
   "id": "b78ac04f-5615-466e-a272-471a388cab18",
   "metadata": {},
   "source": [
    "### Sets\n",
    "\n",
    "Unordered collections, such as people, are in math expressed in a set: \n",
    "\n",
    "$$\\{\\text{Erik},\\text{Lamar},\\text{Angelica},\\text{Emanuel},\\text{Lorraine},\\text{Meghan},\\text{Myron},\\text{Erica},\\text{Lester},\\text{Javier},\\text{Kelly},\\text{Abraham},\\text{Lindsay},\\text{Harriet},\\text{Guadalupe}\\}$$\n",
    "\n",
    "And Scala follows the math accordingly. Note that because sets are unordered, we have no way of accessing the individual elements by an index. Also note that any duplicates added to a set will be removed, as sets cannot contain multiple copies of the same entity."
   ]
  },
  {
   "cell_type": "code",
   "execution_count": null,
   "id": "1a4bb653-7182-40eb-b64b-c41f9dcbd0e8",
   "metadata": {},
   "outputs": [],
   "source": [
    "val people   = Set(\"Erik\", \"Lamar\", \"Angelica\", \"Emanuel\", \"Lorraine\",\n",
    "                   \"Meghan\", \"Myron\", \"Erica\", \"Lester\", \"Javier\", \"Kelly\",\n",
    "                   \"Abraham\", \"Lindsay\", \"Harriet\", \"Guadalupe\")"
   ]
  },
  {
   "cell_type": "markdown",
   "id": "1a852345-c9a3-4000-b967-cb3d26f0d958",
   "metadata": {},
   "source": [
    "We'll dive into sets below using the ```mathlib``` library, so let's first get\n",
    "some familiarity with lists. Some basic examples are in the code block below.\n",
    "Try playing around with them to see what they do."
   ]
  },
  {
   "cell_type": "code",
   "execution_count": null,
   "id": "c44570ae-3f52-49b9-8e48-e64cf5cd1f8e",
   "metadata": {},
   "outputs": [],
   "source": [
    "val forecastThisWeek = List(22.2, 23.1, 23.7, 22.3, 24.3, 24.7, 25.1)\n",
    "val forecastNextWeek = List(22.3, 19.8, 18.4, 18.0, 17.6, 17.5, 17.2)\n",
    "\n",
    "val oneMore          = 23.1 :: forecastThisWeek               // Prepend element.\n",
    "val combinedForecast = forecastThisWeek ::: forecastNextWeek  // Prepend list.\n",
    "val listSize         = forecastThisWeek.size                  // Number of elements in list.\n",
    "val contains23_7     = forecastThisWeek.contains(23.7)        // Does the list contain element?\n",
    "val firstElement     = forecastThisWeek.head                  // The first element of the list.\n",
    "val tailElements     = forecastThisWeek.tail                  // Everything except the first element.\n",
    "val element3         = forecastThisWeek(3)                    // The n-th element.\n",
    "val isForecastEmpty  = forecastThisWeek.isEmpty               // Checks whether the list is emtpy."
   ]
  },
  {
   "cell_type": "markdown",
   "id": "134242bf-89c4-4bb9-ba1e-c3674b00b6ba",
   "metadata": {},
   "source": [
    "### Working with collections\n",
    "\n",
    "The power of collections lies in being able to apply to all of the elements. The idea is that if we have a function that applies to one element, e.g., $sq(x) = x^2)$, we can apply it to all elements in the list. The most common of these applications is called ```map```. It takes as argument a function ```f``` and evaluates to a list where each element computed using ```f```.\n",
    "\n",
    "\n",
    "\n",
    "| ```list``` | ```1``` | ```2``` | ```3``` | ```4``` |\n",
    "|-:|:-:|:-:|:-:|:-:|\n",
    "|  | $$\\downarrow$$ | $$\\downarrow$$ | $$\\downarrow$$ | $$\\downarrow$$ |\n",
    "|  | ```sq(1)``` | ```sq(2)``` | ```sq(3)``` | ```sq(4)``` |\n",
    "|  | $$\\downarrow$$ | $$\\downarrow$$ | $$\\downarrow$$ | $$\\downarrow$$ |\n",
    "| ```list.map(sq)``` | ```1``` | ```4``` | ```9``` | ```16``` |"
   ]
  },
  {
   "cell_type": "code",
   "execution_count": null,
   "id": "9a6c070c-8d04-48b3-99ab-cd08a5c073f6",
   "metadata": {},
   "outputs": [],
   "source": [
    "def sq(x: Int): Int = x * x     // Function that computes the square root of x.\n",
    "\n",
    "val list = List(1, 2, 3, 4)     // The original list\n",
    "val squaredList = list.map(sq)  // The squared list"
   ]
  },
  {
   "cell_type": "markdown",
   "id": "59a4c2e4-9774-4bde-8b45-758e1361286e",
   "metadata": {},
   "source": [
    "The type of the argument of the function must be the same type as the elements in the list, but its output can be of any type. For example, take an ```Int``` and return a ```String```. \n",
    "\n",
    "<div class=\"alert alert-block alert-warning\">\n",
    "<b>Recursion</b><br/>\n",
    "The function <code>xx</code> is defined using <a href=\"https://en.wikipedia.org/wiki/Recursion\">recursion</a>. It is not important to understand how this works. If you are curious, though, here is a short explanation.\n",
    "\n",
    "Given any integer $x$ as input, the function check if that number is bigger than one. If so, it will evaluate to the string \"x\" and append the result of calling itself with x-1. This call is the recursive step. If <code>xx</code> is called with $x=1$, then it does not take a recursive step and simply results in the string \"x\".\n",
    "\n",
    "We can manually evaluate <code>xx(3)</code> by rewriting the function calls:\n",
    "\n",
    "|Evaluation|Rewrite how?|\n",
    "|-:|:-:|\n",
    "|```xx(3)```| ```3>1==true``` so we replace with ```xx(3)``` with ```\"x\" + xx(2)```|\n",
    "|```\"x\" + xx(2)```| ```2>1==true``` so we replace ```xx(2)``` with ```\"x\" + xx(1)```|\n",
    "|```\"x\" + \"x\" + xx(1)```| ```1>1==false``` so we replace ```xx(1)``` with ```\"x\"```|\n",
    "|```\"x\" + \"x\" + \"x\"```| No function call to rewrite, evaluation is complete.|\n",
    "\n",
    "Note that the function does not deal correctly with numbers less than or equal to 0. Can you predict what happens if you call <code>xx(0)</code> and <code>xx(-100)</code>?\n",
    "</div>"
   ]
  },
  {
   "cell_type": "code",
   "execution_count": null,
   "id": "ed058b16-0c42-4984-b726-3d72b1a1febd",
   "metadata": {},
   "outputs": [],
   "source": [
    "// Function that creates a String with x \"x\"s.\n",
    "def xx(x: Int): String = {\n",
    "  if(x>1) \"x\" + xx(x-1)\n",
    "  else \"x\"\n",
    "}\n",
    "\n",
    "val originalList = List(1, 2, 3, 4)\n",
    "val stringList = list.map(xx)"
   ]
  },
  {
   "cell_type": "markdown",
   "id": "24c789b5-e158-4298-8693-2b346d1dad8b",
   "metadata": {},
   "source": [
    "What other useful things can we do with lists? Below are some examples. We predefine a function to evaluate if an integer is even. Additionally, we use [anonymous functions](https://docs.scala-lang.org/overviews/scala-book/anonymous-functions.html) as a shorthand to define a simple functions that compate a number. The ```_``` underscore in an anonymous function is replaced by the single argument, like the ```x``` argument in ```isEven```. You do not need to know how to write anonymous functions, but you may encounter them in Scala code so it is useful to be able to read them."
   ]
  },
  {
   "cell_type": "code",
   "execution_count": null,
   "id": "af09155c-bb5f-4e83-86ae-2ad120a161c8",
   "metadata": {},
   "outputs": [],
   "source": [
    "// Function that checks whether x is even.\n",
    "def isEven(x: Int): Boolean = {\n",
    "  x % 2 == 0\n",
    "}\n",
    "val list = List(1, 2, 3, 4)\n",
    "\n",
    "val existsEven        = list.exists(isEven)    // Does list contain an element that isEven?\n",
    "val existsBiggerThan3 = list.exists(_ > 3)     // Implicit function, does the list contain an element larger than 3?\n",
    "val areAllEven        = list.forall(isEven)    // Do all elements in list return true for isEven?\n",
    "val areAllLessThan100 = list.forall(_ <= 100)  // Implicit function, does the list contain an element larger than 3?\n",
    "val onlyEven          = list.filter(isEven)    // Filter out all elements that return true for isEven.\n",
    "val onlyLessThan3     = list.filter(_ < 3)     // Filter out all elements less than 3."
   ]
  },
  {
   "cell_type": "markdown",
   "id": "4f0cdc26-2f33-4396-8a3b-f0df681b59c3",
   "metadata": {},
   "source": [
    "### Maps\n",
    "\n",
    "Expressing a the cost of items on a menu card is more complex. Each item on the menu card is a pair of values, the item's name and the item's cost. Pairs can be represented by a set (if the order doesn't matter), but perhaps more naturally is to represent them using a *tuple*. In math, tuples are expressed as values between parentheses $(\\text{vegan pie}, 9.9)$, and Scala follows this convention."
   ]
  },
  {
   "cell_type": "code",
   "execution_count": null,
   "id": "0da53dbe-e041-4a28-8522-f63a939719e9",
   "metadata": {},
   "outputs": [],
   "source": [
    "val veganPie = (\"Vegan pie\", 9.90)\n",
    "val beer = (\"Beer\", 3.90)"
   ]
  },
  {
   "cell_type": "markdown",
   "id": "62be32d4-6ec4-4ccb-ac37-522fde005bef",
   "metadata": {},
   "source": [
    "One could combine these tuples into a set (again if the order is irrelevant), where each element is a tuple."
   ]
  },
  {
   "cell_type": "code",
   "execution_count": null,
   "id": "9b4e59ba-9532-4d1a-9919-caa127c94337",
   "metadata": {},
   "outputs": [],
   "source": [
    "val menuCard = Set(\n",
    "    (\"Vegan pie\", 9.90),\n",
    "    (\"Beer\", 3.90)\n",
    ")"
   ]
  },
  {
   "cell_type": "markdown",
   "id": "24cb0f7f-1d98-4ed5-9629-d5607a902740",
   "metadata": {},
   "source": []
  }
 ],
 "metadata": {
  "kernelspec": {
   "display_name": "Scala",
   "language": "scala",
   "name": "scala"
  },
  "language_info": {
   "codemirror_mode": "text/x-scala",
   "file_extension": ".sc",
   "mimetype": "text/x-scala",
   "name": "scala",
   "nbconvert_exporter": "script",
   "version": "2.13.4"
  }
 },
 "nbformat": 4,
 "nbformat_minor": 5
}
