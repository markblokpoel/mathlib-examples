{
 "cells": [
  {
   "cell_type": "code",
   "execution_count": null,
   "id": "ceb83c69-ed81-4ccc-abf7-4d1482982698",
   "metadata": {},
   "outputs": [],
   "source": [
    "import coursierapi._\n",
    "interp.repositories() ++= Seq(\n",
    "    MavenRepository.of(\"https://jitpack.io\")\n",
    ")"
   ]
  },
  {
   "cell_type": "code",
   "execution_count": null,
   "id": "2ab754a4-234d-4430-94bb-031dfb9c2392",
   "metadata": {},
   "outputs": [],
   "source": [
    "import $ivy.`com.github.markblokpoel.mathlib::mathlib:-SNAPSHOT`\n",
    "import mathlib.probability._"
   ]
  },
  {
   "cell_type": "code",
   "execution_count": null,
   "id": "a290016f-792a-40f4-9b63-7b6717ee4617",
   "metadata": {},
   "outputs": [],
   "source": [
    "val distribution = Distribution(\n",
    "    domain = Set(1, 2, 3, 4, 5, 6),\n",
    "    distribution = Map(\n",
    "        1 -> 1.0/6,\n",
    "        2 -> 1.0/6,\n",
    "        3 -> 1.0/6,\n",
    "        4 -> 1.0/6,\n",
    "        5 -> 1.0/6,\n",
    "        6 -> 1.0/6\n",
    "    )\n",
    ")"
   ]
  },
  {
   "cell_type": "code",
   "execution_count": null,
   "id": "9cd6f42d-946e-4b9b-8a87-a9a142cf01fa",
   "metadata": {},
   "outputs": [],
   "source": []
  }
 ],
 "metadata": {
  "kernelspec": {
   "display_name": "Scala",
   "language": "scala",
   "name": "scala"
  },
  "language_info": {
   "codemirror_mode": "text/x-scala",
   "file_extension": ".sc",
   "mimetype": "text/x-scala",
   "name": "scala",
   "nbconvert_exporter": "script",
   "version": "2.13.4"
  }
 },
 "nbformat": 4,
 "nbformat_minor": 5
}
