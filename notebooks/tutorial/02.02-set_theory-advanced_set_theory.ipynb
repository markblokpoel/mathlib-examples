{
 "cells": [
  {
   "cell_type": "markdown",
   "id": "a98ee921-56d3-4d61-b701-cea9e43393cd",
   "metadata": {},
   "source": [
    "## 2.2 Advanced set theory\n",
    "\n",
    "Beyond the basic set theory we covered so far, there are a few more advanced expressions that come in handy both in mathematical notation as well as in code. We cover those next.\n",
    "\n",
    "First we need to import the library again and set some values."
   ]
  },
  {
   "cell_type": "code",
   "execution_count": null,
   "id": "d45cd1e2-d388-45fc-b467-5ea22c52c434",
   "metadata": {
    "tags": []
   },
   "outputs": [],
   "source": [
    "import coursierapi._\n",
    "interp.repositories() ++= Seq(\n",
    "    MavenRepository.of(\"https://jitpack.io\")\n",
    ")"
   ]
  },
  {
   "cell_type": "code",
   "execution_count": null,
   "id": "0727e7d5-5d15-49b0-b256-b0c90ca22e96",
   "metadata": {
    "tags": []
   },
   "outputs": [],
   "source": [
    "import $ivy.`com.github.markblokpoel.mathlib::mathlib:-SNAPSHOT`\n",
    "import mathlib.set.SetTheory._\n",
    "\n",
    "val people = Set(\n",
    "    \"Ramiro\",\n",
    "    \"Brenda\",\n",
    "    \"Molly\"\n",
    ")"
   ]
  },
  {
   "cell_type": "markdown",
   "id": "bf648c43-565a-4c54-9892-599940ee9c41",
   "metadata": {},
   "source": [
    "## 2.2.1 Arguments of the maxima\n",
    "\n",
    "Sometimes we want to refer to the elements of a set that maximize a particular function. For example, given a set of people and a function that expresses for each person their net worth, we want to retrieve all persons of maximum net worth:\n",
    "\n",
    "$$\\arg\\max_{p \\in P}net(p)$$\n",
    "\n",
    "We implement the function ```net``` only for our toy example. Note that, equivalent to the mathmatical expression, ```argMax``` returns a set of elements. Even when you change Branda's net worth and the argmax contains only one result, they type is a ```Set```."
   ]
  },
  {
   "cell_type": "code",
   "execution_count": null,
   "id": "d615201a-0488-428c-9fb1-2404ada8b5f6",
   "metadata": {},
   "outputs": [],
   "source": [
    "def net(person: String): Int =\n",
    "    if(person == \"Ramiro\") 123000\n",
    "    else if(person == \"Brenda\") 640100\n",
    "    else if(person == \"Molly\") 640100\n",
    "    else 0 // Default net worth for any other person\n",
    "\n",
    "people.argMax(net)"
   ]
  },
  {
   "cell_type": "markdown",
   "id": "af7fd7a7-0cf4-45cb-8f60-b2cffa39ebf3",
   "metadata": {},
   "source": [
    "### 2.2.2 Powerset\n",
    "\n",
    "There are combinations of elements within a set that are often used in set theory. We use again the running example set of people:\n",
    "\n",
    "$$P=\\{\\text{Ramiro},\\text{Brenda},\\text{Molly}\\}$$\n",
    "\n",
    "Let's say you want to invite some of these persons for coffee. These are the possible subsets that you can invite:\n",
    "\n",
    "$$\\{\\text{Ramiro},\\text{Brenda},\\text{Molly}\\}$$\n",
    "$$\\{\\text{Ramiro},\\text{Brenda}\\}$$\n",
    "$$\\{\\text{Ramiro},\\text{Molly}\\}$$\n",
    "$$\\{,\\text{Brenda},\\text{Molly}\\}$$\n",
    "$$\\{\\text{Ramiro}\\}$$\n",
    "$$\\{\\text{Brenda}\\}$$\n",
    "$$\\{,\\text{Molly}\\}$$\n",
    "$$\\{\\}$$\n",
    "\n",
    "The set of all of possible subsets is called the powerset, which is denoted as $\\mathcal{P}(P)$ or sometimes $2^P$. The number of subsets in the powerset is exponential, so when writing code that contains powersets expect is to run slow for sets larger than 12. In Scala, the powerset can be expressed as:"
   ]
  },
  {
   "cell_type": "code",
   "execution_count": null,
   "id": "cb66a3f7-16e0-45d1-b311-184abaa961cd",
   "metadata": {},
   "outputs": [],
   "source": [
    "P(people)"
   ]
  },
  {
   "cell_type": "markdown",
   "id": "0d76e715-cd59-445c-a2c0-6c33772f99ff",
   "metadata": {},
   "source": [
    "### 2.2.3 Pairs and unique pairs\n",
    "\n",
    "Sometimes, we only require all pairs in a set. One way to code this is to use the cardinal product $P\\times P$. In Scala, the cardinal product of a set with itself can be expressed using the ```pairs``` function. If you want the set of all possible unique pairs, i.e., excluding pairs with the same element twice, we can call ```uniquePairs```. Note that since tuples are ordered, $(a,b)\\neq(b,a)$ and these functions will contain both pairs."
   ]
  },
  {
   "cell_type": "code",
   "execution_count": null,
   "id": "59a8455e-0fea-4731-af5d-3c28a325dc22",
   "metadata": {},
   "outputs": [],
   "source": [
    "people x people\n",
    "people.pairs\n",
    "people.uniquePairs"
   ]
  },
  {
   "cell_type": "markdown",
   "id": "72b829bf-c7e6-4cca-a9f3-8d35c1a91ba2",
   "metadata": {},
   "source": [
    "### 2.2.4 Partitions\n",
    "\n",
    "A partition of a set $P$ is a set $\\{P_1,\\dots,P_n\\}$ of sets $P_i\\subseteq P$, such that $\\bigcup P_i = P$ and $\\bigcap P_i=\\varnothing$. That is, the set of sets together contain *exactly* all elements in $P$ and none of the elements in $P$ are member of more than one set $P_i$.\n",
    "\n",
    "For example, say you want to distribute make groups of people and everyone should belong to exactly one group. That would be a partition. To compute the set of all possible partitions, we can use ```.allPartitions```. We could then continue to refine that set, for example, by filtering on the number of groups."
   ]
  },
  {
   "cell_type": "code",
   "execution_count": null,
   "id": "70808782-e960-4d8a-be27-9d3433017b68",
   "metadata": {},
   "outputs": [],
   "source": [
    "people.allPartitions\n",
    "\n",
    "/* The following function has a complex type, because it checks if the number\n",
    "   of groups is equal to nr. A group is a set of people (encoded as String)\n",
    "   and has type Set[String]. Hence, the set of groups has type Set[Set[String]].\n",
    " */\n",
    "def nrGroups(nr: Int)(set: Set[Set[String]]): Boolean = set.size == nr\n",
    "{ people.allPartitions | nrGroups(2) _ }\n",
    "\n",
    "// Alternatively, we can use an anonymous function.\n",
    "{ people.allPartitions | ((set: Set[Set[String]]) => set.size == 2) }"
   ]
  },
  {
   "cell_type": "markdown",
   "id": "06986631-6d8e-4795-b1f0-bde85f4b3887",
   "metadata": {},
   "source": [
    "### 2.2.5 Mappings and bijection\n",
    "\n",
    "The final two expression for sets are a mapping and bijection between two sets. A mapping between set $A$ and set $B$ is a function $f:A\\rightarrow B$ that maps all elements of $A$ to one or more elements of $B$. \n",
    "\n",
    "Mappings can have the following properties:\n",
    "\n",
    "* *injective*: all elements in $A$ are mapped to exactly one element in $B$\n",
    "* *surjective*: all elements in $B$ are part of a mapping\n",
    "\n",
    "Mappings generated by calling ```allMappings``` contain all four combinations of properties, depending on the relative sizes of the two sets.\n",
    "\n",
    "A bijection is a mapping that is both injective and surjective, mapping all elements from $A$ each to exactly one element in $B$ and covering all elements in $B$. The bijections generated by calling ```allBijections``` will give undefined results if $|A|\\neq |B|$."
   ]
  },
  {
   "cell_type": "code",
   "execution_count": null,
   "id": "f2a4105f-fb16-43f2-9a8b-da2ccf61c8ac",
   "metadata": {},
   "outputs": [],
   "source": [
    "Set(\"a\") allMappings Set(true, false)\n",
    "Set(\"a\", \"b\") allMappings Set(true, false)\n",
    "Set(\"a\", \"b\", \"c\") allMappings Set(true, false)\n",
    "Set(\"a\") allBijections Set(true, false)            // Invalid call\n",
    "Set(\"a\", \"b\") allBijections Set(true, false)       // Valid\n",
    "Set(\"a\", \"b\", \"c\") allBijections Set(true, false)  // Invalid call"
   ]
  }
 ],
 "metadata": {
  "kernelspec": {
   "display_name": "Scala",
   "language": "scala",
   "name": "scala"
  },
  "language_info": {
   "codemirror_mode": "text/x-scala",
   "file_extension": ".sc",
   "mimetype": "text/x-scala",
   "name": "scala",
   "nbconvert_exporter": "script",
   "version": "2.13.8"
  }
 },
 "nbformat": 4,
 "nbformat_minor": 5
}
