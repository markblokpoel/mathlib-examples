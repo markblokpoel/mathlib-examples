{
 "cells": [
  {
   "cell_type": "code",
   "execution_count": null,
   "id": "a80fd961-3c29-41a9-9df0-b525566f97ec",
   "metadata": {},
   "outputs": [],
   "source": []
  }
 ],
 "metadata": {
  "kernelspec": {
   "display_name": "Scala",
   "language": "scala",
   "name": "scala"
  },
  "language_info": {
   "codemirror_mode": "text/x-scala",
   "file_extension": ".sc",
   "mimetype": "text/x-scala",
   "name": "scala",
   "nbconvert_exporter": "script",
   "version": "2.13.5"
  }
 },
 "nbformat": 4,
 "nbformat_minor": 5
}
