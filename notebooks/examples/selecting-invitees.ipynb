{
 "cells": [
  {
   "cell_type": "code",
   "execution_count": null,
   "id": "3fb9f305-8749-49d6-9270-9c7909e0eebf",
   "metadata": {},
   "outputs": [],
   "source": [
    "import $ivy.`org.plotly-scala::plotly-almond:0.8.1`\n",
    "\n",
    "import plotly._\n",
    "import plotly.element._\n",
    "import plotly.layout._\n",
    "import plotly.Almond._"
   ]
  },
  {
   "cell_type": "code",
   "execution_count": null,
   "id": "61119015-96d9-47d7-b1d4-8e5ab6c02b67",
   "metadata": {},
   "outputs": [],
   "source": [
    "val (x, y) = Seq(\n",
    "  \"Banana\" -> 10,\n",
    "  \"Apple\" -> 8,\n",
    "  \"Grapefruit\" -> 5\n",
    ").unzip\n",
    "\n",
    "Bar(x, y).plot()"
   ]
  }
 ],
 "metadata": {
  "kernelspec": {
   "display_name": "Scala",
   "language": "scala",
   "name": "scala"
  },
  "language_info": {
   "codemirror_mode": "text/x-scala",
   "file_extension": ".sc",
   "mimetype": "text/x-scala",
   "name": "scala",
   "nbconvert_exporter": "script",
   "version": "2.13.8"
  }
 },
 "nbformat": 4,
 "nbformat_minor": 5
}
