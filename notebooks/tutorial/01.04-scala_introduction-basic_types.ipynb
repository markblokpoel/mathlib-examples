{
 "cells": [
  {
   "cell_type": "markdown",
   "id": "fc236a87-4bd5-4d2c-bbfe-17ff50588c69",
   "metadata": {},
   "source": [
    "## 1.4 Basic types\n",
    "\n",
    "Scala, like most programming languages, comes with a plethora of types and datastructures. Many of these types fall beyond the scope of this tutorial. However, the following basic types and their operators will be very useful to know.\n",
    "\n",
    "| Type | Math equivalent | Example value |\n",
    "| :--- |:--- |:--- |\n",
    "| ```Int``` | $$\\mathbb{N}$$ | 3 |\n",
    "| ```Double``` |  $$\\mathbb{R}$$ | 2.7 |\n",
    "| ```Boolean``` |  $$\\{true, false\\}$$ | ```true``` |\n",
    "| ```Char``` | n.a. | 'c' |\n",
    "| ```String``` |  n.a. | \"Awesome\" |\n",
    "\n",
    "### 1.4.1 Numbers\n",
    "```Int``` and ```Double``` share many operators such as addition ```+```, subtraction ```-```, multiplication ```*``` and division ```/```."
   ]
  },
  {
   "cell_type": "code",
   "execution_count": null,
   "id": "81d16952-b415-4e66-8598-9e2666108690",
   "metadata": {},
   "outputs": [],
   "source": [
    "val x: Double = 3\n",
    "val y: Double = 6\n",
    "\n",
    "x + y\n",
    "x - y\n",
    "x * 3\n",
    "y / 2            // Division.\n",
    "y % 2            // Remainder or modulo."
   ]
  },
  {
   "cell_type": "markdown",
   "id": "459d0258-061b-4470-8e53-6d45560136b3",
   "metadata": {},
   "source": [
    "In addition, you can import the ```scala.math``` package for additional mathematical functions (for a full list see [the Scaladoc](https://www.scala-lang.org/api/current/scala/math/index.html)). Importing a package is done with the ```import``` statement."
   ]
  },
  {
   "cell_type": "code",
   "execution_count": null,
   "id": "e33a9fc9-1f66-434b-b53d-c4aa8baf9674",
   "metadata": {},
   "outputs": [],
   "source": [
    "import scala.math"
   ]
  },
  {
   "cell_type": "markdown",
   "id": "c2d4f49e-edfe-4ffa-afe1-a43610585844",
   "metadata": {},
   "source": [
    "To access the functions defined in ```scala.math``` you can use the dot notation, as can be seen below."
   ]
  },
  {
   "cell_type": "code",
   "execution_count": null,
   "id": "f6fffd0e-4cd6-47d0-9b5b-1c95a3ca6d1d",
   "metadata": {},
   "outputs": [],
   "source": [
    "math.pow(3, 6)   // Exponentiation, x^y.\n",
    "math.min(3, 6)\n",
    "math.max(3, 6)"
   ]
  },
  {
   "cell_type": "markdown",
   "id": "f77a65ee-406e-4ce3-af7c-9dd1a6c1d2e0",
   "metadata": {},
   "source": [
    "<div class=\"alert alert-block\">\n",
    "<b>Question 1</b><br/>\n",
    "Use the <code>scala.math</code> library to compute the following expressions by replacing the <code>_</code> in the codeblock below. You can comment out lines adding <code>//</code> at the start of the line to focus on one example without the compiler running into an error on unfinished lines.\n",
    "\n",
    "$$\n",
    "|2.123|\\\\\n",
    "\\sin(3\\pi) \\\\\n",
    "e^{10}\n",
    "$$\n",
    "    \n",
    "And try generating a (pseudo) random number. \n",
    "\n",
    "<details>\n",
    "<summary>Hint?</summary>\n",
    "$|x|$ is the absolute value of $x$, $\\sin$ is the sinus function, $\\pi$ is about $3.1415$ (but a 15 decimal precision constant is defined in ```scala.math``` accessible using the dot notation), $2^{10}=2\\cdot 2\\cdot 2\\cdot 2\\cdot 2\\cdot 2\\cdot 2\\cdot 2\\cdot 2\\cdot 2$ but try to use the exponent function.\n",
    "</details>\n",
    "</div>"
   ]
  },
  {
   "cell_type": "code",
   "execution_count": null,
   "id": "197eeee2-2b95-4b65-b490-ba1e1eeb9a4d",
   "metadata": {},
   "outputs": [],
   "source": [
    "math._(2.123)     // |2.123|\n",
    "math._(3*math._)  // sin(3pi)\n",
    "math._(10)        // e^10\n",
    "math._            // a random number"
   ]
  },
  {
   "cell_type": "markdown",
   "id": "bf288942-521b-48b7-9a04-9c5838f3e24a",
   "metadata": {},
   "source": [
    "### 1.4.2 Boolean (truth values)\n",
    "\n",
    "For Boolean types these are some common expressions:"
   ]
  },
  {
   "cell_type": "code",
   "execution_count": null,
   "id": "461790d5-662e-4794-b96c-e3330ffcf5e6",
   "metadata": {},
   "outputs": [],
   "source": [
    "true && true   // Logical and.\n",
    "true || false  // Logical or.\n",
    "true ^ true    // Logical xor.\n",
    "!true          // Negation."
   ]
  },
  {
   "cell_type": "markdown",
   "id": "acb4cee1-31ff-4bba-915c-d5f4d32b54a0",
   "metadata": {},
   "source": [
    "### 1.4.3 Combining numbers and booleans\n",
    "\n",
    "You can combine number types with Boolean types via comparisons. Making a comparison between two numbers, for example $3 > 6$ will return a Boolean type. In fact, the comparison is basically a function that takes two numbers as arguments and returns a Boolean.\n",
    "\n",
    "```scala\n",
    "def <(a: Int, b: Int): Boolean = ???\n",
    "```\n",
    "\n",
    "Here are some examples you might use in practise. Reading these abstract statements with symbols may take some getting used to.\n",
    "\n",
    "<div class=\"alert alert-block\">\n",
    "<b>Question 2</b><br/>\n",
    "Take your time to study the code below to get used to the syntax and symbols. Then, try to code the following expressions:\n",
    "    \n",
    "$$\n",
    "x > 10 \\vee y > 10 \\\\\n",
    "(x > 10 \\vee y > 10) \\wedge (x < 10 \\vee y < 10code) \\\\\n",
    "\\neg (x \\leq y) \\wedge (y \\geq 10)\n",
    "$$\n",
    "\n",
    "</div>"
   ]
  },
  {
   "cell_type": "code",
   "execution_count": null,
   "id": "b7a1ef0f-2ecd-44c7-a762-6c213eb36610",
   "metadata": {},
   "outputs": [],
   "source": [
    "val x: Double = 3\n",
    "val y: Double = 6\n",
    "\n",
    "x > y                    // Is x bigger than y?\n",
    "x <= 3 && x > 1          // Is x a number between 1 and 3 (inclusive)?\n",
    "x % 2 == 0 || x > 0      // Is x a positive even number?\n",
    "x % 2 == 0 ^ y % 2 == 0  // Is either x or y even, but not both?\n",
    "!(x < 0)                 // Is x is positive?"
   ]
  },
  {
   "cell_type": "markdown",
   "id": "3a2c1274-8b5c-413f-8832-4b29137e0a1f",
   "metadata": {},
   "source": [
    "## Next section\n",
    "\n",
    "We continue next with [1.5 Collections](01.05-scala_introduction-collections.ipynb)."
   ]
  }
 ],
 "metadata": {
  "kernelspec": {
   "display_name": "Scala",
   "language": "scala",
   "name": "scala"
  },
  "language_info": {
   "codemirror_mode": "text/x-scala",
   "file_extension": ".sc",
   "mimetype": "text/x-scala",
   "name": "scala",
   "nbconvert_exporter": "script",
   "version": "2.13.4"
  }
 },
 "nbformat": 4,
 "nbformat_minor": 5
}
