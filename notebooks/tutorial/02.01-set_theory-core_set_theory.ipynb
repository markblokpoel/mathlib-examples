{
 "cells": [
  {
   "cell_type": "markdown",
   "id": "e4b6d2f0-bf28-44bb-b6bf-b4d1ad9ecc7c",
   "metadata": {},
   "source": [
    "# 2. Set Theory\n",
    "\n",
    "Here, we illustrate how to code set theory expressions in Scala with mathlib. We assume that you've worked through the previous tutorial notebooks first. This chapter is partially based on Chapter 3 and Chapter 9 of the book Theoretical modeling for cognitive science and psychology by Blokpoel, M. & van Rooij, I. (2021).\n",
    "\n",
    "Blokpoel, M. & van Rooij, I. (2021). Theoretical modeling for cognitive science and psychology. Retrieved September 28, 2022 from [https://computationalcognitivescience.github.io/lovelace/](https://computationalcognitivescience.github.io/lovelace/home).\n",
    "\n",
    "Before we start, we need to import the relevant packages. The first time you run these imports, you may get many output messages (checks and downloads), this is normal. This might take some time."
   ]
  },
  {
   "cell_type": "code",
   "execution_count": null,
   "id": "30a4f24e-7362-4327-97bf-ffae9e6dd102",
   "metadata": {
    "tags": []
   },
   "outputs": [],
   "source": [
    "import $ivy.`com.markblokpoel::mathlib:0.9.0`\n",
    "import mathlib.set.SetTheory._"
   ]
  },
  {
   "cell_type": "markdown",
   "id": "8c3cedd2-0282-4f26-9327-e98c50bf749f",
   "metadata": {},
   "source": [
    "## 2.1 Core set theory\n",
    "\n",
    "<img style=\"float: right;width: 15rem;\" src=\"images/set-eg.svg\" />\n",
    "\n",
    "A set is a collection of distinct objects. For example, a set of people $P={Ramiro,Brenda,Molly}$, animals $A={cat,turtle,blue whale,cuttlefish}$ or numbers $N={1,5,7,12}$. Sets are usually denoted in math by a capital letter and their elements listed between curly brackets. They can also be visualized as circles. In Scala, it is convention to start value labels in lower case (see [Naming Conventions](https://docs.scala-lang.org/style/naming-conventions.html#constants-values-and-variables)).\n",
    "\n",
    "Sets can contain an infinite number of objects, e.g. all positive odd numbers $O={1,3,5,7,\\dots}$, but this is more difficult to represent in a computer so we skip it here."
   ]
  },
  {
   "cell_type": "code",
   "execution_count": null,
   "id": "48cafa00-4207-499e-bf82-63503502116b",
   "metadata": {},
   "outputs": [],
   "source": [
    "val people = Set(\n",
    "    \"Ramiro\",\n",
    "    \"Brenda\",\n",
    "    \"Molly\"\n",
    ")\n",
    "\n",
    "val animals = Set(\n",
    "    \"cat\",\n",
    "    \"turtle\",\n",
    "    \"blue whale\",\n",
    "    \"cuttlefish\"\n",
    ")\n",
    "\n",
    "val numbers = Set(1, 5, 7, 12)"
   ]
  },
  {
   "cell_type": "markdown",
   "id": "4d35984b-36d7-46bb-8063-bdd20f2694e7",
   "metadata": {
    "tags": []
   },
   "source": [
    "### 2.1.1 Set membership\n",
    "\n",
    "When we want to write that an object $x$ is (or is not) part of a set $X$, we use _set membership_ notation:\n",
    "\n",
    "<img style=\"float: right;width: 15rem;\" src=\"images/set-in.svg\" />\n",
    "\n",
    "$$5 \\in N\\\\17 \\notin N\\\\\\text{Ramiro}\\in P\\\\\\text{Saki}\\notin P$$\n",
    "\n",
    "\n",
    "In Scala code, set membership is a built-in function of Sets that returns a ```Boolean``` value (```true``` of ```false```). We call the function using the dot-notation:"
   ]
  },
  {
   "cell_type": "code",
   "execution_count": null,
   "id": "94c93b26-2a81-4e52-8638-7346183ec93f",
   "metadata": {},
   "outputs": [],
   "source": [
    "numbers.contains(5)\n",
    "numbers.contains(17)\n",
    "people.contains(\"Ramiro\")\n",
    "people.contains(\"Saki\")"
   ]
  },
  {
   "cell_type": "markdown",
   "id": "02f2b6b6-ceb4-4332-86b4-079e24ca6b90",
   "metadata": {},
   "source": [
    "### 2.1.2 Subset and superset\n",
    "\n",
    "<div style=\"float: right;width: 15rem;\">\n",
    "<img src=\"images/set-sub.svg\" /><br/>\n",
    "<img src=\"images/set-sup.svg\" />\n",
    "</div>\n",
    "\n",
    "Often, we want to express things like 'the set of mammals $M$ is part of the set of all animals $A$'. We then use _subset_ notation: $M\\subseteq A$ or $M\\subset A$. The latter means that $M$ is smaller than $A$.\n",
    "\n",
    "Vice versa, we can express that 'the set of all things on earth $T$ contains all animals $A$' using _superset_ notation: $T\\supseteq A$ or $T\\supset A$. The latter means that $T$ is bigger than $A$.\n",
    "\n",
    "In Scala, these relationships are defined as functions between two sets that can be called with two labels, depending on your preference:\n",
    "\n",
    "| math | Scala code | succinct Scala code |\n",
    "|:--:|:--:|:--:|\n",
    "| $\\subset$ | ```isSubsetOf``` | ```<``` |\n",
    "| $\\subseteq$ | ```isSubsetEqOf``` | ```<=``` |\n",
    "| $\\supset$ | ```isSupersetOf``` | ```>``` |\n",
    "| $\\supseteq$ | ```isSupersetEqOf``` | ```>=``` |\n"
   ]
  },
  {
   "cell_type": "code",
   "execution_count": null,
   "id": "f4a8bd8e-ec9f-4427-9aff-e401c88e01cd",
   "metadata": {},
   "outputs": [],
   "source": [
    "Set(\"cat\", \"blue whale\") isSubsetOf animals\n",
    "Set(\"Brenda\", \"Molly\") <= people\n",
    "Set(1, 5, 7, 12, 15, 22) > numbers\n",
    "numbers isSupersetOf numbers"
   ]
  },
  {
   "cell_type": "markdown",
   "id": "db13da0f-a96d-4c57-b265-07d996bc7164",
   "metadata": {},
   "source": [
    "### 2.1.3 Intersection, union and difference\n",
    "\n",
    "<div style=\"overflow: auto;\">\n",
    "    <img style=\"float: right;width: 15rem;\" src=\"images/set-two.svg\" />\n",
    "Let's look at what more we can do with two sets. For example, take the set of your friends and my friends.\n",
    "<br/><br/>\n",
    "    \n",
    "$$F_{you}=\\{\\text{John},\\text{Roberto},\\text{Holly},\\text{Doris},\\text{Charlene}\\}$$\n",
    "\n",
    "$$F_{me}=\\{\\text{Vicky},\\text{Charlene},\\text{Ramiro},\\text{Johnnie},\\text{Roberto}\\}$$\n",
    "</div>\n",
    "\n",
    "\n",
    "<div style=\"overflow: auto;\">\n",
    "<img style=\"float: right;width: 15rem;overflow: auto;\" src=\"images/set-intersection.svg\" />\n",
    "\n",
    "Who are our common friends? We use _set intersection_:\n",
    "\n",
    "$$F_{you}\\cap F_{me} = \\{\\text{Roberto},\\text{Charlene}\\}$$\n",
    "</div>\n",
    "\n",
    "<div style=\"overflow: auto;\">\n",
    "    <img style=\"float: right;width: 15rem;overflow: auto;\" src=\"images/set-union.svg\" />\n",
    "    \n",
    "Who do we know together? We use _set union_:\n",
    "\n",
    "$$F_{you}\\cup F_{me} = \\{\\text{John},\\text{Roberto},\\text{Holly},\\text{Doris},\\text{Charlene},\\text{Vicky},\\text{Ramiro},\\text{Johnnie}\\}$$\n",
    "</div>\n",
    "\n",
    "\n",
    "<div style=\"overflow: auto;\">\n",
    "<img style=\"float: right;width: 15rem;\" src=\"images/set-minus.svg\" />\n",
    "\n",
    "    Who do I know that you do not know? We use _set difference_:\n",
    "\n",
    "$$F_{me}\\setminus F_{you}=\\{\\text{Vicky},\\text{Ramiro},\\text{Johnnie}\\}$$\n",
    "</div>\n",
    "\n",
    "In Scala, these expressions are defined as functions between two sets that can be called with two labels, depending on your preference:\n",
    "\n",
    "| math | Scala code | succinct Scala code |\n",
    "|:--:|:--:|:--:|\n",
    "| $\\subset$ | ```intersect``` | ```/\\``` |\n",
    "| $\\subseteq$ | ```union``` | ```\\/``` |\n",
    "| $\\supset$ | ```diff``` | ```\\``` |"
   ]
  },
  {
   "cell_type": "code",
   "execution_count": null,
   "id": "ebdf1675-f4b1-4fd6-9851-ffee32beba57",
   "metadata": {},
   "outputs": [],
   "source": [
    "val fYou = Set(\"John\", \"Roberto\", \"Holly\", \"Doris\", \"Charlene\")\n",
    "val fMe = Set(\"Vicky\", \"Charlene\", \"Ramiro\", \"Johnnie\", \"Roberto\")\n",
    "\n",
    "fYou intersect fMe\n",
    "fYou \\/ fMe\n",
    "fYou \\ fMe"
   ]
  },
  {
   "cell_type": "markdown",
   "id": "d751d9e0-1e7b-4213-be76-7e8f913cef66",
   "metadata": {},
   "source": [
    "### 2.1.4 Random element\n",
    "\n",
    "While not often used in mathematical expressions, coding with sets sometimes necessitates retrieving an element from a set. For this, we can call the function ```.random``` on any set, which will return a random element from the set."
   ]
  },
  {
   "cell_type": "code",
   "execution_count": null,
   "id": "6f2d34e6-91ea-4598-ab85-8fc45759850b",
   "metadata": {},
   "outputs": [],
   "source": [
    "people.random\n",
    "(fYou \\/ fMe).random"
   ]
  },
  {
   "cell_type": "markdown",
   "id": "a7c2a8f6-fb57-441e-bfb2-7a2e6f15bd2c",
   "metadata": {},
   "source": [
    "### 2.1.5 Set builder\n",
    "\n",
    "A more advanced way to denote sets, is to define a set using _set builder_ notation. This allows us to define (build) a new set given other set(s). A set builder consists of two parts, a variable and a logical predicate:\n",
    "\n",
    "$$\\{\\text{variable}~|~\\text{predicate}\\}$$\n",
    "\n",
    "<div style=\"overflow: auto;\">\n",
    "    <img style=\"float: right;width: 15rem;overflow: auto;\" src=\"images/set-builder.svg\" />\n",
    "\n",
    "Let's look at an example and build a set of all mammals from $A$. We explain logical predicates below, for now lets use verbal language:\n",
    "\n",
    "$$M=\\{a~|~a\\in A\\text{ and }a\\text{ is a mammal}\\}$$\n",
    "\n",
    "You can read this as '$M$ contains all $a$'s _with the property that_ $a\\in A$ and $a$ is a mammal'.\n",
    "</div>\n",
    "\n",
    "In Scala, we'll first need to define a function that represents the statement 'is a mammal'. This function returns a Boolean which is true is the animal provided is a blue whale or a cat (i.e., a mammal). This function is of course a toy example, we're not going to exhaustively list all mammals.\n",
    "\n",
    "Next, we call set builder in two ways, similar to before. If we use the word ```build``` then the expression is simple. If we use the symbol notation, which more closely represents the mathematical syntax, Scala will expect us to add an underscore to the function. The reason for this is beyond the scope of this tutorial, but if no underscore is provided the compiler gives us a ```missing argument list``` error."
   ]
  },
  {
   "cell_type": "code",
   "execution_count": null,
   "id": "99c06ca2-5035-41ce-86c7-0678123c970b",
   "metadata": {},
   "outputs": [],
   "source": [
    "def isMammal(animal: String): Boolean = \n",
    "    (animal == \"blue whale\") || (animal == \"cat\")\n",
    "\n",
    "animals build isMammal\n",
    "\n",
    "{ animals | isMammal _ }"
   ]
  },
  {
   "cell_type": "markdown",
   "id": "27730d6f-628a-457a-b485-116318079a77",
   "metadata": {},
   "source": [
    "### 2.1.6 Cardinal product\n",
    "\n",
    "<div style=\"overflow: auto;\">\n",
    "    <img style=\"float: right;width: 15rem;overflow: auto;\" src=\"images/set-cardinal.svg\" />\n",
    "Set builder notation is useful to filter objects from a single set, but becomes very potent when building from multiple sets. For example:\n",
    "\n",
    "$$F=\\{(p,a)~|~p\\in P\\text{ AND }a\\in A\\}$$\n",
    "</div>\n",
    "\n",
    "Read this as '$F$ contains all pairs of $p$ and $a$ _with the property that_ $p$ is a person and $a$ is an animal'. Pairs are denoted in brackets. You can think of $F$ containing all possible combinations of person-animal pairs. For example, these are all the options you have when trying to guess what the favorite animals are of your friends.\n",
    "\n",
    "Many other set builders are possible too, but this specific 'pair builder' is called the _cardinal product_ of two sets. It is used often enough that it has its own special symbol: $F=P\\times A$."
   ]
  },
  {
   "cell_type": "code",
   "execution_count": null,
   "id": "4676535c-8638-4d70-966e-d2cde341d885",
   "metadata": {},
   "outputs": [],
   "source": [
    "animals x people\n",
    "people x animals"
   ]
  },
  {
   "cell_type": "markdown",
   "id": "fcb5ceca-0925-4e5d-8e2e-fc2472ba96ad",
   "metadata": {},
   "source": [
    "### 2.1.7 Special sets\n",
    "\n",
    "Not all special sets that are defined mathematically are available in Scala. Specifically sets with infinite number of elements, as for example the set with all natural numbers, are not available. The reason being that they cannot be (explicitly) represented in memory, obviously. There are ways around this, but that is outside the scope of this tutorial.\n",
    "\n",
    "The empty set is available, as is a way to create a set from a range of numbers. Note that with the empty set, you may need to specify the type of the elements of the set in order to let the compiler know what it is dealing with."
   ]
  },
  {
   "cell_type": "code",
   "execution_count": null,
   "id": "27b49bff-c2c8-4521-8519-a9b1fb32031c",
   "metadata": {},
   "outputs": [],
   "source": [
    "Set.empty         // Empty set \n",
    "Set.empty[String] // Empty set of String\n",
    "Set.empty[Int]    // Empty set of Integers\n",
    "(0 until 10).toSet\n",
    "(0 to 10).toSet\n",
    "('a' to 'z').toSet"
   ]
  },
  {
   "cell_type": "markdown",
   "id": "0ed88b6b-fdf3-44e3-8990-ce2f836e5bfd",
   "metadata": {},
   "source": [
    "### 2.1.8 Sum and product\n",
    "\n",
    "For sets consisting of numbers (integers, doubles or floats), we can evaluate the sum and product of those numbers as follows:"
   ]
  },
  {
   "cell_type": "code",
   "execution_count": null,
   "id": "5d384362-5fdd-4e95-b675-bc4a8577981f",
   "metadata": {},
   "outputs": [],
   "source": [
    "sum(Set(1,2,3, 4))\n",
    "product(Set(1,2,3, 4))"
   ]
  },
  {
   "cell_type": "markdown",
   "id": "fc3dd5f6-14fc-4125-a813-6bf7b02dcc27",
   "metadata": {},
   "source": [
    "### 2.1.9 Examples of combining set expressions\n",
    "\n",
    "We can combine all the expressions above, just like in the mathematic expressions to great effect. For example, we can build a set with pairs of food, where one element is healthy and the other is unhealthy. We implement two functions that return a Boolean whether or not a food is (un)healthy, then use two set builders and the cardinal product to denote this set of 'balanced' diets."
   ]
  },
  {
   "cell_type": "code",
   "execution_count": null,
   "id": "a70fb4cd-d1f1-4518-9e44-32e942dba1ee",
   "metadata": {},
   "outputs": [],
   "source": [
    "val food = Set(\"apple\", \"fries\", \"lettuce\", \"candy\")\n",
    "def isHealthy(food: String): Boolean = (food == \"apple\") || (food == \"lettuce\")\n",
    "def isUnhealthy(food: String): Boolean = !isHealthy(food)\n",
    "\n",
    "{ food | isHealthy _ } x { food | isUnhealthy _ }"
   ]
  },
  {
   "cell_type": "markdown",
   "id": "1162fd03-2a4d-4da1-84f9-7444f069abf7",
   "metadata": {},
   "source": [
    "## Next section\n",
    "\n",
    "We continue next with [2.2 Advanced set theory](./02.02-set_theory-advanced_set_theory.ipynb)."
   ]
  }
 ],
 "metadata": {
  "kernelspec": {
   "display_name": "Scala (2.13.12)",
   "language": "scala",
   "name": "scala21312"
  },
  "language_info": {
   "codemirror_mode": "text/x-scala",
   "file_extension": ".sc",
   "mimetype": "text/x-scala",
   "name": "scala",
   "nbconvert_exporter": "script",
   "version": "2.13.12"
  }
 },
 "nbformat": 4,
 "nbformat_minor": 5
}
