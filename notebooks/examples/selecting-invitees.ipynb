{
 "cells": [
  {
   "cell_type": "markdown",
   "id": "9562be14-6ec3-46b0-b76c-64c5aafba2af",
   "metadata": {},
   "source": [
    "# Selecting invitees placeholder"
   ]
  }
 ],
 "metadata": {
  "kernelspec": {
   "display_name": "Scala",
   "language": "scala",
   "name": "scala"
  },
  "language_info": {
   "codemirror_mode": "text/x-scala",
   "file_extension": ".sc",
   "mimetype": "text/x-scala",
   "name": "scala",
   "nbconvert_exporter": "script",
   "version": "2.13.8"
  }
 },
 "nbformat": 4,
 "nbformat_minor": 5
}
